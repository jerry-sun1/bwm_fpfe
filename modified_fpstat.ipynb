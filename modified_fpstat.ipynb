{
 "cells": [
  {
   "cell_type": "code",
   "execution_count": 10,
   "id": "54cbe7ff",
   "metadata": {},
   "outputs": [],
   "source": [
    "import numpy as np\n",
    "import scipy.linalg as sl\n",
    "from enterprise.signals import (gp_signals, parameter, signal_base, utils,\n",
    "                                white_signals)\n",
    "from enterprise_extensions import blocks\n",
    "from enterprise.signals import selections\n",
    "import healpy as hp\n",
    "import matplotlib.pyplot as plt"
   ]
  },
  {
   "cell_type": "code",
   "execution_count": 11,
   "id": "b482116e",
   "metadata": {},
   "outputs": [],
   "source": [
    "def get_xCy(Nvec, T, sigmainv, x, y):\n",
    "    \"\"\"Get x^T C^{-1} y\"\"\"\n",
    "    TNx = Nvec.solve(x, left_array=T)\n",
    "    TNy = Nvec.solve(y, left_array=T)\n",
    "    xNy = Nvec.solve(y, left_array=x)\n",
    "    return xNy - TNx @ sigmainv @ TNy\n",
    "\n",
    "\n",
    "def get_TCy(Nvec, T, y, sigmainv, TNT):\n",
    "    \"\"\"Get T^T C^{-1} y\"\"\"\n",
    "    TNy = Nvec.solve(y, left_array=T)\n",
    "    return TNy - TNT @ sigmainv @ TNy\n",
    "\n",
    "\n",
    "def innerprod(Nvec, T, sigmainv, TNT, x, y):\n",
    "    \"\"\"Get the inner product between x and y\"\"\"\n",
    "    xCy = get_xCy(Nvec, T, sigmainv, x, y)\n",
    "    TCy = get_TCy(Nvec, T, y, sigmainv, TNT)\n",
    "    TCx = get_TCy(Nvec, T, x, sigmainv, TNT)\n",
    "    return xCy - TCx.T @ sigmainv @ TCy"
   ]
  },
  {
   "cell_type": "code",
   "execution_count": 12,
   "id": "269c1df8",
   "metadata": {},
   "outputs": [],
   "source": [
    "class FpStat(object):\n",
    "    \"\"\"\n",
    "    Class for the Fp-statistic.\n",
    "\n",
    "    :param psrs: List of `enterprise` Pulsar instances.\n",
    "    :param noisedict: Dictionary of white noise parameter values. Default=None\n",
    "    :param psrTerm: Include the pulsar term in the CW signal model. Default=True\n",
    "    :param bayesephem: Include BayesEphem model. Default=True\n",
    "    \"\"\"\n",
    "\n",
    "    def __init__(self, psrs, noisedict=None,\n",
    "                 psrTerm=True, bayesephem=True, pta=None, tnequad=False, select=None):\n",
    "\n",
    "        if pta is None:\n",
    "\n",
    "            # initialize standard model with fixed white noise\n",
    "            # and powerlaw red noise\n",
    "            # uses the implementation of ECORR in gp_signals\n",
    "            print('Initializing the model...')\n",
    "\n",
    "            tmin_sec = np.min([p.toas.min() for p in psrs])\n",
    "            tmax_sec = np.max([p.toas.max() for p in psrs])\n",
    "            \n",
    "            tmin_mjd = tmin_sec/3600/24\n",
    "            tmax_mjd = tmax_sec/3600/24\n",
    "            \n",
    "            Tspan_sec = tmax_sec - tmin_sec\n",
    "            s = gp_signals.TimingModel(use_svd=True)\n",
    "            s += blocks.bwm_sglpsr_block(tmin_mjd, tmax_mjd, )\n",
    "            if select is not None:\n",
    "                s += blocks.white_noise_block(vary=False, inc_ecorr=False, gp_ecorr=False, select=select)\n",
    "            else:\n",
    "                noselect = selections.Selection(selections.no_selection)\n",
    "                s += blocks.white_noise_block(vary=False, inc_ecorr=False, gp_ecorr=False, select=noselect)\n",
    "\n",
    "\n",
    "            # adding white-noise, and acting on psr objects\n",
    "            models = []\n",
    "            for p in psrs:\n",
    "                models.append(s(p))\n",
    "            \n",
    "\n",
    "            pta = signal_base.PTA(models)\n",
    "\n",
    "            # set white noise parameters\n",
    "            if noisedict is None:\n",
    "                print('No noise dictionary provided!')\n",
    "            else:\n",
    "                pta.set_default_params(noisedict)\n",
    "\n",
    "            self.pta = pta\n",
    "\n",
    "        else:\n",
    "            # user can specify their own pta object\n",
    "            # if ECORR is included, use the implementation in gp_signals\n",
    "            self.pta = pta\n",
    "\n",
    "        self.psrs = psrs\n",
    "        self.noisedict = noisedict\n",
    "\n",
    "        # precompute important bits:\n",
    "        self.phiinvs = self.pta.get_phiinv(noisedict)\n",
    "        self.TNTs = self.pta.get_TNT(noisedict)\n",
    "        self.Nvecs = self.pta.get_ndiag(noisedict)\n",
    "        self.Ts = self.pta.get_basis(noisedict)\n",
    "        # self.cf_TNT = [sl.cho_factor(TNT + np.diag(phiinv)) for TNT, phiinv in zip(self.TNTs, self.phiinvs)]\n",
    "        self.sigmainvs = [np.linalg.pinv(TNT + np.diag(phiinv)) for TNT, phiinv in zip(self.TNTs, self.phiinvs)]\n",
    "\n",
    "    def compute_Fp(self, fgw):\n",
    "        \"\"\"\n",
    "        Computes the Fp-statistic.\n",
    "\n",
    "        :param fgw: GW frequency\n",
    "\n",
    "        :returns:\n",
    "            fstat: value of the Fp-statistic at the given frequency\n",
    "\n",
    "        \"\"\"\n",
    "        N = np.zeros(2)\n",
    "        M = np.zeros((2, 2))\n",
    "        fstat = 0\n",
    "        for psr, Nvec, TNT, T, sigmainv in zip(self.psrs, self.Nvecs, self.TNTs, self.Ts, self.sigmainvs):\n",
    "\n",
    "            ntoa = len(psr.toas)\n",
    "\n",
    "            A = np.zeros((2, ntoa))\n",
    "            A[0, :] = 1 / fgw ** (1 / 3) * np.sin(2 * np.pi * fgw * psr.toas)\n",
    "            A[1, :] = 1 / fgw ** (1 / 3) * np.cos(2 * np.pi * fgw * psr.toas)\n",
    "\n",
    "            ip1 = innerprod(Nvec, T, sigmainv, TNT, A[0, :], psr.residuals)\n",
    "            # logger.info(ip1)\n",
    "            ip2 = innerprod(Nvec, T, sigmainv, TNT, A[1, :], psr.residuals)\n",
    "            # logger.info(ip2)\n",
    "            N = np.array([ip1, ip2])\n",
    "\n",
    "            # define M matrix M_ij=(A_i|A_j)\n",
    "            for jj in range(2):\n",
    "                for kk in range(2):\n",
    "                    M[jj, kk] = innerprod(Nvec, T, sigmainv, TNT, A[jj, :], A[kk, :])\n",
    "\n",
    "            # take inverse of M\n",
    "            Minv = np.linalg.pinv(M)\n",
    "            fstat += 0.5 * np.dot(N, np.dot(Minv, N))\n",
    "\n",
    "        return fstat\n",
    "    \n",
    "    def compute_Fp_bwm(self, t0):\n",
    "        \"\"\"\n",
    "        Computes the Fp statistic for GW memory\n",
    "        \n",
    "        :param t0: epoch of burst\n",
    "        \n",
    "        :returns:\n",
    "            fstat: value of Fp-statistic for a memory signal at the given epoch\n",
    "        \"\"\"\n",
    "        \n",
    "        fstat = 0\n",
    "        for psr, Nvec, TNT, T, sigmainv in zip(self.psrs, self.Nvecs, self.TNTs, self.Ts, self.sigmainvs):\n",
    "\n",
    "            ntoa = len(psr.toas)\n",
    "\n",
    "            A = np.zeros((1, ntoa))\n",
    "            A[0, :] = np.heaviside(psr.toas - t0, 0) * (psr.toas - t0)\n",
    "#             plt.scatter(psr.toas, A[0,:], )\n",
    "#             plt.title(\"Template for BWM\")\n",
    "#             plt.show()\n",
    "            \n",
    "\n",
    "            N = innerprod(Nvec, T, sigmainv, TNT, A[0, :], psr.residuals)\n",
    "#             print(ip1)\n",
    "            # define M matrix, only one element for bwm\n",
    "\n",
    "            M = innerprod(Nvec, T, sigmainv, TNT, A[0, :], A[0, :])\n",
    "#             print(M)\n",
    "\n",
    "            # take inverse of M\n",
    "            Minv = 1/M\n",
    "            fstat += 0.5 *N**2 * Minv\n",
    "        return fstat\n",
    "        "
   ]
  },
  {
   "cell_type": "markdown",
   "id": "73779048",
   "metadata": {},
   "source": [
    "# Let's try this on one pulsr"
   ]
  },
  {
   "cell_type": "code",
   "execution_count": 5,
   "id": "a58c88cb",
   "metadata": {},
   "outputs": [
    {
     "name": "stderr",
     "output_type": "stream",
     "text": [
      "WARNING: AstropyDeprecationWarning: The private astropy._erfa module has been made into its own package, pyerfa, which is a dependency of astropy and can be imported directly using \"import erfa\" [astropy._erfa]\n"
     ]
    }
   ],
   "source": [
    "import pickle\n",
    "nano12p5_pkl = '/home/nima/nanograv/12p5yr_bwm/channelized_12yr_v3_partim_py3.pkl'\n",
    "with open(nano12p5_pkl, 'rb') as pklin:\n",
    "    allpsrs = pickle.load(pklin)\n",
    "    \n",
    "testpsr = allpsrs[0]\n",
    "psrnames = [p.name for p in allpsrs[0:4]]\n",
    "\n",
    "import json\n",
    "nano12p5_wndict = '/home/nima/nanograv/12p5yr_bwm/wn_noisedict.json'\n",
    "with open(nano12p5_wndict, 'rb') as wndict_in:\n",
    "    noisedict = json.load(wndict_in)\n",
    "\n"
   ]
  },
  {
   "cell_type": "code",
   "execution_count": 6,
   "id": "11fc9b3f",
   "metadata": {},
   "outputs": [
    {
     "data": {
      "text/plain": [
       "{'B1855+09_430_ASP_efac': 1.149036589204419,\n",
       " 'B1855+09_430_ASP_log10_ecorr': -7.415374510054153,\n",
       " 'B1855+09_430_ASP_log10_equad': -7.379759355541006,\n",
       " 'B1855+09_430_PUPPI_efac': 1.0543836580555548,\n",
       " 'B1855+09_430_PUPPI_log10_ecorr': -5.671108063699219,\n",
       " 'B1855+09_430_PUPPI_log10_equad': -6.348065001180634,\n",
       " 'B1855+09_L-wide_ASP_efac': 1.080749375878354,\n",
       " 'B1855+09_L-wide_ASP_log10_ecorr': -6.092899143243734,\n",
       " 'B1855+09_L-wide_ASP_log10_equad': -6.51289896375955,\n",
       " 'B1855+09_L-wide_PUPPI_efac': 1.2429537099744354,\n",
       " 'B1855+09_L-wide_PUPPI_log10_ecorr': -6.641281263572077,\n",
       " 'B1855+09_L-wide_PUPPI_log10_equad': -7.821737281350602,\n",
       " 'B1937+21_L-wide_ASP_efac': 2.048754020884262,\n",
       " 'B1937+21_L-wide_ASP_log10_ecorr': -6.940958996081342,\n",
       " 'B1937+21_L-wide_ASP_log10_equad': -6.785369742733748,\n",
       " 'B1937+21_L-wide_PUPPI_efac': 2.12041666470792,\n",
       " 'B1937+21_L-wide_PUPPI_log10_ecorr': -7.037572450266321,\n",
       " 'B1937+21_L-wide_PUPPI_log10_equad': -7.147037241326325,\n",
       " 'B1937+21_Rcvr1_2_GASP_efac': 1.1708200812403644,\n",
       " 'B1937+21_Rcvr1_2_GASP_log10_ecorr': -6.9573181220861695,\n",
       " 'B1937+21_Rcvr1_2_GASP_log10_equad': -7.028404298685201,\n",
       " 'B1937+21_Rcvr1_2_GUPPI_efac': 1.4415081390299156,\n",
       " 'B1937+21_Rcvr1_2_GUPPI_log10_ecorr': -6.873056983920257,\n",
       " 'B1937+21_Rcvr1_2_GUPPI_log10_equad': -7.139419197676975,\n",
       " 'B1937+21_Rcvr_800_GASP_efac': 2.1333453783210095,\n",
       " 'B1937+21_Rcvr_800_GASP_log10_ecorr': -8.024096164984243,\n",
       " 'B1937+21_Rcvr_800_GASP_log10_equad': -6.669528646515994,\n",
       " 'B1937+21_Rcvr_800_GUPPI_efac': 4.219838621260683,\n",
       " 'B1937+21_Rcvr_800_GUPPI_log10_ecorr': -6.441588828662218,\n",
       " 'B1937+21_Rcvr_800_GUPPI_log10_equad': -6.603208890098822,\n",
       " 'B1937+21_S-wide_ASP_efac': 1.5159731379775645,\n",
       " 'B1937+21_S-wide_ASP_log10_ecorr': -6.55920330997421,\n",
       " 'B1937+21_S-wide_ASP_log10_equad': -6.781862531120971,\n",
       " 'B1937+21_S-wide_PUPPI_efac': 1.2470571693911434,\n",
       " 'B1937+21_S-wide_PUPPI_log10_ecorr': -6.867655505641185,\n",
       " 'B1937+21_S-wide_PUPPI_log10_equad': -7.011196636087005,\n",
       " 'B1953+29_430_ASP_efac': 1.0959834459004414,\n",
       " 'B1953+29_430_ASP_log10_ecorr': -6.708721056458093,\n",
       " 'B1953+29_430_ASP_log10_equad': -6.968461432753658,\n",
       " 'B1953+29_430_PUPPI_efac': 1.2278825282026293,\n",
       " 'B1953+29_430_PUPPI_log10_ecorr': -5.228786570159053,\n",
       " 'B1953+29_430_PUPPI_log10_equad': -7.04610187176654,\n",
       " 'B1953+29_L-wide_ASP_efac': 1.3518344895001828,\n",
       " 'B1953+29_L-wide_ASP_log10_ecorr': -7.041138848116017,\n",
       " 'B1953+29_L-wide_ASP_log10_equad': -6.883663754457833,\n",
       " 'B1953+29_L-wide_PUPPI_efac': 1.0614508352845797,\n",
       " 'B1953+29_L-wide_PUPPI_log10_ecorr': -7.385606441924905,\n",
       " 'B1953+29_L-wide_PUPPI_log10_equad': -7.463758861348976,\n",
       " 'J0023+0923_430_ASP_efac': 1.0406298798508282,\n",
       " 'J0023+0923_430_ASP_log10_ecorr': -7.247114834645301,\n",
       " 'J0023+0923_430_ASP_log10_equad': -7.515587544312441,\n",
       " 'J0023+0923_430_PUPPI_efac': 1.0303417825587,\n",
       " 'J0023+0923_430_PUPPI_log10_ecorr': -7.204956301397655,\n",
       " 'J0023+0923_430_PUPPI_log10_equad': -6.854981065840284,\n",
       " 'J0023+0923_L-wide_ASP_efac': 1.1650439914860966,\n",
       " 'J0023+0923_L-wide_ASP_log10_ecorr': -7.090334519441014,\n",
       " 'J0023+0923_L-wide_ASP_log10_equad': -6.969754197772692,\n",
       " 'J0023+0923_L-wide_PUPPI_efac': 1.1184544897926894,\n",
       " 'J0023+0923_L-wide_PUPPI_log10_ecorr': -7.815809476021381,\n",
       " 'J0023+0923_L-wide_PUPPI_log10_equad': -7.039565135200931,\n",
       " 'J0030+0451_430_ASP_efac': 1.178988376393598,\n",
       " 'J0030+0451_430_ASP_log10_ecorr': -7.637597883725108,\n",
       " 'J0030+0451_430_ASP_log10_equad': -7.60151264056324,\n",
       " 'J0030+0451_430_PUPPI_efac': 1.0168220759726072,\n",
       " 'J0030+0451_430_PUPPI_log10_ecorr': -7.458377805782614,\n",
       " 'J0030+0451_430_PUPPI_log10_equad': -7.8144222164663235,\n",
       " 'J0030+0451_L-wide_ASP_efac': 1.1594082526710712,\n",
       " 'J0030+0451_L-wide_ASP_log10_ecorr': -7.652790501212441,\n",
       " 'J0030+0451_L-wide_ASP_log10_equad': -7.526120409087749,\n",
       " 'J0030+0451_L-wide_PUPPI_efac': 1.1157243178133207,\n",
       " 'J0030+0451_L-wide_PUPPI_log10_ecorr': -7.712152616003756,\n",
       " 'J0030+0451_L-wide_PUPPI_log10_equad': -7.687444375922908,\n",
       " 'J0030+0451_S-wide_PUPPI_efac': 0.991497940413971,\n",
       " 'J0030+0451_S-wide_PUPPI_log10_ecorr': -7.4855687647637446,\n",
       " 'J0030+0451_S-wide_PUPPI_log10_equad': -7.396119136419303,\n",
       " 'J0340+4130_Rcvr1_2_GUPPI_efac': 1.0259642829541946,\n",
       " 'J0340+4130_Rcvr1_2_GUPPI_log10_ecorr': -7.622018530342815,\n",
       " 'J0340+4130_Rcvr1_2_GUPPI_log10_equad': -7.386039778629237,\n",
       " 'J0340+4130_Rcvr_800_GUPPI_efac': 1.0538137141624955,\n",
       " 'J0340+4130_Rcvr_800_GUPPI_log10_ecorr': -7.393209598102237,\n",
       " 'J0340+4130_Rcvr_800_GUPPI_log10_equad': -7.3382576654191105,\n",
       " 'J0613-0200_Rcvr1_2_GASP_efac': 1.0670783724500694,\n",
       " 'J0613-0200_Rcvr1_2_GASP_log10_ecorr': -7.518791621441214,\n",
       " 'J0613-0200_Rcvr1_2_GASP_log10_equad': -7.5596546617250215,\n",
       " 'J0613-0200_Rcvr1_2_GUPPI_efac': 1.0430747567523209,\n",
       " 'J0613-0200_Rcvr1_2_GUPPI_log10_ecorr': -6.783106192555926,\n",
       " 'J0613-0200_Rcvr1_2_GUPPI_log10_equad': -7.616764039524012,\n",
       " 'J0613-0200_Rcvr_800_GASP_efac': 1.0914149510171187,\n",
       " 'J0613-0200_Rcvr_800_GASP_log10_ecorr': -7.737621417529334,\n",
       " 'J0613-0200_Rcvr_800_GASP_log10_equad': -7.6069868785882795,\n",
       " 'J0613-0200_Rcvr_800_GUPPI_efac': 1.1066698572535434,\n",
       " 'J0613-0200_Rcvr_800_GUPPI_log10_ecorr': -6.785665911883737,\n",
       " 'J0613-0200_Rcvr_800_GUPPI_log10_equad': -6.650927606600988,\n",
       " 'J0636+5128_Rcvr1_2_GUPPI_efac': 1.0545966243498794,\n",
       " 'J0636+5128_Rcvr1_2_GUPPI_log10_ecorr': -7.48542286828852,\n",
       " 'J0636+5128_Rcvr1_2_GUPPI_log10_equad': -7.529112931457501,\n",
       " 'J0636+5128_Rcvr_800_GUPPI_efac': 1.0078085497374172,\n",
       " 'J0636+5128_Rcvr_800_GUPPI_log10_ecorr': -7.447351667842772,\n",
       " 'J0636+5128_Rcvr_800_GUPPI_log10_equad': -6.971968785693322,\n",
       " 'J0645+5158_Rcvr1_2_GUPPI_efac': 1.0435585167422876,\n",
       " 'J0645+5158_Rcvr1_2_GUPPI_log10_ecorr': -7.469787739972568,\n",
       " 'J0645+5158_Rcvr1_2_GUPPI_log10_equad': -7.513289178616864,\n",
       " 'J0645+5158_Rcvr_800_GUPPI_efac': 0.978554109695437,\n",
       " 'J0645+5158_Rcvr_800_GUPPI_log10_ecorr': -7.21903125633763,\n",
       " 'J0645+5158_Rcvr_800_GUPPI_log10_equad': -7.062675708760795,\n",
       " 'J0740+6620_Rcvr1_2_GUPPI_efac': 1.0343089991269732,\n",
       " 'J0740+6620_Rcvr1_2_GUPPI_log10_ecorr': -7.70608072561388,\n",
       " 'J0740+6620_Rcvr1_2_GUPPI_log10_equad': -7.761528816628728,\n",
       " 'J0740+6620_Rcvr_800_GUPPI_efac': 1.004701602096265,\n",
       " 'J0740+6620_Rcvr_800_GUPPI_log10_ecorr': -7.332857509784389,\n",
       " 'J0740+6620_Rcvr_800_GUPPI_log10_equad': -7.164147505224222,\n",
       " 'J0931-1902_Rcvr1_2_GUPPI_efac': 0.9978266264621855,\n",
       " 'J0931-1902_Rcvr1_2_GUPPI_log10_ecorr': -7.513888675725786,\n",
       " 'J0931-1902_Rcvr1_2_GUPPI_log10_equad': -6.368762394081646,\n",
       " 'J0931-1902_Rcvr_800_GUPPI_efac': 1.0273179327732913,\n",
       " 'J0931-1902_Rcvr_800_GUPPI_log10_ecorr': -7.493009784535781,\n",
       " 'J0931-1902_Rcvr_800_GUPPI_log10_equad': -7.395637610513801,\n",
       " 'J1012+5307_Rcvr1_2_GASP_efac': 1.0591690736069472,\n",
       " 'J1012+5307_Rcvr1_2_GASP_log10_ecorr': -6.520878820970742,\n",
       " 'J1012+5307_Rcvr1_2_GASP_log10_equad': -7.337569048606985,\n",
       " 'J1012+5307_Rcvr1_2_GUPPI_efac': 1.0062638587421908,\n",
       " 'J1012+5307_Rcvr1_2_GUPPI_log10_ecorr': -6.39401084619692,\n",
       " 'J1012+5307_Rcvr1_2_GUPPI_log10_equad': -7.777675843382624,\n",
       " 'J1012+5307_Rcvr_800_GASP_efac': 1.134064401904284,\n",
       " 'J1012+5307_Rcvr_800_GASP_log10_ecorr': -7.672411945457032,\n",
       " 'J1012+5307_Rcvr_800_GASP_log10_equad': -7.335838608622016,\n",
       " 'J1012+5307_Rcvr_800_GUPPI_efac': 1.062753909375921,\n",
       " 'J1012+5307_Rcvr_800_GUPPI_log10_ecorr': -7.741968522547623,\n",
       " 'J1012+5307_Rcvr_800_GUPPI_log10_equad': -6.506908723632507,\n",
       " 'J1024-0719_Rcvr1_2_GASP_efac': 0.910756763515209,\n",
       " 'J1024-0719_Rcvr1_2_GASP_log10_ecorr': -7.131954410884169,\n",
       " 'J1024-0719_Rcvr1_2_GASP_log10_equad': -6.739263270711485,\n",
       " 'J1024-0719_Rcvr1_2_GUPPI_efac': 1.0291119595206812,\n",
       " 'J1024-0719_Rcvr1_2_GUPPI_log10_ecorr': -6.700450821263385,\n",
       " 'J1024-0719_Rcvr1_2_GUPPI_log10_equad': -7.7609576526780275,\n",
       " 'J1024-0719_Rcvr_800_GASP_efac': 0.9894501502567977,\n",
       " 'J1024-0719_Rcvr_800_GASP_log10_ecorr': -7.066941892042146,\n",
       " 'J1024-0719_Rcvr_800_GASP_log10_equad': -7.194552724916308,\n",
       " 'J1024-0719_Rcvr_800_GUPPI_efac': 1.0271589257321567,\n",
       " 'J1024-0719_Rcvr_800_GUPPI_log10_ecorr': -7.348793203212565,\n",
       " 'J1024-0719_Rcvr_800_GUPPI_log10_equad': -7.836287384896643,\n",
       " 'J1125+7819_Rcvr1_2_GUPPI_efac': 1.0722721363434835,\n",
       " 'J1125+7819_Rcvr1_2_GUPPI_log10_ecorr': -7.396928155031416,\n",
       " 'J1125+7819_Rcvr1_2_GUPPI_log10_equad': -6.551388027613723,\n",
       " 'J1125+7819_Rcvr_800_GUPPI_efac': 1.0493747978072194,\n",
       " 'J1125+7819_Rcvr_800_GUPPI_log10_ecorr': -5.303607335077735,\n",
       " 'J1125+7819_Rcvr_800_GUPPI_log10_equad': -5.746485292586326,\n",
       " 'J1453+1902_430_PUPPI_efac': 0.9986419831773875,\n",
       " 'J1453+1902_430_PUPPI_log10_ecorr': -6.893606742780536,\n",
       " 'J1453+1902_430_PUPPI_log10_equad': -7.086976292634596,\n",
       " 'J1453+1902_L-wide_PUPPI_efac': 1.250519936636853,\n",
       " 'J1453+1902_L-wide_PUPPI_log10_ecorr': -7.349945132590309,\n",
       " 'J1453+1902_L-wide_PUPPI_log10_equad': -7.409174757107404,\n",
       " 'J1455-3330_Rcvr1_2_GASP_efac': 1.1400870761562596,\n",
       " 'J1455-3330_Rcvr1_2_GASP_log10_ecorr': -5.860332688998369,\n",
       " 'J1455-3330_Rcvr1_2_GASP_log10_equad': -7.192520761470676,\n",
       " 'J1455-3330_Rcvr1_2_GUPPI_efac': 1.082303099576083,\n",
       " 'J1455-3330_Rcvr1_2_GUPPI_log10_ecorr': -7.629255580321534,\n",
       " 'J1455-3330_Rcvr1_2_GUPPI_log10_equad': -7.524353545826194,\n",
       " 'J1455-3330_Rcvr_800_GASP_efac': 1.2328191470185799,\n",
       " 'J1455-3330_Rcvr_800_GASP_log10_ecorr': -7.085458304995403,\n",
       " 'J1455-3330_Rcvr_800_GASP_log10_equad': -7.050869987259775,\n",
       " 'J1455-3330_Rcvr_800_GUPPI_efac': 1.0054353177825495,\n",
       " 'J1455-3330_Rcvr_800_GUPPI_log10_ecorr': -6.526567653068877,\n",
       " 'J1455-3330_Rcvr_800_GUPPI_log10_equad': -7.558835853872056,\n",
       " 'J1600-3053_Rcvr1_2_GASP_efac': 1.134993789980654,\n",
       " 'J1600-3053_Rcvr1_2_GASP_log10_ecorr': -7.134558712552095,\n",
       " 'J1600-3053_Rcvr1_2_GASP_log10_equad': -6.960586084616913,\n",
       " 'J1600-3053_Rcvr1_2_GUPPI_efac': 1.0521556985294778,\n",
       " 'J1600-3053_Rcvr1_2_GUPPI_log10_ecorr': -6.899208552923536,\n",
       " 'J1600-3053_Rcvr1_2_GUPPI_log10_equad': -7.761043891506745,\n",
       " 'J1600-3053_Rcvr_800_GASP_efac': 1.1935927243559799,\n",
       " 'J1600-3053_Rcvr_800_GASP_log10_ecorr': -7.407293847566683,\n",
       " 'J1600-3053_Rcvr_800_GASP_log10_equad': -7.311693997685966,\n",
       " 'J1600-3053_Rcvr_800_GUPPI_efac': 1.120996265055496,\n",
       " 'J1600-3053_Rcvr_800_GUPPI_log10_ecorr': -6.288542964735563,\n",
       " 'J1600-3053_Rcvr_800_GUPPI_log10_equad': -7.374528725467375,\n",
       " 'J1614-2230_Rcvr1_2_GASP_efac': 1.1369056644435913,\n",
       " 'J1614-2230_Rcvr1_2_GASP_log10_ecorr': -7.448625358285439,\n",
       " 'J1614-2230_Rcvr1_2_GASP_log10_equad': -7.32067533880299,\n",
       " 'J1614-2230_Rcvr1_2_GUPPI_efac': 1.0636501302858106,\n",
       " 'J1614-2230_Rcvr1_2_GUPPI_log10_ecorr': -7.655859629011535,\n",
       " 'J1614-2230_Rcvr1_2_GUPPI_log10_equad': -7.784678758801305,\n",
       " 'J1614-2230_Rcvr_800_GASP_efac': 0.9178765720365575,\n",
       " 'J1614-2230_Rcvr_800_GASP_log10_ecorr': -7.299611199085039,\n",
       " 'J1614-2230_Rcvr_800_GASP_log10_equad': -7.2577825388006305,\n",
       " 'J1614-2230_Rcvr_800_GUPPI_efac': 1.0115241685032286,\n",
       " 'J1614-2230_Rcvr_800_GUPPI_log10_ecorr': -7.4080289590963355,\n",
       " 'J1614-2230_Rcvr_800_GUPPI_log10_equad': -7.627864180562532,\n",
       " 'J1640+2224_430_ASP_efac': 1.143081359459332,\n",
       " 'J1640+2224_430_ASP_log10_ecorr': -7.788811673814794,\n",
       " 'J1640+2224_430_ASP_log10_equad': -6.240784825369144,\n",
       " 'J1640+2224_430_PUPPI_efac': 1.0573767076899483,\n",
       " 'J1640+2224_430_PUPPI_log10_ecorr': -6.901622491949263,\n",
       " 'J1640+2224_430_PUPPI_log10_equad': -6.9445789284154085,\n",
       " 'J1640+2224_L-wide_ASP_efac': 1.06394287552814,\n",
       " 'J1640+2224_L-wide_ASP_log10_ecorr': -6.275572665649051,\n",
       " 'J1640+2224_L-wide_ASP_log10_equad': -7.649274979312211,\n",
       " 'J1640+2224_L-wide_PUPPI_efac': 1.1457585235526273,\n",
       " 'J1640+2224_L-wide_PUPPI_log10_ecorr': -6.4079933035010095,\n",
       " 'J1640+2224_L-wide_PUPPI_log10_equad': -8.075008065199082,\n",
       " 'J1643-1224_Rcvr1_2_GASP_efac': 1.0071858015273707,\n",
       " 'J1643-1224_Rcvr1_2_GASP_log10_ecorr': -7.503311141343279,\n",
       " 'J1643-1224_Rcvr1_2_GASP_log10_equad': -7.277156122921472,\n",
       " 'J1643-1224_Rcvr1_2_GUPPI_efac': 1.1247022811624827,\n",
       " 'J1643-1224_Rcvr1_2_GUPPI_log10_ecorr': -6.042898081068246,\n",
       " 'J1643-1224_Rcvr1_2_GUPPI_log10_equad': -7.138128067645691,\n",
       " 'J1643-1224_Rcvr_800_GASP_efac': 1.493816799359807,\n",
       " 'J1643-1224_Rcvr_800_GASP_log10_ecorr': -6.822037374515338,\n",
       " 'J1643-1224_Rcvr_800_GASP_log10_equad': -7.115627957850879,\n",
       " 'J1643-1224_Rcvr_800_GUPPI_efac': 1.1921609687505945,\n",
       " 'J1643-1224_Rcvr_800_GUPPI_log10_ecorr': -5.544475232494147,\n",
       " 'J1643-1224_Rcvr_800_GUPPI_log10_equad': -5.9780473533853655,\n",
       " 'J1713+0747_L-wide_ASP_efac': 1.0524302344416032,\n",
       " 'J1713+0747_L-wide_ASP_log10_ecorr': -7.029000061406403,\n",
       " 'J1713+0747_L-wide_ASP_log10_equad': -7.58206720746206,\n",
       " 'J1713+0747_L-wide_PUPPI_efac': 0.9796026604137508,\n",
       " 'J1713+0747_L-wide_PUPPI_log10_ecorr': -7.142663306094692,\n",
       " 'J1713+0747_L-wide_PUPPI_log10_equad': -8.377098873197399,\n",
       " 'J1713+0747_Rcvr1_2_GASP_efac': 1.084307149708116,\n",
       " 'J1713+0747_Rcvr1_2_GASP_log10_ecorr': -7.299970815145262,\n",
       " 'J1713+0747_Rcvr1_2_GASP_log10_equad': -7.423897862687164,\n",
       " 'J1713+0747_Rcvr1_2_GUPPI_efac': 1.017213088587959,\n",
       " 'J1713+0747_Rcvr1_2_GUPPI_log10_ecorr': -7.131010248150742,\n",
       " 'J1713+0747_Rcvr1_2_GUPPI_log10_equad': -8.357193830632392,\n",
       " 'J1713+0747_Rcvr_800_GASP_efac': 1.117529091199639,\n",
       " 'J1713+0747_Rcvr_800_GASP_log10_ecorr': -7.788837849013025,\n",
       " 'J1713+0747_Rcvr_800_GASP_log10_equad': -7.251839650442933,\n",
       " 'J1713+0747_Rcvr_800_GUPPI_efac': 1.0500383710337968,\n",
       " 'J1713+0747_Rcvr_800_GUPPI_log10_ecorr': -6.730867845961182,\n",
       " 'J1713+0747_Rcvr_800_GUPPI_log10_equad': -7.614933520652966,\n",
       " 'J1713+0747_S-wide_ASP_efac': 1.1139598766607257,\n",
       " 'J1713+0747_S-wide_ASP_log10_ecorr': -6.876597410265874,\n",
       " 'J1713+0747_S-wide_ASP_log10_equad': -8.027710747783962,\n",
       " 'J1713+0747_S-wide_PUPPI_efac': 1.0889710082237398,\n",
       " 'J1713+0747_S-wide_PUPPI_log10_ecorr': -7.305157969602163,\n",
       " 'J1713+0747_S-wide_PUPPI_log10_equad': -8.186781270775445,\n",
       " 'J1738+0333_L-wide_ASP_efac': 1.1479069042742471,\n",
       " 'J1738+0333_L-wide_ASP_log10_ecorr': -7.060532309258772,\n",
       " 'J1738+0333_L-wide_ASP_log10_equad': -7.579720669663646,\n",
       " 'J1738+0333_L-wide_PUPPI_efac': 1.0710506604701162,\n",
       " 'J1738+0333_L-wide_PUPPI_log10_ecorr': -7.019786250261518,\n",
       " 'J1738+0333_L-wide_PUPPI_log10_equad': -7.886362963443982,\n",
       " 'J1738+0333_S-wide_ASP_efac': 0.9465373677964157,\n",
       " 'J1738+0333_S-wide_ASP_log10_ecorr': -7.381958762803754,\n",
       " 'J1738+0333_S-wide_ASP_log10_equad': -7.565578005221636,\n",
       " 'J1738+0333_S-wide_PUPPI_efac': 0.8845264245078953,\n",
       " 'J1738+0333_S-wide_PUPPI_log10_ecorr': -7.7411812625497936,\n",
       " 'J1738+0333_S-wide_PUPPI_log10_equad': -7.767394128812992,\n",
       " 'J1741+1351_430_ASP_efac': 0.9244093327309052,\n",
       " 'J1741+1351_430_ASP_log10_ecorr': -5.5978463759617405,\n",
       " 'J1741+1351_430_ASP_log10_equad': -7.009806457228215,\n",
       " 'J1741+1351_430_PUPPI_efac': 1.0039009232670109,\n",
       " 'J1741+1351_430_PUPPI_log10_ecorr': -6.518135961714821,\n",
       " 'J1741+1351_430_PUPPI_log10_equad': -6.482096984326702,\n",
       " 'J1741+1351_L-wide_ASP_efac': 0.9209852519797033,\n",
       " 'J1741+1351_L-wide_ASP_log10_ecorr': -7.186847507133638,\n",
       " 'J1741+1351_L-wide_ASP_log10_equad': -7.299070391601319,\n",
       " 'J1741+1351_L-wide_PUPPI_efac': 1.0310288270954124,\n",
       " 'J1741+1351_L-wide_PUPPI_log10_ecorr': -6.925186740960002,\n",
       " 'J1741+1351_L-wide_PUPPI_log10_equad': -7.965578303654515,\n",
       " 'J1744-1134_Rcvr1_2_GASP_efac': 0.9978514871735024,\n",
       " 'J1744-1134_Rcvr1_2_GASP_log10_ecorr': -6.292180076314258,\n",
       " 'J1744-1134_Rcvr1_2_GASP_log10_equad': -6.381411751584569,\n",
       " 'J1744-1134_Rcvr1_2_GUPPI_efac': 1.053362947622705,\n",
       " 'J1744-1134_Rcvr1_2_GUPPI_log10_ecorr': -6.537490178263718,\n",
       " 'J1744-1134_Rcvr1_2_GUPPI_log10_equad': -7.003305288540264,\n",
       " 'J1744-1134_Rcvr_800_GASP_efac': 1.1285830055400954,\n",
       " 'J1744-1134_Rcvr_800_GASP_log10_ecorr': -6.61724561091565,\n",
       " 'J1744-1134_Rcvr_800_GASP_log10_equad': -6.4572271715342175,\n",
       " 'J1744-1134_Rcvr_800_GUPPI_efac': 1.0350590534568576,\n",
       " 'J1744-1134_Rcvr_800_GUPPI_log10_ecorr': -6.396301881001724,\n",
       " 'J1744-1134_Rcvr_800_GUPPI_log10_equad': -6.613992229078914,\n",
       " 'J1747-4036_Rcvr1_2_GUPPI_efac': 1.0406387784576547,\n",
       " 'J1747-4036_Rcvr1_2_GUPPI_log10_ecorr': -5.905403465022769,\n",
       " 'J1747-4036_Rcvr1_2_GUPPI_log10_equad': -7.287658831864024,\n",
       " 'J1747-4036_Rcvr_800_GUPPI_efac': 1.0528123550579158,\n",
       " 'J1747-4036_Rcvr_800_GUPPI_log10_ecorr': -5.457175287447477,\n",
       " 'J1747-4036_Rcvr_800_GUPPI_log10_equad': -7.2659273913234985,\n",
       " 'J1832-0836_Rcvr1_2_GUPPI_efac': 1.0272388771646892,\n",
       " 'J1832-0836_Rcvr1_2_GUPPI_log10_ecorr': -7.648628979373505,\n",
       " 'J1832-0836_Rcvr1_2_GUPPI_log10_equad': -7.588132853561516,\n",
       " 'J1832-0836_Rcvr_800_GUPPI_efac': 1.003562365688325,\n",
       " 'J1832-0836_Rcvr_800_GUPPI_log10_ecorr': -7.3689842599211035,\n",
       " 'J1832-0836_Rcvr_800_GUPPI_log10_equad': -6.2428519645876905,\n",
       " 'J1853+1303_430_ASP_efac': 1.078315248869886,\n",
       " 'J1853+1303_430_ASP_log10_ecorr': -6.786182491593548,\n",
       " 'J1853+1303_430_ASP_log10_equad': -7.0316537983149825,\n",
       " 'J1853+1303_430_PUPPI_efac': 1.0109631461154447,\n",
       " 'J1853+1303_430_PUPPI_log10_ecorr': -7.344038425120731,\n",
       " 'J1853+1303_430_PUPPI_log10_equad': -7.1227376684628645,\n",
       " 'J1853+1303_L-wide_ASP_efac': 1.0786110947865066,\n",
       " 'J1853+1303_L-wide_ASP_log10_ecorr': -7.0135381645815835,\n",
       " 'J1853+1303_L-wide_ASP_log10_equad': -7.1547369968726455,\n",
       " 'J1853+1303_L-wide_PUPPI_efac': 1.0235843088915801,\n",
       " 'J1853+1303_L-wide_PUPPI_log10_ecorr': -7.804157398025932,\n",
       " 'J1853+1303_L-wide_PUPPI_log10_equad': -7.722036732168339,\n",
       " 'J1903+0327_L-wide_ASP_efac': 1.179706924996803,\n",
       " 'J1903+0327_L-wide_ASP_log10_ecorr': -7.172149108226772,\n",
       " 'J1903+0327_L-wide_ASP_log10_equad': -7.158390864212146,\n",
       " 'J1903+0327_L-wide_PUPPI_efac': 1.168460641474899,\n",
       " 'J1903+0327_L-wide_PUPPI_log10_ecorr': -5.636329138486162,\n",
       " 'J1903+0327_L-wide_PUPPI_log10_equad': -7.759288526577286,\n",
       " 'J1903+0327_S-wide_ASP_efac': 0.8321334329815202,\n",
       " 'J1903+0327_S-wide_ASP_log10_ecorr': -7.364742895573575,\n",
       " 'J1903+0327_S-wide_ASP_log10_equad': -6.16963651015452,\n",
       " 'J1903+0327_S-wide_PUPPI_efac': 1.1095637896315254,\n",
       " 'J1903+0327_S-wide_PUPPI_log10_ecorr': -7.45437286784459,\n",
       " 'J1903+0327_S-wide_PUPPI_log10_equad': -7.574001886389685,\n",
       " 'J1909-3744_Rcvr1_2_GASP_efac': 0.9505606759311833,\n",
       " 'J1909-3744_Rcvr1_2_GASP_log10_ecorr': -8.078816887958723,\n",
       " 'J1909-3744_Rcvr1_2_GASP_log10_equad': -7.456278210493956,\n",
       " 'J1909-3744_Rcvr1_2_GUPPI_efac': 1.0339776268866265,\n",
       " 'J1909-3744_Rcvr1_2_GUPPI_log10_ecorr': -7.137638201510413,\n",
       " 'J1909-3744_Rcvr1_2_GUPPI_log10_equad': -8.171553179171445,\n",
       " 'J1909-3744_Rcvr_800_GASP_efac': 1.0504080629362422,\n",
       " 'J1909-3744_Rcvr_800_GASP_log10_ecorr': -7.871774784575877,\n",
       " 'J1909-3744_Rcvr_800_GASP_log10_equad': -7.037406290351743,\n",
       " 'J1909-3744_Rcvr_800_GUPPI_efac': 1.0313779800296294,\n",
       " 'J1909-3744_Rcvr_800_GUPPI_log10_ecorr': -7.269816370154123,\n",
       " 'J1909-3744_Rcvr_800_GUPPI_log10_equad': -7.365322642903795,\n",
       " 'J1910+1256_L-wide_ASP_efac': 1.063590147073229,\n",
       " 'J1910+1256_L-wide_ASP_log10_ecorr': -7.259684055387137,\n",
       " 'J1910+1256_L-wide_ASP_log10_equad': -7.516992859042785,\n",
       " 'J1910+1256_L-wide_PUPPI_efac': 1.0931136416030962,\n",
       " 'J1910+1256_L-wide_PUPPI_log10_ecorr': -7.403550254322336,\n",
       " 'J1910+1256_L-wide_PUPPI_log10_equad': -7.585087262800533,\n",
       " 'J1910+1256_S-wide_ASP_efac': 0.9661536934887565,\n",
       " 'J1910+1256_S-wide_ASP_log10_ecorr': -7.195615972473434,\n",
       " 'J1910+1256_S-wide_ASP_log10_equad': -6.218657154174941,\n",
       " 'J1910+1256_S-wide_PUPPI_efac': 1.0982792255110136,\n",
       " 'J1910+1256_S-wide_PUPPI_log10_ecorr': -6.218612073150832,\n",
       " 'J1910+1256_S-wide_PUPPI_log10_equad': -7.401958120896809,\n",
       " 'J1911+1347_430_PUPPI_efac': 0.985037691631346,\n",
       " 'J1911+1347_430_PUPPI_log10_ecorr': -6.9556333516614375,\n",
       " 'J1911+1347_430_PUPPI_log10_equad': -6.31556161756245,\n",
       " 'J1911+1347_L-wide_PUPPI_efac': 1.031540153660689,\n",
       " 'J1911+1347_L-wide_PUPPI_log10_ecorr': -7.416268263053558,\n",
       " 'J1911+1347_L-wide_PUPPI_log10_equad': -7.89819259988214,\n",
       " 'J1918-0642_Rcvr1_2_GASP_efac': 1.0272847294363423,\n",
       " 'J1918-0642_Rcvr1_2_GASP_log10_ecorr': -7.37828526123227,\n",
       " 'J1918-0642_Rcvr1_2_GASP_log10_equad': -7.67322161371427,\n",
       " 'J1918-0642_Rcvr1_2_GUPPI_efac': 1.035664184009173,\n",
       " 'J1918-0642_Rcvr1_2_GUPPI_log10_ecorr': -7.4935011859866485,\n",
       " 'J1918-0642_Rcvr1_2_GUPPI_log10_equad': -7.3696863188027075,\n",
       " 'J1918-0642_Rcvr_800_GASP_efac': 1.0557165923306966,\n",
       " 'J1918-0642_Rcvr_800_GASP_log10_ecorr': -7.559243560441317,\n",
       " 'J1918-0642_Rcvr_800_GASP_log10_equad': -7.105797415440444,\n",
       " 'J1918-0642_Rcvr_800_GUPPI_efac': 1.034910727323206,\n",
       " 'J1918-0642_Rcvr_800_GUPPI_log10_ecorr': -6.525389492066881,\n",
       " 'J1918-0642_Rcvr_800_GUPPI_log10_equad': -7.086564536955872,\n",
       " 'J1923+2515_430_ASP_efac': 1.2373635265106926,\n",
       " 'J1923+2515_430_ASP_log10_ecorr': -6.504184743324717,\n",
       " 'J1923+2515_430_ASP_log10_equad': -7.142953738975613,\n",
       " 'J1923+2515_430_PUPPI_efac': 1.0280076337777575,\n",
       " 'J1923+2515_430_PUPPI_log10_ecorr': -7.011533421266852,\n",
       " 'J1923+2515_430_PUPPI_log10_equad': -7.497964593513206,\n",
       " 'J1923+2515_L-wide_ASP_efac': 0.9386238008730015,\n",
       " 'J1923+2515_L-wide_ASP_log10_ecorr': -6.546436794429655,\n",
       " 'J1923+2515_L-wide_ASP_log10_equad': -7.5494203338472525,\n",
       " 'J1923+2515_L-wide_PUPPI_efac': 1.144937414850767,\n",
       " 'J1923+2515_L-wide_PUPPI_log10_ecorr': -7.532279133666613,\n",
       " 'J1923+2515_L-wide_PUPPI_log10_equad': -7.726627359060009,\n",
       " 'J1944+0907_430_ASP_efac': 1.0814498126291534,\n",
       " 'J1944+0907_430_ASP_log10_ecorr': -6.8879174105358185,\n",
       " 'J1944+0907_430_ASP_log10_equad': -7.243114059446985,\n",
       " 'J1944+0907_430_PUPPI_efac': 1.0727024023469869,\n",
       " 'J1944+0907_430_PUPPI_log10_ecorr': -7.1306299212575945,\n",
       " 'J1944+0907_430_PUPPI_log10_equad': -6.926315089238918,\n",
       " 'J1944+0907_L-wide_ASP_efac': 1.5390588569396464,\n",
       " 'J1944+0907_L-wide_ASP_log10_ecorr': -7.104483772896318,\n",
       " 'J1944+0907_L-wide_ASP_log10_equad': -7.238241222764401,\n",
       " 'J1944+0907_L-wide_PUPPI_efac': 1.1696155596603073,\n",
       " 'J1944+0907_L-wide_PUPPI_log10_ecorr': -6.546284570029579,\n",
       " 'J1944+0907_L-wide_PUPPI_log10_equad': -7.693354205218862,\n",
       " 'J2010-1323_Rcvr1_2_GASP_efac': 1.0179865222180375,\n",
       " 'J2010-1323_Rcvr1_2_GASP_log10_ecorr': -7.182315425909628,\n",
       " 'J2010-1323_Rcvr1_2_GASP_log10_equad': -7.170459137166772,\n",
       " 'J2010-1323_Rcvr1_2_GUPPI_efac': 1.046213434079912,\n",
       " 'J2010-1323_Rcvr1_2_GUPPI_log10_ecorr': -7.686560497366312,\n",
       " 'J2010-1323_Rcvr1_2_GUPPI_log10_equad': -7.676454828722258,\n",
       " 'J2010-1323_Rcvr_800_GASP_efac': 1.0631310225900652,\n",
       " 'J2010-1323_Rcvr_800_GASP_log10_ecorr': -7.241412604014393,\n",
       " 'J2010-1323_Rcvr_800_GASP_log10_equad': -7.260685669109653,\n",
       " 'J2010-1323_Rcvr_800_GUPPI_efac': 0.9946706739052781,\n",
       " 'J2010-1323_Rcvr_800_GUPPI_log10_ecorr': -7.580143294343043,\n",
       " 'J2010-1323_Rcvr_800_GUPPI_log10_equad': -7.2177759208361,\n",
       " 'J2017+0603_430_PUPPI_efac': 1.0093822233123215,\n",
       " 'J2017+0603_430_PUPPI_log10_ecorr': -7.128447031828422,\n",
       " 'J2017+0603_430_PUPPI_log10_equad': -7.400340554989067,\n",
       " 'J2017+0603_L-wide_ASP_efac': 1.1836322124322396,\n",
       " 'J2017+0603_L-wide_ASP_log10_ecorr': -7.173248610617583,\n",
       " 'J2017+0603_L-wide_ASP_log10_equad': -7.367283946930043,\n",
       " 'J2017+0603_L-wide_PUPPI_efac': 1.046323313584208,\n",
       " 'J2017+0603_L-wide_PUPPI_log10_ecorr': -7.82755132699267,\n",
       " 'J2017+0603_L-wide_PUPPI_log10_equad': -7.912206252778333,\n",
       " 'J2017+0603_S-wide_ASP_efac': 1.8932930007480588,\n",
       " 'J2017+0603_S-wide_ASP_log10_ecorr': -6.789428630198219,\n",
       " 'J2017+0603_S-wide_ASP_log10_equad': -6.873558567695128,\n",
       " 'J2017+0603_S-wide_PUPPI_efac': 0.9637488192067073,\n",
       " 'J2017+0603_S-wide_PUPPI_log10_ecorr': -7.6940668965722345,\n",
       " 'J2017+0603_S-wide_PUPPI_log10_equad': -7.597464103922708,\n",
       " 'J2033+1734_430_PUPPI_efac': 1.113693949200785,\n",
       " 'J2033+1734_430_PUPPI_log10_ecorr': -5.726283991030456,\n",
       " 'J2033+1734_430_PUPPI_log10_equad': -5.6337162471402555,\n",
       " 'J2033+1734_L-wide_PUPPI_efac': 1.1331427517539416,\n",
       " 'J2033+1734_L-wide_PUPPI_log10_ecorr': -6.971693370311569,\n",
       " 'J2033+1734_L-wide_PUPPI_log10_equad': -5.847707336563429,\n",
       " 'J2043+1711_430_ASP_efac': 1.3778492919774936,\n",
       " 'J2043+1711_430_ASP_log10_ecorr': -7.239541093300854,\n",
       " 'J2043+1711_430_ASP_log10_equad': -7.4422502879843595,\n",
       " 'J2043+1711_430_PUPPI_efac': 1.0512309919631644,\n",
       " 'J2043+1711_430_PUPPI_log10_ecorr': -7.421485674442805,\n",
       " 'J2043+1711_430_PUPPI_log10_equad': -6.713932912210494,\n",
       " 'J2043+1711_L-wide_ASP_efac': 1.1374179552758532,\n",
       " 'J2043+1711_L-wide_ASP_log10_ecorr': -7.396188335081211,\n",
       " 'J2043+1711_L-wide_ASP_log10_equad': -7.464474830386383,\n",
       " 'J2043+1711_L-wide_PUPPI_efac': 0.9994555465027908,\n",
       " 'J2043+1711_L-wide_PUPPI_log10_ecorr': -7.5041112226693665,\n",
       " 'J2043+1711_L-wide_PUPPI_log10_equad': -8.072882690972005,\n",
       " 'J2145-0750_Rcvr1_2_GASP_efac': 1.0110230422869044,\n",
       " 'J2145-0750_Rcvr1_2_GASP_log10_ecorr': -6.243824665782128,\n",
       " 'J2145-0750_Rcvr1_2_GASP_log10_equad': -5.705026109830131,\n",
       " 'J2145-0750_Rcvr1_2_GUPPI_efac': 1.0265447460207069,\n",
       " 'J2145-0750_Rcvr1_2_GUPPI_log10_ecorr': -6.355906738653193,\n",
       " 'J2145-0750_Rcvr1_2_GUPPI_log10_equad': -7.938817552005569,\n",
       " 'J2145-0750_Rcvr_800_GASP_efac': 1.2601984171075302,\n",
       " 'J2145-0750_Rcvr_800_GASP_log10_ecorr': -6.233581141499856,\n",
       " 'J2145-0750_Rcvr_800_GASP_log10_equad': -6.513203859186709,\n",
       " 'J2145-0750_Rcvr_800_GUPPI_efac': 1.0476740581711277,\n",
       " 'J2145-0750_Rcvr_800_GUPPI_log10_ecorr': -6.598154829313346,\n",
       " 'J2145-0750_Rcvr_800_GUPPI_log10_equad': -6.4184191843741445,\n",
       " 'J2214+3000_L-wide_ASP_efac': 0.8328153450864979,\n",
       " 'J2214+3000_L-wide_ASP_log10_ecorr': -7.064223052679033,\n",
       " 'J2214+3000_L-wide_ASP_log10_equad': -6.458067613616678,\n",
       " 'J2214+3000_L-wide_PUPPI_efac': 1.1954220361348742,\n",
       " 'J2214+3000_L-wide_PUPPI_log10_ecorr': -6.843650772362196,\n",
       " 'J2214+3000_L-wide_PUPPI_log10_equad': -7.774691520862171,\n",
       " 'J2214+3000_S-wide_ASP_efac': 0.9594843801019013,\n",
       " 'J2214+3000_S-wide_ASP_log10_ecorr': -6.982471151348989,\n",
       " 'J2214+3000_S-wide_ASP_log10_equad': -6.629799719267349,\n",
       " 'J2214+3000_S-wide_PUPPI_efac': 1.093500299806876,\n",
       " 'J2214+3000_S-wide_PUPPI_log10_ecorr': -6.006076849471581,\n",
       " 'J2214+3000_S-wide_PUPPI_log10_equad': -6.42653058535195,\n",
       " 'J2229+2643_430_PUPPI_efac': 1.081340003095888,\n",
       " 'J2229+2643_430_PUPPI_log10_ecorr': -7.16659104160414,\n",
       " 'J2229+2643_430_PUPPI_log10_equad': -6.246045309208485,\n",
       " 'J2229+2643_L-wide_PUPPI_efac': 1.1795637381251032,\n",
       " 'J2229+2643_L-wide_PUPPI_log10_ecorr': -7.630859344308238,\n",
       " 'J2229+2643_L-wide_PUPPI_log10_equad': -7.72877475370162,\n",
       " 'J2234+0611_430_PUPPI_efac': 1.0168457574856116,\n",
       " 'J2234+0611_430_PUPPI_log10_ecorr': -7.178480567640888,\n",
       " 'J2234+0611_430_PUPPI_log10_equad': -7.144484089842051,\n",
       " 'J2234+0611_L-wide_PUPPI_efac': 1.0185619088869677,\n",
       " 'J2234+0611_L-wide_PUPPI_log10_ecorr': -7.741037555501858,\n",
       " 'J2234+0611_L-wide_PUPPI_log10_equad': -7.986093958197549,\n",
       " 'J2234+0944_L-wide_PUPPI_efac': 1.1886958995544086,\n",
       " 'J2234+0944_L-wide_PUPPI_log10_ecorr': -7.324102061099362,\n",
       " 'J2234+0944_L-wide_PUPPI_log10_equad': -8.01966073470603,\n",
       " 'J2234+0944_S-wide_PUPPI_efac': 1.1493789577948121,\n",
       " 'J2234+0944_S-wide_PUPPI_log10_ecorr': -7.687736605464814,\n",
       " 'J2234+0944_S-wide_PUPPI_log10_equad': -7.4668410598173764,\n",
       " 'J2302+4442_Rcvr1_2_GUPPI_efac': 1.101236202155907,\n",
       " 'J2302+4442_Rcvr1_2_GUPPI_log10_ecorr': -7.404814234661835,\n",
       " 'J2302+4442_Rcvr1_2_GUPPI_log10_equad': -7.467215637393752,\n",
       " 'J2302+4442_Rcvr_800_GUPPI_efac': 1.0112433105873015,\n",
       " 'J2302+4442_Rcvr_800_GUPPI_log10_ecorr': -6.220143740762793,\n",
       " 'J2302+4442_Rcvr_800_GUPPI_log10_equad': -7.235383029096117,\n",
       " 'J2317+1439_327_ASP_efac': 1.0823722500112272,\n",
       " 'J2317+1439_327_ASP_log10_ecorr': -7.706187896212512,\n",
       " 'J2317+1439_327_ASP_log10_equad': -6.457911273619141,\n",
       " 'J2317+1439_327_PUPPI_efac': 1.17384139990156,\n",
       " 'J2317+1439_327_PUPPI_log10_ecorr': -6.392284847303101,\n",
       " 'J2317+1439_327_PUPPI_log10_equad': -6.462306002360743,\n",
       " 'J2317+1439_430_ASP_efac': 1.2574511773494976,\n",
       " 'J2317+1439_430_ASP_log10_ecorr': -6.509624616624109,\n",
       " 'J2317+1439_430_ASP_log10_equad': -7.3732139102446626,\n",
       " 'J2317+1439_430_PUPPI_efac': 1.0163851726761812,\n",
       " 'J2317+1439_430_PUPPI_log10_ecorr': -6.87918040058842,\n",
       " 'J2317+1439_430_PUPPI_log10_equad': -6.535705196682452,\n",
       " 'J2317+1439_L-wide_PUPPI_efac': 1.1163982326548925,\n",
       " 'J2317+1439_L-wide_PUPPI_log10_ecorr': -6.6463560361584975,\n",
       " 'J2317+1439_L-wide_PUPPI_log10_equad': -7.463944437178126}"
      ]
     },
     "execution_count": 6,
     "metadata": {},
     "output_type": "execute_result"
    }
   ],
   "source": [
    "noisedict"
   ]
  },
  {
   "cell_type": "markdown",
   "id": "ab81a86f",
   "metadata": {},
   "source": [
    "### let's run fp"
   ]
  },
  {
   "cell_type": "code",
   "execution_count": 108,
   "id": "2cde4bb8",
   "metadata": {},
   "outputs": [
    {
     "name": "stdout",
     "output_type": "stream",
     "text": [
      "Initializing the model...\n"
     ]
    }
   ],
   "source": [
    "fpstat_test = FpStat(allpsrs[0:1], psrTerm=False, noisedict=noisedict)"
   ]
  },
  {
   "cell_type": "code",
   "execution_count": 110,
   "id": "d884ae7a",
   "metadata": {},
   "outputs": [
    {
     "data": {
      "image/png": "[encoded data removed]",
      "text/plain": [
       "<Figure size 432x288 with 1 Axes>"
      ]
     },
     "metadata": {
      "needs_background": "light"
     },
     "output_type": "display_data"
    },
    {
     "name": "stdout",
     "output_type": "stream",
     "text": [
      "21.659479368316816\n"
     ]
    }
   ],
   "source": [
    "test_toas = []\n",
    "test_toas.append((testpsr.toas.min() + testpsr.toas.max())/2)\n",
    "fstat = fpstat_test.compute_Fp_bwm(t0 = test_toas[0])\n",
    "print(2* fstat)"
   ]
  },
  {
   "cell_type": "markdown",
   "id": "508a9968",
   "metadata": {},
   "source": [
    "It seems to be working! Let's try on some realizations of WN only data sets we've made"
   ]
  },
  {
   "cell_type": "code",
   "execution_count": 7,
   "id": "453b5d9f",
   "metadata": {},
   "outputs": [],
   "source": [
    "# We know the injected WN values\n",
    "fake_noisedict = {}\n",
    "for psrname in psrnames:\n",
    "    fake_noisedict['{}_efac'.format(psrname)] = 1.0\n",
    "    fake_noisedict['{}_log10_equad'.format(psrname)] = np.log10(100e-9)"
   ]
  },
  {
   "cell_type": "code",
   "execution_count": 18,
   "id": "1ac859fc",
   "metadata": {
    "scrolled": true
   },
   "outputs": [
    {
     "name": "stderr",
     "output_type": "stream",
     "text": [
      "WARNING: Could not find pulsar distance for PSR J0023+0923. Setting value to 1 with 20% uncertainty.\n"
     ]
    },
    {
     "name": "stdout",
     "output_type": "stream",
     "text": [
      "Initializing the model...\n"
     ]
    },
    {
     "name": "stderr",
     "output_type": "stream",
     "text": [
      "WARNING: Could not find pulsar distance for PSR J0023+0923. Setting value to 1 with 20% uncertainty.\n"
     ]
    },
    {
     "name": "stdout",
     "output_type": "stream",
     "text": [
      "Initializing the model...\n"
     ]
    },
    {
     "name": "stderr",
     "output_type": "stream",
     "text": [
      "WARNING: Could not find pulsar distance for PSR J0023+0923. Setting value to 1 with 20% uncertainty.\n"
     ]
    },
    {
     "name": "stdout",
     "output_type": "stream",
     "text": [
      "Initializing the model...\n"
     ]
    },
    {
     "name": "stderr",
     "output_type": "stream",
     "text": [
      "WARNING: Could not find pulsar distance for PSR J0023+0923. Setting value to 1 with 20% uncertainty.\n"
     ]
    },
    {
     "name": "stdout",
     "output_type": "stream",
     "text": [
      "Initializing the model...\n"
     ]
    },
    {
     "name": "stderr",
     "output_type": "stream",
     "text": [
      "WARNING: Could not find pulsar distance for PSR J0023+0923. Setting value to 1 with 20% uncertainty.\n"
     ]
    },
    {
     "name": "stdout",
     "output_type": "stream",
     "text": [
      "Initializing the model...\n"
     ]
    },
    {
     "name": "stderr",
     "output_type": "stream",
     "text": [
      "WARNING: Could not find pulsar distance for PSR J0023+0923. Setting value to 1 with 20% uncertainty.\n"
     ]
    },
    {
     "name": "stdout",
     "output_type": "stream",
     "text": [
      "Initializing the model...\n"
     ]
    },
    {
     "name": "stderr",
     "output_type": "stream",
     "text": [
      "WARNING: Could not find pulsar distance for PSR J0023+0923. Setting value to 1 with 20% uncertainty.\n"
     ]
    },
    {
     "name": "stdout",
     "output_type": "stream",
     "text": [
      "Initializing the model...\n"
     ]
    },
    {
     "name": "stderr",
     "output_type": "stream",
     "text": [
      "WARNING: Could not find pulsar distance for PSR J0023+0923. Setting value to 1 with 20% uncertainty.\n"
     ]
    },
    {
     "name": "stdout",
     "output_type": "stream",
     "text": [
      "Initializing the model...\n"
     ]
    },
    {
     "name": "stderr",
     "output_type": "stream",
     "text": [
      "WARNING: Could not find pulsar distance for PSR J0023+0923. Setting value to 1 with 20% uncertainty.\n"
     ]
    },
    {
     "name": "stdout",
     "output_type": "stream",
     "text": [
      "Initializing the model...\n"
     ]
    },
    {
     "name": "stderr",
     "output_type": "stream",
     "text": [
      "WARNING: Could not find pulsar distance for PSR J0023+0923. Setting value to 1 with 20% uncertainty.\n"
     ]
    },
    {
     "name": "stdout",
     "output_type": "stream",
     "text": [
      "Initializing the model...\n"
     ]
    },
    {
     "name": "stderr",
     "output_type": "stream",
     "text": [
      "WARNING: Could not find pulsar distance for PSR J0023+0923. Setting value to 1 with 20% uncertainty.\n"
     ]
    },
    {
     "name": "stdout",
     "output_type": "stream",
     "text": [
      "Initializing the model...\n"
     ]
    },
    {
     "name": "stderr",
     "output_type": "stream",
     "text": [
      "WARNING: Could not find pulsar distance for PSR J0023+0923. Setting value to 1 with 20% uncertainty.\n"
     ]
    },
    {
     "name": "stdout",
     "output_type": "stream",
     "text": [
      "Initializing the model...\n"
     ]
    },
    {
     "name": "stderr",
     "output_type": "stream",
     "text": [
      "WARNING: Could not find pulsar distance for PSR J0023+0923. Setting value to 1 with 20% uncertainty.\n"
     ]
    },
    {
     "name": "stdout",
     "output_type": "stream",
     "text": [
      "Initializing the model...\n"
     ]
    },
    {
     "name": "stderr",
     "output_type": "stream",
     "text": [
      "WARNING: Could not find pulsar distance for PSR J0023+0923. Setting value to 1 with 20% uncertainty.\n"
     ]
    },
    {
     "name": "stdout",
     "output_type": "stream",
     "text": [
      "Initializing the model...\n"
     ]
    },
    {
     "name": "stderr",
     "output_type": "stream",
     "text": [
      "WARNING: Could not find pulsar distance for PSR J0023+0923. Setting value to 1 with 20% uncertainty.\n"
     ]
    },
    {
     "name": "stdout",
     "output_type": "stream",
     "text": [
      "Initializing the model...\n"
     ]
    },
    {
     "name": "stderr",
     "output_type": "stream",
     "text": [
      "WARNING: Could not find pulsar distance for PSR J0023+0923. Setting value to 1 with 20% uncertainty.\n"
     ]
    },
    {
     "name": "stdout",
     "output_type": "stream",
     "text": [
      "Initializing the model...\n"
     ]
    },
    {
     "name": "stderr",
     "output_type": "stream",
     "text": [
      "WARNING: Could not find pulsar distance for PSR J0023+0923. Setting value to 1 with 20% uncertainty.\n"
     ]
    },
    {
     "name": "stdout",
     "output_type": "stream",
     "text": [
      "Initializing the model...\n"
     ]
    },
    {
     "name": "stderr",
     "output_type": "stream",
     "text": [
      "WARNING: Could not find pulsar distance for PSR J0023+0923. Setting value to 1 with 20% uncertainty.\n"
     ]
    },
    {
     "name": "stdout",
     "output_type": "stream",
     "text": [
      "Initializing the model...\n"
     ]
    },
    {
     "name": "stderr",
     "output_type": "stream",
     "text": [
      "WARNING: Could not find pulsar distance for PSR J0023+0923. Setting value to 1 with 20% uncertainty.\n"
     ]
    },
    {
     "name": "stdout",
     "output_type": "stream",
     "text": [
      "Initializing the model...\n"
     ]
    },
    {
     "name": "stderr",
     "output_type": "stream",
     "text": [
      "WARNING: Could not find pulsar distance for PSR J0023+0923. Setting value to 1 with 20% uncertainty.\n"
     ]
    },
    {
     "name": "stdout",
     "output_type": "stream",
     "text": [
      "Initializing the model...\n"
     ]
    },
    {
     "name": "stderr",
     "output_type": "stream",
     "text": [
      "WARNING: Could not find pulsar distance for PSR J0023+0923. Setting value to 1 with 20% uncertainty.\n"
     ]
    },
    {
     "name": "stdout",
     "output_type": "stream",
     "text": [
      "Initializing the model...\n"
     ]
    },
    {
     "name": "stderr",
     "output_type": "stream",
     "text": [
      "WARNING: Could not find pulsar distance for PSR J0023+0923. Setting value to 1 with 20% uncertainty.\n"
     ]
    },
    {
     "name": "stdout",
     "output_type": "stream",
     "text": [
      "Initializing the model...\n"
     ]
    },
    {
     "name": "stderr",
     "output_type": "stream",
     "text": [
      "WARNING: Could not find pulsar distance for PSR J0023+0923. Setting value to 1 with 20% uncertainty.\n"
     ]
    },
    {
     "name": "stdout",
     "output_type": "stream",
     "text": [
      "Initializing the model...\n"
     ]
    },
    {
     "name": "stderr",
     "output_type": "stream",
     "text": [
      "WARNING: Could not find pulsar distance for PSR J0023+0923. Setting value to 1 with 20% uncertainty.\n"
     ]
    },
    {
     "name": "stdout",
     "output_type": "stream",
     "text": [
      "Initializing the model...\n"
     ]
    },
    {
     "name": "stderr",
     "output_type": "stream",
     "text": [
      "WARNING: Could not find pulsar distance for PSR J0023+0923. Setting value to 1 with 20% uncertainty.\n"
     ]
    },
    {
     "name": "stdout",
     "output_type": "stream",
     "text": [
      "Initializing the model...\n"
     ]
    },
    {
     "name": "stderr",
     "output_type": "stream",
     "text": [
      "WARNING: Could not find pulsar distance for PSR J0023+0923. Setting value to 1 with 20% uncertainty.\n"
     ]
    },
    {
     "name": "stdout",
     "output_type": "stream",
     "text": [
      "Initializing the model...\n"
     ]
    },
    {
     "name": "stderr",
     "output_type": "stream",
     "text": [
      "WARNING: Could not find pulsar distance for PSR J0023+0923. Setting value to 1 with 20% uncertainty.\n"
     ]
    },
    {
     "name": "stdout",
     "output_type": "stream",
     "text": [
      "Initializing the model...\n"
     ]
    },
    {
     "name": "stderr",
     "output_type": "stream",
     "text": [
      "WARNING: Could not find pulsar distance for PSR J0023+0923. Setting value to 1 with 20% uncertainty.\n"
     ]
    },
    {
     "name": "stdout",
     "output_type": "stream",
     "text": [
      "Initializing the model...\n"
     ]
    },
    {
     "name": "stderr",
     "output_type": "stream",
     "text": [
      "WARNING: Could not find pulsar distance for PSR J0023+0923. Setting value to 1 with 20% uncertainty.\n"
     ]
    },
    {
     "name": "stdout",
     "output_type": "stream",
     "text": [
      "Initializing the model...\n"
     ]
    },
    {
     "name": "stderr",
     "output_type": "stream",
     "text": [
      "WARNING: Could not find pulsar distance for PSR J0023+0923. Setting value to 1 with 20% uncertainty.\n"
     ]
    },
    {
     "name": "stdout",
     "output_type": "stream",
     "text": [
      "Initializing the model...\n"
     ]
    },
    {
     "name": "stderr",
     "output_type": "stream",
     "text": [
      "WARNING: Could not find pulsar distance for PSR J0023+0923. Setting value to 1 with 20% uncertainty.\n"
     ]
    },
    {
     "name": "stdout",
     "output_type": "stream",
     "text": [
      "Initializing the model...\n"
     ]
    },
    {
     "name": "stderr",
     "output_type": "stream",
     "text": [
      "WARNING: Could not find pulsar distance for PSR J0023+0923. Setting value to 1 with 20% uncertainty.\n"
     ]
    },
    {
     "name": "stdout",
     "output_type": "stream",
     "text": [
      "Initializing the model...\n"
     ]
    },
    {
     "name": "stderr",
     "output_type": "stream",
     "text": [
      "WARNING: Could not find pulsar distance for PSR J0023+0923. Setting value to 1 with 20% uncertainty.\n"
     ]
    },
    {
     "name": "stdout",
     "output_type": "stream",
     "text": [
      "Initializing the model...\n"
     ]
    },
    {
     "name": "stderr",
     "output_type": "stream",
     "text": [
      "WARNING: Could not find pulsar distance for PSR J0023+0923. Setting value to 1 with 20% uncertainty.\n"
     ]
    },
    {
     "name": "stdout",
     "output_type": "stream",
     "text": [
      "Initializing the model...\n"
     ]
    },
    {
     "name": "stderr",
     "output_type": "stream",
     "text": [
      "WARNING: Could not find pulsar distance for PSR J0023+0923. Setting value to 1 with 20% uncertainty.\n"
     ]
    },
    {
     "name": "stdout",
     "output_type": "stream",
     "text": [
      "Initializing the model...\n"
     ]
    },
    {
     "name": "stderr",
     "output_type": "stream",
     "text": [
      "WARNING: Could not find pulsar distance for PSR J0023+0923. Setting value to 1 with 20% uncertainty.\n"
     ]
    },
    {
     "name": "stdout",
     "output_type": "stream",
     "text": [
      "Initializing the model...\n"
     ]
    },
    {
     "name": "stderr",
     "output_type": "stream",
     "text": [
      "WARNING: Could not find pulsar distance for PSR J0023+0923. Setting value to 1 with 20% uncertainty.\n"
     ]
    },
    {
     "name": "stdout",
     "output_type": "stream",
     "text": [
      "Initializing the model...\n"
     ]
    },
    {
     "name": "stderr",
     "output_type": "stream",
     "text": [
      "WARNING: Could not find pulsar distance for PSR J0023+0923. Setting value to 1 with 20% uncertainty.\n"
     ]
    },
    {
     "name": "stdout",
     "output_type": "stream",
     "text": [
      "Initializing the model...\n"
     ]
    },
    {
     "name": "stderr",
     "output_type": "stream",
     "text": [
      "WARNING: Could not find pulsar distance for PSR J0023+0923. Setting value to 1 with 20% uncertainty.\n"
     ]
    },
    {
     "name": "stdout",
     "output_type": "stream",
     "text": [
      "Initializing the model...\n"
     ]
    },
    {
     "name": "stderr",
     "output_type": "stream",
     "text": [
      "WARNING: Could not find pulsar distance for PSR J0023+0923. Setting value to 1 with 20% uncertainty.\n"
     ]
    },
    {
     "name": "stdout",
     "output_type": "stream",
     "text": [
      "Initializing the model...\n"
     ]
    },
    {
     "name": "stderr",
     "output_type": "stream",
     "text": [
      "WARNING: Could not find pulsar distance for PSR J0023+0923. Setting value to 1 with 20% uncertainty.\n"
     ]
    },
    {
     "name": "stdout",
     "output_type": "stream",
     "text": [
      "Initializing the model...\n"
     ]
    },
    {
     "name": "stderr",
     "output_type": "stream",
     "text": [
      "WARNING: Could not find pulsar distance for PSR J0023+0923. Setting value to 1 with 20% uncertainty.\n"
     ]
    },
    {
     "name": "stdout",
     "output_type": "stream",
     "text": [
      "Initializing the model...\n"
     ]
    },
    {
     "name": "stderr",
     "output_type": "stream",
     "text": [
      "WARNING: Could not find pulsar distance for PSR J0023+0923. Setting value to 1 with 20% uncertainty.\n"
     ]
    },
    {
     "name": "stdout",
     "output_type": "stream",
     "text": [
      "Initializing the model...\n"
     ]
    },
    {
     "name": "stderr",
     "output_type": "stream",
     "text": [
      "WARNING: Could not find pulsar distance for PSR J0023+0923. Setting value to 1 with 20% uncertainty.\n"
     ]
    },
    {
     "name": "stdout",
     "output_type": "stream",
     "text": [
      "Initializing the model...\n"
     ]
    },
    {
     "name": "stderr",
     "output_type": "stream",
     "text": [
      "WARNING: Could not find pulsar distance for PSR J0023+0923. Setting value to 1 with 20% uncertainty.\n"
     ]
    },
    {
     "name": "stdout",
     "output_type": "stream",
     "text": [
      "Initializing the model...\n"
     ]
    },
    {
     "name": "stderr",
     "output_type": "stream",
     "text": [
      "WARNING: Could not find pulsar distance for PSR J0023+0923. Setting value to 1 with 20% uncertainty.\n"
     ]
    },
    {
     "name": "stdout",
     "output_type": "stream",
     "text": [
      "Initializing the model...\n"
     ]
    },
    {
     "name": "stderr",
     "output_type": "stream",
     "text": [
      "WARNING: Could not find pulsar distance for PSR J0023+0923. Setting value to 1 with 20% uncertainty.\n"
     ]
    },
    {
     "name": "stdout",
     "output_type": "stream",
     "text": [
      "Initializing the model...\n"
     ]
    },
    {
     "name": "stderr",
     "output_type": "stream",
     "text": [
      "WARNING: Could not find pulsar distance for PSR J0023+0923. Setting value to 1 with 20% uncertainty.\n"
     ]
    },
    {
     "name": "stdout",
     "output_type": "stream",
     "text": [
      "Initializing the model...\n"
     ]
    },
    {
     "name": "stderr",
     "output_type": "stream",
     "text": [
      "WARNING: Could not find pulsar distance for PSR J0023+0923. Setting value to 1 with 20% uncertainty.\n"
     ]
    },
    {
     "name": "stdout",
     "output_type": "stream",
     "text": [
      "Initializing the model...\n"
     ]
    },
    {
     "name": "stderr",
     "output_type": "stream",
     "text": [
      "WARNING: Could not find pulsar distance for PSR J0023+0923. Setting value to 1 with 20% uncertainty.\n"
     ]
    },
    {
     "name": "stdout",
     "output_type": "stream",
     "text": [
      "Initializing the model...\n"
     ]
    },
    {
     "name": "stderr",
     "output_type": "stream",
     "text": [
      "WARNING: Could not find pulsar distance for PSR J0023+0923. Setting value to 1 with 20% uncertainty.\n"
     ]
    },
    {
     "name": "stdout",
     "output_type": "stream",
     "text": [
      "Initializing the model...\n"
     ]
    },
    {
     "name": "stderr",
     "output_type": "stream",
     "text": [
      "WARNING: Could not find pulsar distance for PSR J0023+0923. Setting value to 1 with 20% uncertainty.\n"
     ]
    },
    {
     "name": "stdout",
     "output_type": "stream",
     "text": [
      "Initializing the model...\n"
     ]
    },
    {
     "name": "stderr",
     "output_type": "stream",
     "text": [
      "WARNING: Could not find pulsar distance for PSR J0023+0923. Setting value to 1 with 20% uncertainty.\n"
     ]
    },
    {
     "name": "stdout",
     "output_type": "stream",
     "text": [
      "Initializing the model...\n"
     ]
    },
    {
     "name": "stderr",
     "output_type": "stream",
     "text": [
      "WARNING: Could not find pulsar distance for PSR J0023+0923. Setting value to 1 with 20% uncertainty.\n"
     ]
    },
    {
     "name": "stdout",
     "output_type": "stream",
     "text": [
      "Initializing the model...\n"
     ]
    },
    {
     "name": "stderr",
     "output_type": "stream",
     "text": [
      "WARNING: Could not find pulsar distance for PSR J0023+0923. Setting value to 1 with 20% uncertainty.\n"
     ]
    },
    {
     "name": "stdout",
     "output_type": "stream",
     "text": [
      "Initializing the model...\n"
     ]
    },
    {
     "name": "stderr",
     "output_type": "stream",
     "text": [
      "WARNING: Could not find pulsar distance for PSR J0023+0923. Setting value to 1 with 20% uncertainty.\n"
     ]
    },
    {
     "name": "stdout",
     "output_type": "stream",
     "text": [
      "Initializing the model...\n"
     ]
    },
    {
     "name": "stderr",
     "output_type": "stream",
     "text": [
      "WARNING: Could not find pulsar distance for PSR J0023+0923. Setting value to 1 with 20% uncertainty.\n"
     ]
    },
    {
     "name": "stdout",
     "output_type": "stream",
     "text": [
      "Initializing the model...\n"
     ]
    },
    {
     "name": "stderr",
     "output_type": "stream",
     "text": [
      "WARNING: Could not find pulsar distance for PSR J0023+0923. Setting value to 1 with 20% uncertainty.\n"
     ]
    },
    {
     "name": "stdout",
     "output_type": "stream",
     "text": [
      "Initializing the model...\n"
     ]
    },
    {
     "name": "stderr",
     "output_type": "stream",
     "text": [
      "WARNING: Could not find pulsar distance for PSR J0023+0923. Setting value to 1 with 20% uncertainty.\n"
     ]
    },
    {
     "name": "stdout",
     "output_type": "stream",
     "text": [
      "Initializing the model...\n"
     ]
    },
    {
     "name": "stderr",
     "output_type": "stream",
     "text": [
      "WARNING: Could not find pulsar distance for PSR J0023+0923. Setting value to 1 with 20% uncertainty.\n"
     ]
    },
    {
     "name": "stdout",
     "output_type": "stream",
     "text": [
      "Initializing the model...\n"
     ]
    },
    {
     "name": "stderr",
     "output_type": "stream",
     "text": [
      "WARNING: Could not find pulsar distance for PSR J0023+0923. Setting value to 1 with 20% uncertainty.\n"
     ]
    },
    {
     "name": "stdout",
     "output_type": "stream",
     "text": [
      "Initializing the model...\n"
     ]
    },
    {
     "name": "stderr",
     "output_type": "stream",
     "text": [
      "WARNING: Could not find pulsar distance for PSR J0023+0923. Setting value to 1 with 20% uncertainty.\n"
     ]
    },
    {
     "name": "stdout",
     "output_type": "stream",
     "text": [
      "Initializing the model...\n"
     ]
    },
    {
     "name": "stderr",
     "output_type": "stream",
     "text": [
      "WARNING: Could not find pulsar distance for PSR J0023+0923. Setting value to 1 with 20% uncertainty.\n"
     ]
    },
    {
     "name": "stdout",
     "output_type": "stream",
     "text": [
      "Initializing the model...\n"
     ]
    },
    {
     "name": "stderr",
     "output_type": "stream",
     "text": [
      "WARNING: Could not find pulsar distance for PSR J0023+0923. Setting value to 1 with 20% uncertainty.\n"
     ]
    },
    {
     "name": "stdout",
     "output_type": "stream",
     "text": [
      "Initializing the model...\n"
     ]
    },
    {
     "name": "stderr",
     "output_type": "stream",
     "text": [
      "WARNING: Could not find pulsar distance for PSR J0023+0923. Setting value to 1 with 20% uncertainty.\n"
     ]
    },
    {
     "name": "stdout",
     "output_type": "stream",
     "text": [
      "Initializing the model...\n"
     ]
    },
    {
     "name": "stderr",
     "output_type": "stream",
     "text": [
      "WARNING: Could not find pulsar distance for PSR J0023+0923. Setting value to 1 with 20% uncertainty.\n"
     ]
    },
    {
     "name": "stdout",
     "output_type": "stream",
     "text": [
      "Initializing the model...\n"
     ]
    },
    {
     "name": "stderr",
     "output_type": "stream",
     "text": [
      "WARNING: Could not find pulsar distance for PSR J0023+0923. Setting value to 1 with 20% uncertainty.\n"
     ]
    },
    {
     "name": "stdout",
     "output_type": "stream",
     "text": [
      "Initializing the model...\n"
     ]
    },
    {
     "name": "stderr",
     "output_type": "stream",
     "text": [
      "WARNING: Could not find pulsar distance for PSR J0023+0923. Setting value to 1 with 20% uncertainty.\n"
     ]
    },
    {
     "name": "stdout",
     "output_type": "stream",
     "text": [
      "Initializing the model...\n"
     ]
    },
    {
     "name": "stderr",
     "output_type": "stream",
     "text": [
      "WARNING: Could not find pulsar distance for PSR J0023+0923. Setting value to 1 with 20% uncertainty.\n"
     ]
    },
    {
     "name": "stdout",
     "output_type": "stream",
     "text": [
      "Initializing the model...\n"
     ]
    },
    {
     "name": "stderr",
     "output_type": "stream",
     "text": [
      "WARNING: Could not find pulsar distance for PSR J0023+0923. Setting value to 1 with 20% uncertainty.\n"
     ]
    },
    {
     "name": "stdout",
     "output_type": "stream",
     "text": [
      "Initializing the model...\n"
     ]
    },
    {
     "name": "stderr",
     "output_type": "stream",
     "text": [
      "WARNING: Could not find pulsar distance for PSR J0023+0923. Setting value to 1 with 20% uncertainty.\n"
     ]
    },
    {
     "name": "stdout",
     "output_type": "stream",
     "text": [
      "Initializing the model...\n"
     ]
    },
    {
     "name": "stderr",
     "output_type": "stream",
     "text": [
      "WARNING: Could not find pulsar distance for PSR J0023+0923. Setting value to 1 with 20% uncertainty.\n"
     ]
    },
    {
     "name": "stdout",
     "output_type": "stream",
     "text": [
      "Initializing the model...\n"
     ]
    },
    {
     "name": "stderr",
     "output_type": "stream",
     "text": [
      "WARNING: Could not find pulsar distance for PSR J0023+0923. Setting value to 1 with 20% uncertainty.\n"
     ]
    },
    {
     "name": "stdout",
     "output_type": "stream",
     "text": [
      "Initializing the model...\n"
     ]
    },
    {
     "name": "stderr",
     "output_type": "stream",
     "text": [
      "WARNING: Could not find pulsar distance for PSR J0023+0923. Setting value to 1 with 20% uncertainty.\n"
     ]
    },
    {
     "name": "stdout",
     "output_type": "stream",
     "text": [
      "Initializing the model...\n"
     ]
    },
    {
     "name": "stderr",
     "output_type": "stream",
     "text": [
      "WARNING: Could not find pulsar distance for PSR J0023+0923. Setting value to 1 with 20% uncertainty.\n"
     ]
    },
    {
     "name": "stdout",
     "output_type": "stream",
     "text": [
      "Initializing the model...\n"
     ]
    },
    {
     "name": "stderr",
     "output_type": "stream",
     "text": [
      "WARNING: Could not find pulsar distance for PSR J0023+0923. Setting value to 1 with 20% uncertainty.\n"
     ]
    },
    {
     "name": "stdout",
     "output_type": "stream",
     "text": [
      "Initializing the model...\n"
     ]
    },
    {
     "name": "stderr",
     "output_type": "stream",
     "text": [
      "WARNING: Could not find pulsar distance for PSR J0023+0923. Setting value to 1 with 20% uncertainty.\n"
     ]
    },
    {
     "name": "stdout",
     "output_type": "stream",
     "text": [
      "Initializing the model...\n"
     ]
    },
    {
     "name": "stderr",
     "output_type": "stream",
     "text": [
      "WARNING: Could not find pulsar distance for PSR J0023+0923. Setting value to 1 with 20% uncertainty.\n"
     ]
    },
    {
     "name": "stdout",
     "output_type": "stream",
     "text": [
      "Initializing the model...\n"
     ]
    },
    {
     "name": "stderr",
     "output_type": "stream",
     "text": [
      "WARNING: Could not find pulsar distance for PSR J0023+0923. Setting value to 1 with 20% uncertainty.\n"
     ]
    },
    {
     "name": "stdout",
     "output_type": "stream",
     "text": [
      "Initializing the model...\n"
     ]
    },
    {
     "name": "stderr",
     "output_type": "stream",
     "text": [
      "WARNING: Could not find pulsar distance for PSR J0023+0923. Setting value to 1 with 20% uncertainty.\n"
     ]
    },
    {
     "name": "stdout",
     "output_type": "stream",
     "text": [
      "Initializing the model...\n"
     ]
    },
    {
     "name": "stderr",
     "output_type": "stream",
     "text": [
      "WARNING: Could not find pulsar distance for PSR J0023+0923. Setting value to 1 with 20% uncertainty.\n"
     ]
    },
    {
     "name": "stdout",
     "output_type": "stream",
     "text": [
      "Initializing the model...\n"
     ]
    },
    {
     "name": "stderr",
     "output_type": "stream",
     "text": [
      "WARNING: Could not find pulsar distance for PSR J0023+0923. Setting value to 1 with 20% uncertainty.\n"
     ]
    },
    {
     "name": "stdout",
     "output_type": "stream",
     "text": [
      "Initializing the model...\n"
     ]
    },
    {
     "name": "stderr",
     "output_type": "stream",
     "text": [
      "WARNING: Could not find pulsar distance for PSR J0023+0923. Setting value to 1 with 20% uncertainty.\n"
     ]
    },
    {
     "name": "stdout",
     "output_type": "stream",
     "text": [
      "Initializing the model...\n"
     ]
    },
    {
     "name": "stderr",
     "output_type": "stream",
     "text": [
      "WARNING: Could not find pulsar distance for PSR J0023+0923. Setting value to 1 with 20% uncertainty.\n"
     ]
    },
    {
     "name": "stdout",
     "output_type": "stream",
     "text": [
      "Initializing the model...\n"
     ]
    },
    {
     "name": "stderr",
     "output_type": "stream",
     "text": [
      "WARNING: Could not find pulsar distance for PSR J0023+0923. Setting value to 1 with 20% uncertainty.\n"
     ]
    },
    {
     "name": "stdout",
     "output_type": "stream",
     "text": [
      "Initializing the model...\n"
     ]
    },
    {
     "name": "stderr",
     "output_type": "stream",
     "text": [
      "WARNING: Could not find pulsar distance for PSR J0023+0923. Setting value to 1 with 20% uncertainty.\n"
     ]
    },
    {
     "name": "stdout",
     "output_type": "stream",
     "text": [
      "Initializing the model...\n"
     ]
    },
    {
     "name": "stderr",
     "output_type": "stream",
     "text": [
      "WARNING: Could not find pulsar distance for PSR J0023+0923. Setting value to 1 with 20% uncertainty.\n"
     ]
    },
    {
     "name": "stdout",
     "output_type": "stream",
     "text": [
      "Initializing the model...\n"
     ]
    },
    {
     "name": "stderr",
     "output_type": "stream",
     "text": [
      "WARNING: Could not find pulsar distance for PSR J0023+0923. Setting value to 1 with 20% uncertainty.\n"
     ]
    },
    {
     "name": "stdout",
     "output_type": "stream",
     "text": [
      "Initializing the model...\n"
     ]
    },
    {
     "name": "stderr",
     "output_type": "stream",
     "text": [
      "WARNING: Could not find pulsar distance for PSR J0023+0923. Setting value to 1 with 20% uncertainty.\n"
     ]
    },
    {
     "name": "stdout",
     "output_type": "stream",
     "text": [
      "Initializing the model...\n"
     ]
    },
    {
     "name": "stderr",
     "output_type": "stream",
     "text": [
      "WARNING: Could not find pulsar distance for PSR J0023+0923. Setting value to 1 with 20% uncertainty.\n"
     ]
    },
    {
     "name": "stdout",
     "output_type": "stream",
     "text": [
      "Initializing the model...\n"
     ]
    },
    {
     "name": "stderr",
     "output_type": "stream",
     "text": [
      "WARNING: Could not find pulsar distance for PSR J0023+0923. Setting value to 1 with 20% uncertainty.\n"
     ]
    },
    {
     "name": "stdout",
     "output_type": "stream",
     "text": [
      "Initializing the model...\n"
     ]
    },
    {
     "name": "stderr",
     "output_type": "stream",
     "text": [
      "WARNING: Could not find pulsar distance for PSR J0023+0923. Setting value to 1 with 20% uncertainty.\n"
     ]
    },
    {
     "name": "stdout",
     "output_type": "stream",
     "text": [
      "Initializing the model...\n"
     ]
    },
    {
     "name": "stderr",
     "output_type": "stream",
     "text": [
      "WARNING: Could not find pulsar distance for PSR J0023+0923. Setting value to 1 with 20% uncertainty.\n"
     ]
    },
    {
     "name": "stdout",
     "output_type": "stream",
     "text": [
      "Initializing the model...\n"
     ]
    },
    {
     "name": "stderr",
     "output_type": "stream",
     "text": [
      "WARNING: Could not find pulsar distance for PSR J0023+0923. Setting value to 1 with 20% uncertainty.\n"
     ]
    },
    {
     "name": "stdout",
     "output_type": "stream",
     "text": [
      "Initializing the model...\n"
     ]
    },
    {
     "name": "stderr",
     "output_type": "stream",
     "text": [
      "WARNING: Could not find pulsar distance for PSR J0023+0923. Setting value to 1 with 20% uncertainty.\n"
     ]
    },
    {
     "name": "stdout",
     "output_type": "stream",
     "text": [
      "Initializing the model...\n"
     ]
    },
    {
     "name": "stderr",
     "output_type": "stream",
     "text": [
      "WARNING: Could not find pulsar distance for PSR J0023+0923. Setting value to 1 with 20% uncertainty.\n"
     ]
    },
    {
     "name": "stdout",
     "output_type": "stream",
     "text": [
      "Initializing the model...\n"
     ]
    },
    {
     "name": "stderr",
     "output_type": "stream",
     "text": [
      "WARNING: Could not find pulsar distance for PSR J0023+0923. Setting value to 1 with 20% uncertainty.\n"
     ]
    },
    {
     "name": "stdout",
     "output_type": "stream",
     "text": [
      "Initializing the model...\n"
     ]
    },
    {
     "name": "stderr",
     "output_type": "stream",
     "text": [
      "WARNING: Could not find pulsar distance for PSR J0023+0923. Setting value to 1 with 20% uncertainty.\n"
     ]
    },
    {
     "name": "stdout",
     "output_type": "stream",
     "text": [
      "Initializing the model...\n"
     ]
    },
    {
     "name": "stderr",
     "output_type": "stream",
     "text": [
      "WARNING: Could not find pulsar distance for PSR J0023+0923. Setting value to 1 with 20% uncertainty.\n"
     ]
    },
    {
     "name": "stdout",
     "output_type": "stream",
     "text": [
      "Initializing the model...\n"
     ]
    },
    {
     "name": "stderr",
     "output_type": "stream",
     "text": [
      "WARNING: Could not find pulsar distance for PSR J0023+0923. Setting value to 1 with 20% uncertainty.\n"
     ]
    },
    {
     "name": "stdout",
     "output_type": "stream",
     "text": [
      "Initializing the model...\n"
     ]
    },
    {
     "name": "stderr",
     "output_type": "stream",
     "text": [
      "WARNING: Could not find pulsar distance for PSR J0023+0923. Setting value to 1 with 20% uncertainty.\n"
     ]
    },
    {
     "name": "stdout",
     "output_type": "stream",
     "text": [
      "Initializing the model...\n"
     ]
    },
    {
     "name": "stderr",
     "output_type": "stream",
     "text": [
      "WARNING: Could not find pulsar distance for PSR J0023+0923. Setting value to 1 with 20% uncertainty.\n"
     ]
    },
    {
     "name": "stdout",
     "output_type": "stream",
     "text": [
      "Initializing the model...\n"
     ]
    },
    {
     "name": "stderr",
     "output_type": "stream",
     "text": [
      "WARNING: Could not find pulsar distance for PSR J0023+0923. Setting value to 1 with 20% uncertainty.\n"
     ]
    },
    {
     "name": "stdout",
     "output_type": "stream",
     "text": [
      "Initializing the model...\n"
     ]
    },
    {
     "name": "stderr",
     "output_type": "stream",
     "text": [
      "WARNING: Could not find pulsar distance for PSR J0023+0923. Setting value to 1 with 20% uncertainty.\n"
     ]
    },
    {
     "name": "stdout",
     "output_type": "stream",
     "text": [
      "Initializing the model...\n"
     ]
    },
    {
     "name": "stderr",
     "output_type": "stream",
     "text": [
      "WARNING: Could not find pulsar distance for PSR J0023+0923. Setting value to 1 with 20% uncertainty.\n"
     ]
    },
    {
     "name": "stdout",
     "output_type": "stream",
     "text": [
      "Initializing the model...\n"
     ]
    },
    {
     "name": "stderr",
     "output_type": "stream",
     "text": [
      "WARNING: Could not find pulsar distance for PSR J0023+0923. Setting value to 1 with 20% uncertainty.\n"
     ]
    },
    {
     "name": "stdout",
     "output_type": "stream",
     "text": [
      "Initializing the model...\n"
     ]
    },
    {
     "name": "stderr",
     "output_type": "stream",
     "text": [
      "WARNING: Could not find pulsar distance for PSR J0023+0923. Setting value to 1 with 20% uncertainty.\n"
     ]
    },
    {
     "name": "stdout",
     "output_type": "stream",
     "text": [
      "Initializing the model...\n"
     ]
    },
    {
     "name": "stderr",
     "output_type": "stream",
     "text": [
      "WARNING: Could not find pulsar distance for PSR J0023+0923. Setting value to 1 with 20% uncertainty.\n"
     ]
    },
    {
     "name": "stdout",
     "output_type": "stream",
     "text": [
      "Initializing the model...\n"
     ]
    },
    {
     "name": "stderr",
     "output_type": "stream",
     "text": [
      "WARNING: Could not find pulsar distance for PSR J0023+0923. Setting value to 1 with 20% uncertainty.\n"
     ]
    },
    {
     "name": "stdout",
     "output_type": "stream",
     "text": [
      "Initializing the model...\n"
     ]
    },
    {
     "name": "stderr",
     "output_type": "stream",
     "text": [
      "WARNING: Could not find pulsar distance for PSR J0023+0923. Setting value to 1 with 20% uncertainty.\n"
     ]
    },
    {
     "name": "stdout",
     "output_type": "stream",
     "text": [
      "Initializing the model...\n"
     ]
    },
    {
     "name": "stderr",
     "output_type": "stream",
     "text": [
      "WARNING: Could not find pulsar distance for PSR J0023+0923. Setting value to 1 with 20% uncertainty.\n"
     ]
    },
    {
     "name": "stdout",
     "output_type": "stream",
     "text": [
      "Initializing the model...\n"
     ]
    },
    {
     "name": "stderr",
     "output_type": "stream",
     "text": [
      "WARNING: Could not find pulsar distance for PSR J0023+0923. Setting value to 1 with 20% uncertainty.\n"
     ]
    },
    {
     "name": "stdout",
     "output_type": "stream",
     "text": [
      "Initializing the model...\n"
     ]
    },
    {
     "name": "stderr",
     "output_type": "stream",
     "text": [
      "WARNING: Could not find pulsar distance for PSR J0023+0923. Setting value to 1 with 20% uncertainty.\n"
     ]
    },
    {
     "name": "stdout",
     "output_type": "stream",
     "text": [
      "Initializing the model...\n"
     ]
    },
    {
     "name": "stderr",
     "output_type": "stream",
     "text": [
      "WARNING: Could not find pulsar distance for PSR J0023+0923. Setting value to 1 with 20% uncertainty.\n"
     ]
    },
    {
     "name": "stdout",
     "output_type": "stream",
     "text": [
      "Initializing the model...\n"
     ]
    },
    {
     "name": "stderr",
     "output_type": "stream",
     "text": [
      "WARNING: Could not find pulsar distance for PSR J0023+0923. Setting value to 1 with 20% uncertainty.\n"
     ]
    },
    {
     "name": "stdout",
     "output_type": "stream",
     "text": [
      "Initializing the model...\n"
     ]
    },
    {
     "name": "stderr",
     "output_type": "stream",
     "text": [
      "WARNING: Could not find pulsar distance for PSR J0023+0923. Setting value to 1 with 20% uncertainty.\n"
     ]
    },
    {
     "name": "stdout",
     "output_type": "stream",
     "text": [
      "Initializing the model...\n"
     ]
    },
    {
     "name": "stderr",
     "output_type": "stream",
     "text": [
      "WARNING: Could not find pulsar distance for PSR J0023+0923. Setting value to 1 with 20% uncertainty.\n"
     ]
    },
    {
     "name": "stdout",
     "output_type": "stream",
     "text": [
      "Initializing the model...\n"
     ]
    },
    {
     "name": "stderr",
     "output_type": "stream",
     "text": [
      "WARNING: Could not find pulsar distance for PSR J0023+0923. Setting value to 1 with 20% uncertainty.\n"
     ]
    },
    {
     "name": "stdout",
     "output_type": "stream",
     "text": [
      "Initializing the model...\n"
     ]
    },
    {
     "name": "stderr",
     "output_type": "stream",
     "text": [
      "WARNING: Could not find pulsar distance for PSR J0023+0923. Setting value to 1 with 20% uncertainty.\n"
     ]
    },
    {
     "name": "stdout",
     "output_type": "stream",
     "text": [
      "Initializing the model...\n"
     ]
    },
    {
     "name": "stderr",
     "output_type": "stream",
     "text": [
      "WARNING: Could not find pulsar distance for PSR J0023+0923. Setting value to 1 with 20% uncertainty.\n"
     ]
    },
    {
     "name": "stdout",
     "output_type": "stream",
     "text": [
      "Initializing the model...\n"
     ]
    },
    {
     "name": "stderr",
     "output_type": "stream",
     "text": [
      "WARNING: Could not find pulsar distance for PSR J0023+0923. Setting value to 1 with 20% uncertainty.\n"
     ]
    },
    {
     "name": "stdout",
     "output_type": "stream",
     "text": [
      "Initializing the model...\n"
     ]
    },
    {
     "name": "stderr",
     "output_type": "stream",
     "text": [
      "WARNING: Could not find pulsar distance for PSR J0023+0923. Setting value to 1 with 20% uncertainty.\n"
     ]
    },
    {
     "name": "stdout",
     "output_type": "stream",
     "text": [
      "Initializing the model...\n"
     ]
    },
    {
     "name": "stderr",
     "output_type": "stream",
     "text": [
      "WARNING: Could not find pulsar distance for PSR J0023+0923. Setting value to 1 with 20% uncertainty.\n"
     ]
    },
    {
     "name": "stdout",
     "output_type": "stream",
     "text": [
      "Initializing the model...\n"
     ]
    },
    {
     "name": "stderr",
     "output_type": "stream",
     "text": [
      "WARNING: Could not find pulsar distance for PSR J0023+0923. Setting value to 1 with 20% uncertainty.\n"
     ]
    },
    {
     "name": "stdout",
     "output_type": "stream",
     "text": [
      "Initializing the model...\n"
     ]
    },
    {
     "name": "stderr",
     "output_type": "stream",
     "text": [
      "WARNING: Could not find pulsar distance for PSR J0023+0923. Setting value to 1 with 20% uncertainty.\n"
     ]
    },
    {
     "name": "stdout",
     "output_type": "stream",
     "text": [
      "Initializing the model...\n"
     ]
    },
    {
     "name": "stderr",
     "output_type": "stream",
     "text": [
      "WARNING: Could not find pulsar distance for PSR J0023+0923. Setting value to 1 with 20% uncertainty.\n"
     ]
    },
    {
     "name": "stdout",
     "output_type": "stream",
     "text": [
      "Initializing the model...\n"
     ]
    },
    {
     "name": "stderr",
     "output_type": "stream",
     "text": [
      "WARNING: Could not find pulsar distance for PSR J0023+0923. Setting value to 1 with 20% uncertainty.\n"
     ]
    },
    {
     "name": "stdout",
     "output_type": "stream",
     "text": [
      "Initializing the model...\n"
     ]
    },
    {
     "name": "stderr",
     "output_type": "stream",
     "text": [
      "WARNING: Could not find pulsar distance for PSR J0023+0923. Setting value to 1 with 20% uncertainty.\n"
     ]
    },
    {
     "name": "stdout",
     "output_type": "stream",
     "text": [
      "Initializing the model...\n"
     ]
    },
    {
     "name": "stderr",
     "output_type": "stream",
     "text": [
      "WARNING: Could not find pulsar distance for PSR J0023+0923. Setting value to 1 with 20% uncertainty.\n"
     ]
    },
    {
     "name": "stdout",
     "output_type": "stream",
     "text": [
      "Initializing the model...\n"
     ]
    },
    {
     "name": "stderr",
     "output_type": "stream",
     "text": [
      "WARNING: Could not find pulsar distance for PSR J0023+0923. Setting value to 1 with 20% uncertainty.\n"
     ]
    },
    {
     "name": "stdout",
     "output_type": "stream",
     "text": [
      "Initializing the model...\n"
     ]
    },
    {
     "name": "stderr",
     "output_type": "stream",
     "text": [
      "WARNING: Could not find pulsar distance for PSR J0023+0923. Setting value to 1 with 20% uncertainty.\n"
     ]
    },
    {
     "name": "stdout",
     "output_type": "stream",
     "text": [
      "Initializing the model...\n"
     ]
    },
    {
     "name": "stderr",
     "output_type": "stream",
     "text": [
      "WARNING: Could not find pulsar distance for PSR J0023+0923. Setting value to 1 with 20% uncertainty.\n"
     ]
    },
    {
     "name": "stdout",
     "output_type": "stream",
     "text": [
      "Initializing the model...\n"
     ]
    },
    {
     "name": "stderr",
     "output_type": "stream",
     "text": [
      "WARNING: Could not find pulsar distance for PSR J0023+0923. Setting value to 1 with 20% uncertainty.\n"
     ]
    },
    {
     "name": "stdout",
     "output_type": "stream",
     "text": [
      "Initializing the model...\n"
     ]
    },
    {
     "name": "stderr",
     "output_type": "stream",
     "text": [
      "WARNING: Could not find pulsar distance for PSR J0023+0923. Setting value to 1 with 20% uncertainty.\n"
     ]
    },
    {
     "name": "stdout",
     "output_type": "stream",
     "text": [
      "Initializing the model...\n"
     ]
    },
    {
     "name": "stderr",
     "output_type": "stream",
     "text": [
      "WARNING: Could not find pulsar distance for PSR J0023+0923. Setting value to 1 with 20% uncertainty.\n"
     ]
    },
    {
     "name": "stdout",
     "output_type": "stream",
     "text": [
      "Initializing the model...\n"
     ]
    },
    {
     "name": "stderr",
     "output_type": "stream",
     "text": [
      "WARNING: Could not find pulsar distance for PSR J0023+0923. Setting value to 1 with 20% uncertainty.\n"
     ]
    },
    {
     "name": "stdout",
     "output_type": "stream",
     "text": [
      "Initializing the model...\n"
     ]
    },
    {
     "name": "stderr",
     "output_type": "stream",
     "text": [
      "WARNING: Could not find pulsar distance for PSR J0023+0923. Setting value to 1 with 20% uncertainty.\n"
     ]
    },
    {
     "name": "stdout",
     "output_type": "stream",
     "text": [
      "Initializing the model...\n"
     ]
    },
    {
     "name": "stderr",
     "output_type": "stream",
     "text": [
      "WARNING: Could not find pulsar distance for PSR J0023+0923. Setting value to 1 with 20% uncertainty.\n"
     ]
    },
    {
     "name": "stdout",
     "output_type": "stream",
     "text": [
      "Initializing the model...\n"
     ]
    },
    {
     "name": "stderr",
     "output_type": "stream",
     "text": [
      "WARNING: Could not find pulsar distance for PSR J0023+0923. Setting value to 1 with 20% uncertainty.\n"
     ]
    },
    {
     "name": "stdout",
     "output_type": "stream",
     "text": [
      "Initializing the model...\n"
     ]
    },
    {
     "name": "stderr",
     "output_type": "stream",
     "text": [
      "WARNING: Could not find pulsar distance for PSR J0023+0923. Setting value to 1 with 20% uncertainty.\n"
     ]
    },
    {
     "name": "stdout",
     "output_type": "stream",
     "text": [
      "Initializing the model...\n"
     ]
    },
    {
     "name": "stderr",
     "output_type": "stream",
     "text": [
      "WARNING: Could not find pulsar distance for PSR J0023+0923. Setting value to 1 with 20% uncertainty.\n"
     ]
    },
    {
     "name": "stdout",
     "output_type": "stream",
     "text": [
      "Initializing the model...\n"
     ]
    },
    {
     "name": "stderr",
     "output_type": "stream",
     "text": [
      "WARNING: Could not find pulsar distance for PSR J0023+0923. Setting value to 1 with 20% uncertainty.\n"
     ]
    },
    {
     "name": "stdout",
     "output_type": "stream",
     "text": [
      "Initializing the model...\n"
     ]
    },
    {
     "name": "stderr",
     "output_type": "stream",
     "text": [
      "WARNING: Could not find pulsar distance for PSR J0023+0923. Setting value to 1 with 20% uncertainty.\n"
     ]
    },
    {
     "name": "stdout",
     "output_type": "stream",
     "text": [
      "Initializing the model...\n"
     ]
    },
    {
     "name": "stderr",
     "output_type": "stream",
     "text": [
      "WARNING: Could not find pulsar distance for PSR J0023+0923. Setting value to 1 with 20% uncertainty.\n"
     ]
    },
    {
     "name": "stdout",
     "output_type": "stream",
     "text": [
      "Initializing the model...\n"
     ]
    },
    {
     "name": "stderr",
     "output_type": "stream",
     "text": [
      "WARNING: Could not find pulsar distance for PSR J0023+0923. Setting value to 1 with 20% uncertainty.\n"
     ]
    },
    {
     "name": "stdout",
     "output_type": "stream",
     "text": [
      "Initializing the model...\n"
     ]
    },
    {
     "name": "stderr",
     "output_type": "stream",
     "text": [
      "WARNING: Could not find pulsar distance for PSR J0023+0923. Setting value to 1 with 20% uncertainty.\n"
     ]
    },
    {
     "name": "stdout",
     "output_type": "stream",
     "text": [
      "Initializing the model...\n"
     ]
    },
    {
     "name": "stderr",
     "output_type": "stream",
     "text": [
      "WARNING: Could not find pulsar distance for PSR J0023+0923. Setting value to 1 with 20% uncertainty.\n"
     ]
    },
    {
     "name": "stdout",
     "output_type": "stream",
     "text": [
      "Initializing the model...\n"
     ]
    },
    {
     "name": "stderr",
     "output_type": "stream",
     "text": [
      "WARNING: Could not find pulsar distance for PSR J0023+0923. Setting value to 1 with 20% uncertainty.\n"
     ]
    },
    {
     "name": "stdout",
     "output_type": "stream",
     "text": [
      "Initializing the model...\n"
     ]
    },
    {
     "name": "stderr",
     "output_type": "stream",
     "text": [
      "WARNING: Could not find pulsar distance for PSR J0023+0923. Setting value to 1 with 20% uncertainty.\n"
     ]
    },
    {
     "name": "stdout",
     "output_type": "stream",
     "text": [
      "Initializing the model...\n"
     ]
    },
    {
     "name": "stderr",
     "output_type": "stream",
     "text": [
      "WARNING: Could not find pulsar distance for PSR J0023+0923. Setting value to 1 with 20% uncertainty.\n"
     ]
    },
    {
     "name": "stdout",
     "output_type": "stream",
     "text": [
      "Initializing the model...\n"
     ]
    },
    {
     "name": "stderr",
     "output_type": "stream",
     "text": [
      "WARNING: Could not find pulsar distance for PSR J0023+0923. Setting value to 1 with 20% uncertainty.\n"
     ]
    },
    {
     "name": "stdout",
     "output_type": "stream",
     "text": [
      "Initializing the model...\n"
     ]
    },
    {
     "name": "stderr",
     "output_type": "stream",
     "text": [
      "WARNING: Could not find pulsar distance for PSR J0023+0923. Setting value to 1 with 20% uncertainty.\n"
     ]
    },
    {
     "name": "stdout",
     "output_type": "stream",
     "text": [
      "Initializing the model...\n"
     ]
    },
    {
     "name": "stderr",
     "output_type": "stream",
     "text": [
      "WARNING: Could not find pulsar distance for PSR J0023+0923. Setting value to 1 with 20% uncertainty.\n"
     ]
    },
    {
     "name": "stdout",
     "output_type": "stream",
     "text": [
      "Initializing the model...\n"
     ]
    },
    {
     "name": "stderr",
     "output_type": "stream",
     "text": [
      "WARNING: Could not find pulsar distance for PSR J0023+0923. Setting value to 1 with 20% uncertainty.\n"
     ]
    },
    {
     "name": "stdout",
     "output_type": "stream",
     "text": [
      "Initializing the model...\n"
     ]
    },
    {
     "name": "stderr",
     "output_type": "stream",
     "text": [
      "WARNING: Could not find pulsar distance for PSR J0023+0923. Setting value to 1 with 20% uncertainty.\n"
     ]
    },
    {
     "name": "stdout",
     "output_type": "stream",
     "text": [
      "Initializing the model...\n"
     ]
    },
    {
     "name": "stderr",
     "output_type": "stream",
     "text": [
      "WARNING: Could not find pulsar distance for PSR J0023+0923. Setting value to 1 with 20% uncertainty.\n"
     ]
    },
    {
     "name": "stdout",
     "output_type": "stream",
     "text": [
      "Initializing the model...\n"
     ]
    },
    {
     "name": "stderr",
     "output_type": "stream",
     "text": [
      "WARNING: Could not find pulsar distance for PSR J0023+0923. Setting value to 1 with 20% uncertainty.\n"
     ]
    },
    {
     "name": "stdout",
     "output_type": "stream",
     "text": [
      "Initializing the model...\n"
     ]
    },
    {
     "name": "stderr",
     "output_type": "stream",
     "text": [
      "WARNING: Could not find pulsar distance for PSR J0023+0923. Setting value to 1 with 20% uncertainty.\n"
     ]
    },
    {
     "name": "stdout",
     "output_type": "stream",
     "text": [
      "Initializing the model...\n"
     ]
    },
    {
     "name": "stderr",
     "output_type": "stream",
     "text": [
      "WARNING: Could not find pulsar distance for PSR J0023+0923. Setting value to 1 with 20% uncertainty.\n"
     ]
    },
    {
     "name": "stdout",
     "output_type": "stream",
     "text": [
      "Initializing the model...\n"
     ]
    },
    {
     "name": "stderr",
     "output_type": "stream",
     "text": [
      "WARNING: Could not find pulsar distance for PSR J0023+0923. Setting value to 1 with 20% uncertainty.\n"
     ]
    },
    {
     "name": "stdout",
     "output_type": "stream",
     "text": [
      "Initializing the model...\n"
     ]
    },
    {
     "name": "stderr",
     "output_type": "stream",
     "text": [
      "WARNING: Could not find pulsar distance for PSR J0023+0923. Setting value to 1 with 20% uncertainty.\n"
     ]
    },
    {
     "name": "stdout",
     "output_type": "stream",
     "text": [
      "Initializing the model...\n"
     ]
    },
    {
     "name": "stderr",
     "output_type": "stream",
     "text": [
      "WARNING: Could not find pulsar distance for PSR J0023+0923. Setting value to 1 with 20% uncertainty.\n"
     ]
    },
    {
     "name": "stdout",
     "output_type": "stream",
     "text": [
      "Initializing the model...\n"
     ]
    },
    {
     "name": "stderr",
     "output_type": "stream",
     "text": [
      "WARNING: Could not find pulsar distance for PSR J0023+0923. Setting value to 1 with 20% uncertainty.\n"
     ]
    },
    {
     "name": "stdout",
     "output_type": "stream",
     "text": [
      "Initializing the model...\n"
     ]
    },
    {
     "name": "stderr",
     "output_type": "stream",
     "text": [
      "WARNING: Could not find pulsar distance for PSR J0023+0923. Setting value to 1 with 20% uncertainty.\n"
     ]
    },
    {
     "name": "stdout",
     "output_type": "stream",
     "text": [
      "Initializing the model...\n"
     ]
    },
    {
     "name": "stderr",
     "output_type": "stream",
     "text": [
      "WARNING: Could not find pulsar distance for PSR J0023+0923. Setting value to 1 with 20% uncertainty.\n"
     ]
    },
    {
     "name": "stdout",
     "output_type": "stream",
     "text": [
      "Initializing the model...\n"
     ]
    },
    {
     "name": "stderr",
     "output_type": "stream",
     "text": [
      "WARNING: Could not find pulsar distance for PSR J0023+0923. Setting value to 1 with 20% uncertainty.\n"
     ]
    },
    {
     "name": "stdout",
     "output_type": "stream",
     "text": [
      "Initializing the model...\n"
     ]
    },
    {
     "name": "stderr",
     "output_type": "stream",
     "text": [
      "WARNING: Could not find pulsar distance for PSR J0023+0923. Setting value to 1 with 20% uncertainty.\n"
     ]
    },
    {
     "name": "stdout",
     "output_type": "stream",
     "text": [
      "Initializing the model...\n"
     ]
    },
    {
     "name": "stderr",
     "output_type": "stream",
     "text": [
      "WARNING: Could not find pulsar distance for PSR J0023+0923. Setting value to 1 with 20% uncertainty.\n"
     ]
    },
    {
     "name": "stdout",
     "output_type": "stream",
     "text": [
      "Initializing the model...\n"
     ]
    },
    {
     "name": "stderr",
     "output_type": "stream",
     "text": [
      "WARNING: Could not find pulsar distance for PSR J0023+0923. Setting value to 1 with 20% uncertainty.\n"
     ]
    },
    {
     "name": "stdout",
     "output_type": "stream",
     "text": [
      "Initializing the model...\n"
     ]
    },
    {
     "name": "stderr",
     "output_type": "stream",
     "text": [
      "WARNING: Could not find pulsar distance for PSR J0023+0923. Setting value to 1 with 20% uncertainty.\n"
     ]
    },
    {
     "name": "stdout",
     "output_type": "stream",
     "text": [
      "Initializing the model...\n"
     ]
    },
    {
     "name": "stderr",
     "output_type": "stream",
     "text": [
      "WARNING: Could not find pulsar distance for PSR J0023+0923. Setting value to 1 with 20% uncertainty.\n"
     ]
    },
    {
     "name": "stdout",
     "output_type": "stream",
     "text": [
      "Initializing the model...\n"
     ]
    },
    {
     "name": "stderr",
     "output_type": "stream",
     "text": [
      "WARNING: Could not find pulsar distance for PSR J0023+0923. Setting value to 1 with 20% uncertainty.\n"
     ]
    },
    {
     "name": "stdout",
     "output_type": "stream",
     "text": [
      "Initializing the model...\n"
     ]
    },
    {
     "name": "stderr",
     "output_type": "stream",
     "text": [
      "WARNING: Could not find pulsar distance for PSR J0023+0923. Setting value to 1 with 20% uncertainty.\n"
     ]
    },
    {
     "name": "stdout",
     "output_type": "stream",
     "text": [
      "Initializing the model...\n"
     ]
    },
    {
     "name": "stderr",
     "output_type": "stream",
     "text": [
      "WARNING: Could not find pulsar distance for PSR J0023+0923. Setting value to 1 with 20% uncertainty.\n"
     ]
    },
    {
     "name": "stdout",
     "output_type": "stream",
     "text": [
      "Initializing the model...\n"
     ]
    },
    {
     "name": "stderr",
     "output_type": "stream",
     "text": [
      "WARNING: Could not find pulsar distance for PSR J0023+0923. Setting value to 1 with 20% uncertainty.\n"
     ]
    },
    {
     "name": "stdout",
     "output_type": "stream",
     "text": [
      "Initializing the model...\n"
     ]
    },
    {
     "name": "stderr",
     "output_type": "stream",
     "text": [
      "WARNING: Could not find pulsar distance for PSR J0023+0923. Setting value to 1 with 20% uncertainty.\n"
     ]
    },
    {
     "name": "stdout",
     "output_type": "stream",
     "text": [
      "Initializing the model...\n"
     ]
    },
    {
     "name": "stderr",
     "output_type": "stream",
     "text": [
      "WARNING: Could not find pulsar distance for PSR J0023+0923. Setting value to 1 with 20% uncertainty.\n"
     ]
    },
    {
     "name": "stdout",
     "output_type": "stream",
     "text": [
      "Initializing the model...\n"
     ]
    },
    {
     "name": "stderr",
     "output_type": "stream",
     "text": [
      "WARNING: Could not find pulsar distance for PSR J0023+0923. Setting value to 1 with 20% uncertainty.\n"
     ]
    },
    {
     "name": "stdout",
     "output_type": "stream",
     "text": [
      "Initializing the model...\n"
     ]
    },
    {
     "name": "stderr",
     "output_type": "stream",
     "text": [
      "WARNING: Could not find pulsar distance for PSR J0023+0923. Setting value to 1 with 20% uncertainty.\n"
     ]
    },
    {
     "name": "stdout",
     "output_type": "stream",
     "text": [
      "Initializing the model...\n"
     ]
    },
    {
     "name": "stderr",
     "output_type": "stream",
     "text": [
      "WARNING: Could not find pulsar distance for PSR J0023+0923. Setting value to 1 with 20% uncertainty.\n"
     ]
    },
    {
     "name": "stdout",
     "output_type": "stream",
     "text": [
      "Initializing the model...\n"
     ]
    },
    {
     "name": "stderr",
     "output_type": "stream",
     "text": [
      "WARNING: Could not find pulsar distance for PSR J0023+0923. Setting value to 1 with 20% uncertainty.\n"
     ]
    },
    {
     "name": "stdout",
     "output_type": "stream",
     "text": [
      "Initializing the model...\n"
     ]
    },
    {
     "name": "stderr",
     "output_type": "stream",
     "text": [
      "WARNING: Could not find pulsar distance for PSR J0023+0923. Setting value to 1 with 20% uncertainty.\n"
     ]
    },
    {
     "name": "stdout",
     "output_type": "stream",
     "text": [
      "Initializing the model...\n"
     ]
    },
    {
     "name": "stderr",
     "output_type": "stream",
     "text": [
      "WARNING: Could not find pulsar distance for PSR J0023+0923. Setting value to 1 with 20% uncertainty.\n"
     ]
    },
    {
     "name": "stdout",
     "output_type": "stream",
     "text": [
      "Initializing the model...\n"
     ]
    },
    {
     "name": "stderr",
     "output_type": "stream",
     "text": [
      "WARNING: Could not find pulsar distance for PSR J0023+0923. Setting value to 1 with 20% uncertainty.\n"
     ]
    },
    {
     "name": "stdout",
     "output_type": "stream",
     "text": [
      "Initializing the model...\n"
     ]
    },
    {
     "name": "stderr",
     "output_type": "stream",
     "text": [
      "WARNING: Could not find pulsar distance for PSR J0023+0923. Setting value to 1 with 20% uncertainty.\n"
     ]
    },
    {
     "name": "stdout",
     "output_type": "stream",
     "text": [
      "Initializing the model...\n"
     ]
    },
    {
     "name": "stderr",
     "output_type": "stream",
     "text": [
      "WARNING: Could not find pulsar distance for PSR J0023+0923. Setting value to 1 with 20% uncertainty.\n"
     ]
    },
    {
     "name": "stdout",
     "output_type": "stream",
     "text": [
      "Initializing the model...\n"
     ]
    },
    {
     "name": "stderr",
     "output_type": "stream",
     "text": [
      "WARNING: Could not find pulsar distance for PSR J0023+0923. Setting value to 1 with 20% uncertainty.\n"
     ]
    },
    {
     "name": "stdout",
     "output_type": "stream",
     "text": [
      "Initializing the model...\n"
     ]
    },
    {
     "name": "stderr",
     "output_type": "stream",
     "text": [
      "WARNING: Could not find pulsar distance for PSR J0023+0923. Setting value to 1 with 20% uncertainty.\n"
     ]
    },
    {
     "name": "stdout",
     "output_type": "stream",
     "text": [
      "Initializing the model...\n"
     ]
    },
    {
     "name": "stderr",
     "output_type": "stream",
     "text": [
      "WARNING: Could not find pulsar distance for PSR J0023+0923. Setting value to 1 with 20% uncertainty.\n"
     ]
    },
    {
     "name": "stdout",
     "output_type": "stream",
     "text": [
      "Initializing the model...\n"
     ]
    },
    {
     "name": "stderr",
     "output_type": "stream",
     "text": [
      "WARNING: Could not find pulsar distance for PSR J0023+0923. Setting value to 1 with 20% uncertainty.\n"
     ]
    },
    {
     "name": "stdout",
     "output_type": "stream",
     "text": [
      "Initializing the model...\n"
     ]
    },
    {
     "name": "stderr",
     "output_type": "stream",
     "text": [
      "WARNING: Could not find pulsar distance for PSR J0023+0923. Setting value to 1 with 20% uncertainty.\n"
     ]
    },
    {
     "name": "stdout",
     "output_type": "stream",
     "text": [
      "Initializing the model...\n"
     ]
    },
    {
     "name": "stderr",
     "output_type": "stream",
     "text": [
      "WARNING: Could not find pulsar distance for PSR J0023+0923. Setting value to 1 with 20% uncertainty.\n"
     ]
    },
    {
     "name": "stdout",
     "output_type": "stream",
     "text": [
      "Initializing the model...\n"
     ]
    },
    {
     "name": "stderr",
     "output_type": "stream",
     "text": [
      "WARNING: Could not find pulsar distance for PSR J0023+0923. Setting value to 1 with 20% uncertainty.\n"
     ]
    },
    {
     "name": "stdout",
     "output_type": "stream",
     "text": [
      "Initializing the model...\n"
     ]
    },
    {
     "name": "stderr",
     "output_type": "stream",
     "text": [
      "WARNING: Could not find pulsar distance for PSR J0023+0923. Setting value to 1 with 20% uncertainty.\n"
     ]
    },
    {
     "name": "stdout",
     "output_type": "stream",
     "text": [
      "Initializing the model...\n"
     ]
    },
    {
     "name": "stderr",
     "output_type": "stream",
     "text": [
      "WARNING: Could not find pulsar distance for PSR J0023+0923. Setting value to 1 with 20% uncertainty.\n"
     ]
    },
    {
     "name": "stdout",
     "output_type": "stream",
     "text": [
      "Initializing the model...\n"
     ]
    },
    {
     "name": "stderr",
     "output_type": "stream",
     "text": [
      "WARNING: Could not find pulsar distance for PSR J0023+0923. Setting value to 1 with 20% uncertainty.\n"
     ]
    },
    {
     "name": "stdout",
     "output_type": "stream",
     "text": [
      "Initializing the model...\n"
     ]
    },
    {
     "name": "stderr",
     "output_type": "stream",
     "text": [
      "WARNING: Could not find pulsar distance for PSR J0023+0923. Setting value to 1 with 20% uncertainty.\n"
     ]
    },
    {
     "name": "stdout",
     "output_type": "stream",
     "text": [
      "Initializing the model...\n"
     ]
    },
    {
     "name": "stderr",
     "output_type": "stream",
     "text": [
      "WARNING: Could not find pulsar distance for PSR J0023+0923. Setting value to 1 with 20% uncertainty.\n"
     ]
    },
    {
     "name": "stdout",
     "output_type": "stream",
     "text": [
      "Initializing the model...\n"
     ]
    },
    {
     "name": "stderr",
     "output_type": "stream",
     "text": [
      "WARNING: Could not find pulsar distance for PSR J0023+0923. Setting value to 1 with 20% uncertainty.\n"
     ]
    },
    {
     "name": "stdout",
     "output_type": "stream",
     "text": [
      "Initializing the model...\n"
     ]
    },
    {
     "name": "stderr",
     "output_type": "stream",
     "text": [
      "WARNING: Could not find pulsar distance for PSR J0023+0923. Setting value to 1 with 20% uncertainty.\n"
     ]
    },
    {
     "name": "stdout",
     "output_type": "stream",
     "text": [
      "Initializing the model...\n"
     ]
    },
    {
     "name": "stderr",
     "output_type": "stream",
     "text": [
      "WARNING: Could not find pulsar distance for PSR J0023+0923. Setting value to 1 with 20% uncertainty.\n"
     ]
    },
    {
     "name": "stdout",
     "output_type": "stream",
     "text": [
      "Initializing the model...\n"
     ]
    },
    {
     "name": "stderr",
     "output_type": "stream",
     "text": [
      "WARNING: Could not find pulsar distance for PSR J0023+0923. Setting value to 1 with 20% uncertainty.\n"
     ]
    },
    {
     "name": "stdout",
     "output_type": "stream",
     "text": [
      "Initializing the model...\n"
     ]
    },
    {
     "name": "stderr",
     "output_type": "stream",
     "text": [
      "WARNING: Could not find pulsar distance for PSR J0023+0923. Setting value to 1 with 20% uncertainty.\n"
     ]
    },
    {
     "name": "stdout",
     "output_type": "stream",
     "text": [
      "Initializing the model...\n"
     ]
    },
    {
     "name": "stderr",
     "output_type": "stream",
     "text": [
      "WARNING: Could not find pulsar distance for PSR J0023+0923. Setting value to 1 with 20% uncertainty.\n"
     ]
    },
    {
     "name": "stdout",
     "output_type": "stream",
     "text": [
      "Initializing the model...\n"
     ]
    },
    {
     "name": "stderr",
     "output_type": "stream",
     "text": [
      "WARNING: Could not find pulsar distance for PSR J0023+0923. Setting value to 1 with 20% uncertainty.\n"
     ]
    },
    {
     "name": "stdout",
     "output_type": "stream",
     "text": [
      "Initializing the model...\n"
     ]
    },
    {
     "name": "stderr",
     "output_type": "stream",
     "text": [
      "WARNING: Could not find pulsar distance for PSR J0023+0923. Setting value to 1 with 20% uncertainty.\n"
     ]
    },
    {
     "name": "stdout",
     "output_type": "stream",
     "text": [
      "Initializing the model...\n"
     ]
    },
    {
     "name": "stderr",
     "output_type": "stream",
     "text": [
      "WARNING: Could not find pulsar distance for PSR J0023+0923. Setting value to 1 with 20% uncertainty.\n"
     ]
    },
    {
     "name": "stdout",
     "output_type": "stream",
     "text": [
      "Initializing the model...\n"
     ]
    },
    {
     "name": "stderr",
     "output_type": "stream",
     "text": [
      "WARNING: Could not find pulsar distance for PSR J0023+0923. Setting value to 1 with 20% uncertainty.\n"
     ]
    },
    {
     "name": "stdout",
     "output_type": "stream",
     "text": [
      "Initializing the model...\n"
     ]
    },
    {
     "name": "stderr",
     "output_type": "stream",
     "text": [
      "WARNING: Could not find pulsar distance for PSR J0023+0923. Setting value to 1 with 20% uncertainty.\n"
     ]
    },
    {
     "name": "stdout",
     "output_type": "stream",
     "text": [
      "Initializing the model...\n"
     ]
    },
    {
     "name": "stderr",
     "output_type": "stream",
     "text": [
      "WARNING: Could not find pulsar distance for PSR J0023+0923. Setting value to 1 with 20% uncertainty.\n"
     ]
    },
    {
     "name": "stdout",
     "output_type": "stream",
     "text": [
      "Initializing the model...\n"
     ]
    },
    {
     "name": "stderr",
     "output_type": "stream",
     "text": [
      "WARNING: Could not find pulsar distance for PSR J0023+0923. Setting value to 1 with 20% uncertainty.\n"
     ]
    },
    {
     "name": "stdout",
     "output_type": "stream",
     "text": [
      "Initializing the model...\n"
     ]
    },
    {
     "name": "stderr",
     "output_type": "stream",
     "text": [
      "WARNING: Could not find pulsar distance for PSR J0023+0923. Setting value to 1 with 20% uncertainty.\n"
     ]
    },
    {
     "name": "stdout",
     "output_type": "stream",
     "text": [
      "Initializing the model...\n"
     ]
    },
    {
     "name": "stderr",
     "output_type": "stream",
     "text": [
      "WARNING: Could not find pulsar distance for PSR J0023+0923. Setting value to 1 with 20% uncertainty.\n"
     ]
    },
    {
     "name": "stdout",
     "output_type": "stream",
     "text": [
      "Initializing the model...\n"
     ]
    },
    {
     "name": "stderr",
     "output_type": "stream",
     "text": [
      "WARNING: Could not find pulsar distance for PSR J0023+0923. Setting value to 1 with 20% uncertainty.\n"
     ]
    },
    {
     "name": "stdout",
     "output_type": "stream",
     "text": [
      "Initializing the model...\n"
     ]
    },
    {
     "name": "stderr",
     "output_type": "stream",
     "text": [
      "WARNING: Could not find pulsar distance for PSR J0023+0923. Setting value to 1 with 20% uncertainty.\n"
     ]
    },
    {
     "name": "stdout",
     "output_type": "stream",
     "text": [
      "Initializing the model...\n"
     ]
    },
    {
     "name": "stderr",
     "output_type": "stream",
     "text": [
      "WARNING: Could not find pulsar distance for PSR J0023+0923. Setting value to 1 with 20% uncertainty.\n"
     ]
    },
    {
     "name": "stdout",
     "output_type": "stream",
     "text": [
      "Initializing the model...\n"
     ]
    },
    {
     "name": "stderr",
     "output_type": "stream",
     "text": [
      "WARNING: Could not find pulsar distance for PSR J0023+0923. Setting value to 1 with 20% uncertainty.\n"
     ]
    },
    {
     "name": "stdout",
     "output_type": "stream",
     "text": [
      "Initializing the model...\n"
     ]
    },
    {
     "name": "stderr",
     "output_type": "stream",
     "text": [
      "WARNING: Could not find pulsar distance for PSR J0023+0923. Setting value to 1 with 20% uncertainty.\n"
     ]
    },
    {
     "name": "stdout",
     "output_type": "stream",
     "text": [
      "Initializing the model...\n"
     ]
    },
    {
     "name": "stderr",
     "output_type": "stream",
     "text": [
      "WARNING: Could not find pulsar distance for PSR J0023+0923. Setting value to 1 with 20% uncertainty.\n"
     ]
    },
    {
     "name": "stdout",
     "output_type": "stream",
     "text": [
      "Initializing the model...\n"
     ]
    },
    {
     "name": "stderr",
     "output_type": "stream",
     "text": [
      "WARNING: Could not find pulsar distance for PSR J0023+0923. Setting value to 1 with 20% uncertainty.\n"
     ]
    },
    {
     "name": "stdout",
     "output_type": "stream",
     "text": [
      "Initializing the model...\n"
     ]
    },
    {
     "name": "stderr",
     "output_type": "stream",
     "text": [
      "WARNING: Could not find pulsar distance for PSR J0023+0923. Setting value to 1 with 20% uncertainty.\n"
     ]
    },
    {
     "name": "stdout",
     "output_type": "stream",
     "text": [
      "Initializing the model...\n"
     ]
    },
    {
     "name": "stderr",
     "output_type": "stream",
     "text": [
      "WARNING: Could not find pulsar distance for PSR J0023+0923. Setting value to 1 with 20% uncertainty.\n"
     ]
    },
    {
     "name": "stdout",
     "output_type": "stream",
     "text": [
      "Initializing the model...\n"
     ]
    },
    {
     "name": "stderr",
     "output_type": "stream",
     "text": [
      "WARNING: Could not find pulsar distance for PSR J0023+0923. Setting value to 1 with 20% uncertainty.\n"
     ]
    },
    {
     "name": "stdout",
     "output_type": "stream",
     "text": [
      "Initializing the model...\n"
     ]
    },
    {
     "name": "stderr",
     "output_type": "stream",
     "text": [
      "WARNING: Could not find pulsar distance for PSR J0023+0923. Setting value to 1 with 20% uncertainty.\n"
     ]
    },
    {
     "name": "stdout",
     "output_type": "stream",
     "text": [
      "Initializing the model...\n"
     ]
    },
    {
     "name": "stderr",
     "output_type": "stream",
     "text": [
      "WARNING: Could not find pulsar distance for PSR J0023+0923. Setting value to 1 with 20% uncertainty.\n"
     ]
    },
    {
     "name": "stdout",
     "output_type": "stream",
     "text": [
      "Initializing the model...\n"
     ]
    },
    {
     "name": "stderr",
     "output_type": "stream",
     "text": [
      "WARNING: Could not find pulsar distance for PSR J0023+0923. Setting value to 1 with 20% uncertainty.\n"
     ]
    },
    {
     "name": "stdout",
     "output_type": "stream",
     "text": [
      "Initializing the model...\n"
     ]
    },
    {
     "name": "stderr",
     "output_type": "stream",
     "text": [
      "WARNING: Could not find pulsar distance for PSR J0023+0923. Setting value to 1 with 20% uncertainty.\n"
     ]
    },
    {
     "name": "stdout",
     "output_type": "stream",
     "text": [
      "Initializing the model...\n"
     ]
    },
    {
     "name": "stderr",
     "output_type": "stream",
     "text": [
      "WARNING: Could not find pulsar distance for PSR J0023+0923. Setting value to 1 with 20% uncertainty.\n"
     ]
    },
    {
     "name": "stdout",
     "output_type": "stream",
     "text": [
      "Initializing the model...\n"
     ]
    },
    {
     "name": "stderr",
     "output_type": "stream",
     "text": [
      "WARNING: Could not find pulsar distance for PSR J0023+0923. Setting value to 1 with 20% uncertainty.\n"
     ]
    },
    {
     "name": "stdout",
     "output_type": "stream",
     "text": [
      "Initializing the model...\n"
     ]
    },
    {
     "name": "stderr",
     "output_type": "stream",
     "text": [
      "WARNING: Could not find pulsar distance for PSR J0023+0923. Setting value to 1 with 20% uncertainty.\n"
     ]
    },
    {
     "name": "stdout",
     "output_type": "stream",
     "text": [
      "Initializing the model...\n"
     ]
    },
    {
     "name": "stderr",
     "output_type": "stream",
     "text": [
      "WARNING: Could not find pulsar distance for PSR J0023+0923. Setting value to 1 with 20% uncertainty.\n"
     ]
    },
    {
     "name": "stdout",
     "output_type": "stream",
     "text": [
      "Initializing the model...\n"
     ]
    },
    {
     "name": "stderr",
     "output_type": "stream",
     "text": [
      "WARNING: Could not find pulsar distance for PSR J0023+0923. Setting value to 1 with 20% uncertainty.\n"
     ]
    },
    {
     "name": "stdout",
     "output_type": "stream",
     "text": [
      "Initializing the model...\n"
     ]
    },
    {
     "name": "stderr",
     "output_type": "stream",
     "text": [
      "WARNING: Could not find pulsar distance for PSR J0023+0923. Setting value to 1 with 20% uncertainty.\n"
     ]
    },
    {
     "name": "stdout",
     "output_type": "stream",
     "text": [
      "Initializing the model...\n"
     ]
    },
    {
     "name": "stderr",
     "output_type": "stream",
     "text": [
      "WARNING: Could not find pulsar distance for PSR J0023+0923. Setting value to 1 with 20% uncertainty.\n"
     ]
    },
    {
     "name": "stdout",
     "output_type": "stream",
     "text": [
      "Initializing the model...\n"
     ]
    },
    {
     "name": "stderr",
     "output_type": "stream",
     "text": [
      "WARNING: Could not find pulsar distance for PSR J0023+0923. Setting value to 1 with 20% uncertainty.\n"
     ]
    },
    {
     "name": "stdout",
     "output_type": "stream",
     "text": [
      "Initializing the model...\n"
     ]
    },
    {
     "name": "stderr",
     "output_type": "stream",
     "text": [
      "WARNING: Could not find pulsar distance for PSR J0023+0923. Setting value to 1 with 20% uncertainty.\n"
     ]
    },
    {
     "name": "stdout",
     "output_type": "stream",
     "text": [
      "Initializing the model...\n"
     ]
    },
    {
     "name": "stderr",
     "output_type": "stream",
     "text": [
      "WARNING: Could not find pulsar distance for PSR J0023+0923. Setting value to 1 with 20% uncertainty.\n"
     ]
    },
    {
     "name": "stdout",
     "output_type": "stream",
     "text": [
      "Initializing the model...\n"
     ]
    },
    {
     "name": "stderr",
     "output_type": "stream",
     "text": [
      "WARNING: Could not find pulsar distance for PSR J0023+0923. Setting value to 1 with 20% uncertainty.\n"
     ]
    },
    {
     "name": "stdout",
     "output_type": "stream",
     "text": [
      "Initializing the model...\n"
     ]
    },
    {
     "name": "stderr",
     "output_type": "stream",
     "text": [
      "WARNING: Could not find pulsar distance for PSR J0023+0923. Setting value to 1 with 20% uncertainty.\n"
     ]
    },
    {
     "name": "stdout",
     "output_type": "stream",
     "text": [
      "Initializing the model...\n"
     ]
    },
    {
     "name": "stderr",
     "output_type": "stream",
     "text": [
      "WARNING: Could not find pulsar distance for PSR J0023+0923. Setting value to 1 with 20% uncertainty.\n"
     ]
    },
    {
     "name": "stdout",
     "output_type": "stream",
     "text": [
      "Initializing the model...\n"
     ]
    },
    {
     "name": "stderr",
     "output_type": "stream",
     "text": [
      "WARNING: Could not find pulsar distance for PSR J0023+0923. Setting value to 1 with 20% uncertainty.\n"
     ]
    },
    {
     "name": "stdout",
     "output_type": "stream",
     "text": [
      "Initializing the model...\n"
     ]
    },
    {
     "name": "stderr",
     "output_type": "stream",
     "text": [
      "WARNING: Could not find pulsar distance for PSR J0023+0923. Setting value to 1 with 20% uncertainty.\n"
     ]
    },
    {
     "name": "stdout",
     "output_type": "stream",
     "text": [
      "Initializing the model...\n"
     ]
    },
    {
     "name": "stderr",
     "output_type": "stream",
     "text": [
      "WARNING: Could not find pulsar distance for PSR J0023+0923. Setting value to 1 with 20% uncertainty.\n"
     ]
    },
    {
     "name": "stdout",
     "output_type": "stream",
     "text": [
      "Initializing the model...\n"
     ]
    },
    {
     "name": "stderr",
     "output_type": "stream",
     "text": [
      "WARNING: Could not find pulsar distance for PSR J0023+0923. Setting value to 1 with 20% uncertainty.\n"
     ]
    },
    {
     "name": "stdout",
     "output_type": "stream",
     "text": [
      "Initializing the model...\n"
     ]
    },
    {
     "name": "stderr",
     "output_type": "stream",
     "text": [
      "WARNING: Could not find pulsar distance for PSR J0023+0923. Setting value to 1 with 20% uncertainty.\n"
     ]
    },
    {
     "name": "stdout",
     "output_type": "stream",
     "text": [
      "Initializing the model...\n"
     ]
    },
    {
     "name": "stderr",
     "output_type": "stream",
     "text": [
      "WARNING: Could not find pulsar distance for PSR J0023+0923. Setting value to 1 with 20% uncertainty.\n"
     ]
    },
    {
     "name": "stdout",
     "output_type": "stream",
     "text": [
      "Initializing the model...\n"
     ]
    },
    {
     "name": "stderr",
     "output_type": "stream",
     "text": [
      "WARNING: Could not find pulsar distance for PSR J0023+0923. Setting value to 1 with 20% uncertainty.\n"
     ]
    },
    {
     "name": "stdout",
     "output_type": "stream",
     "text": [
      "Initializing the model...\n"
     ]
    },
    {
     "name": "stderr",
     "output_type": "stream",
     "text": [
      "WARNING: Could not find pulsar distance for PSR J0023+0923. Setting value to 1 with 20% uncertainty.\n"
     ]
    },
    {
     "name": "stdout",
     "output_type": "stream",
     "text": [
      "Initializing the model...\n"
     ]
    },
    {
     "name": "stderr",
     "output_type": "stream",
     "text": [
      "WARNING: Could not find pulsar distance for PSR J0023+0923. Setting value to 1 with 20% uncertainty.\n"
     ]
    },
    {
     "name": "stdout",
     "output_type": "stream",
     "text": [
      "Initializing the model...\n"
     ]
    },
    {
     "name": "stderr",
     "output_type": "stream",
     "text": [
      "WARNING: Could not find pulsar distance for PSR J0023+0923. Setting value to 1 with 20% uncertainty.\n"
     ]
    },
    {
     "name": "stdout",
     "output_type": "stream",
     "text": [
      "Initializing the model...\n"
     ]
    },
    {
     "name": "stderr",
     "output_type": "stream",
     "text": [
      "WARNING: Could not find pulsar distance for PSR J0023+0923. Setting value to 1 with 20% uncertainty.\n"
     ]
    },
    {
     "name": "stdout",
     "output_type": "stream",
     "text": [
      "Initializing the model...\n"
     ]
    },
    {
     "name": "stderr",
     "output_type": "stream",
     "text": [
      "WARNING: Could not find pulsar distance for PSR J0023+0923. Setting value to 1 with 20% uncertainty.\n"
     ]
    },
    {
     "name": "stdout",
     "output_type": "stream",
     "text": [
      "Initializing the model...\n"
     ]
    },
    {
     "name": "stderr",
     "output_type": "stream",
     "text": [
      "WARNING: Could not find pulsar distance for PSR J0023+0923. Setting value to 1 with 20% uncertainty.\n"
     ]
    },
    {
     "name": "stdout",
     "output_type": "stream",
     "text": [
      "Initializing the model...\n"
     ]
    },
    {
     "name": "stderr",
     "output_type": "stream",
     "text": [
      "WARNING: Could not find pulsar distance for PSR J0023+0923. Setting value to 1 with 20% uncertainty.\n"
     ]
    },
    {
     "name": "stdout",
     "output_type": "stream",
     "text": [
      "Initializing the model...\n"
     ]
    },
    {
     "name": "stderr",
     "output_type": "stream",
     "text": [
      "WARNING: Could not find pulsar distance for PSR J0023+0923. Setting value to 1 with 20% uncertainty.\n"
     ]
    },
    {
     "name": "stdout",
     "output_type": "stream",
     "text": [
      "Initializing the model...\n"
     ]
    },
    {
     "name": "stderr",
     "output_type": "stream",
     "text": [
      "WARNING: Could not find pulsar distance for PSR J0023+0923. Setting value to 1 with 20% uncertainty.\n"
     ]
    },
    {
     "name": "stdout",
     "output_type": "stream",
     "text": [
      "Initializing the model...\n"
     ]
    },
    {
     "name": "stderr",
     "output_type": "stream",
     "text": [
      "WARNING: Could not find pulsar distance for PSR J0023+0923. Setting value to 1 with 20% uncertainty.\n"
     ]
    },
    {
     "name": "stdout",
     "output_type": "stream",
     "text": [
      "Initializing the model...\n"
     ]
    },
    {
     "name": "stderr",
     "output_type": "stream",
     "text": [
      "WARNING: Could not find pulsar distance for PSR J0023+0923. Setting value to 1 with 20% uncertainty.\n"
     ]
    },
    {
     "name": "stdout",
     "output_type": "stream",
     "text": [
      "Initializing the model...\n"
     ]
    },
    {
     "name": "stderr",
     "output_type": "stream",
     "text": [
      "WARNING: Could not find pulsar distance for PSR J0023+0923. Setting value to 1 with 20% uncertainty.\n"
     ]
    },
    {
     "name": "stdout",
     "output_type": "stream",
     "text": [
      "Initializing the model...\n"
     ]
    },
    {
     "name": "stderr",
     "output_type": "stream",
     "text": [
      "WARNING: Could not find pulsar distance for PSR J0023+0923. Setting value to 1 with 20% uncertainty.\n"
     ]
    },
    {
     "name": "stdout",
     "output_type": "stream",
     "text": [
      "Initializing the model...\n"
     ]
    },
    {
     "name": "stderr",
     "output_type": "stream",
     "text": [
      "WARNING: Could not find pulsar distance for PSR J0023+0923. Setting value to 1 with 20% uncertainty.\n"
     ]
    },
    {
     "name": "stdout",
     "output_type": "stream",
     "text": [
      "Initializing the model...\n"
     ]
    },
    {
     "name": "stderr",
     "output_type": "stream",
     "text": [
      "WARNING: Could not find pulsar distance for PSR J0023+0923. Setting value to 1 with 20% uncertainty.\n"
     ]
    },
    {
     "name": "stdout",
     "output_type": "stream",
     "text": [
      "Initializing the model...\n"
     ]
    },
    {
     "name": "stderr",
     "output_type": "stream",
     "text": [
      "WARNING: Could not find pulsar distance for PSR J0023+0923. Setting value to 1 with 20% uncertainty.\n"
     ]
    },
    {
     "name": "stdout",
     "output_type": "stream",
     "text": [
      "Initializing the model...\n"
     ]
    },
    {
     "name": "stderr",
     "output_type": "stream",
     "text": [
      "WARNING: Could not find pulsar distance for PSR J0023+0923. Setting value to 1 with 20% uncertainty.\n"
     ]
    },
    {
     "name": "stdout",
     "output_type": "stream",
     "text": [
      "Initializing the model...\n"
     ]
    },
    {
     "name": "stderr",
     "output_type": "stream",
     "text": [
      "WARNING: Could not find pulsar distance for PSR J0023+0923. Setting value to 1 with 20% uncertainty.\n"
     ]
    },
    {
     "name": "stdout",
     "output_type": "stream",
     "text": [
      "Initializing the model...\n"
     ]
    },
    {
     "name": "stderr",
     "output_type": "stream",
     "text": [
      "WARNING: Could not find pulsar distance for PSR J0023+0923. Setting value to 1 with 20% uncertainty.\n"
     ]
    },
    {
     "name": "stdout",
     "output_type": "stream",
     "text": [
      "Initializing the model...\n"
     ]
    },
    {
     "name": "stderr",
     "output_type": "stream",
     "text": [
      "WARNING: Could not find pulsar distance for PSR J0023+0923. Setting value to 1 with 20% uncertainty.\n"
     ]
    },
    {
     "name": "stdout",
     "output_type": "stream",
     "text": [
      "Initializing the model...\n"
     ]
    },
    {
     "name": "stderr",
     "output_type": "stream",
     "text": [
      "WARNING: Could not find pulsar distance for PSR J0023+0923. Setting value to 1 with 20% uncertainty.\n"
     ]
    },
    {
     "name": "stdout",
     "output_type": "stream",
     "text": [
      "Initializing the model...\n"
     ]
    },
    {
     "name": "stderr",
     "output_type": "stream",
     "text": [
      "WARNING: Could not find pulsar distance for PSR J0023+0923. Setting value to 1 with 20% uncertainty.\n"
     ]
    },
    {
     "name": "stdout",
     "output_type": "stream",
     "text": [
      "Initializing the model...\n"
     ]
    },
    {
     "name": "stderr",
     "output_type": "stream",
     "text": [
      "WARNING: Could not find pulsar distance for PSR J0023+0923. Setting value to 1 with 20% uncertainty.\n"
     ]
    },
    {
     "name": "stdout",
     "output_type": "stream",
     "text": [
      "Initializing the model...\n"
     ]
    },
    {
     "name": "stderr",
     "output_type": "stream",
     "text": [
      "WARNING: Could not find pulsar distance for PSR J0023+0923. Setting value to 1 with 20% uncertainty.\n"
     ]
    },
    {
     "name": "stdout",
     "output_type": "stream",
     "text": [
      "Initializing the model...\n"
     ]
    },
    {
     "name": "stderr",
     "output_type": "stream",
     "text": [
      "WARNING: Could not find pulsar distance for PSR J0023+0923. Setting value to 1 with 20% uncertainty.\n"
     ]
    },
    {
     "name": "stdout",
     "output_type": "stream",
     "text": [
      "Initializing the model...\n"
     ]
    },
    {
     "name": "stderr",
     "output_type": "stream",
     "text": [
      "WARNING: Could not find pulsar distance for PSR J0023+0923. Setting value to 1 with 20% uncertainty.\n"
     ]
    },
    {
     "name": "stdout",
     "output_type": "stream",
     "text": [
      "Initializing the model...\n"
     ]
    },
    {
     "name": "stderr",
     "output_type": "stream",
     "text": [
      "WARNING: Could not find pulsar distance for PSR J0023+0923. Setting value to 1 with 20% uncertainty.\n"
     ]
    },
    {
     "name": "stdout",
     "output_type": "stream",
     "text": [
      "Initializing the model...\n"
     ]
    },
    {
     "name": "stderr",
     "output_type": "stream",
     "text": [
      "WARNING: Could not find pulsar distance for PSR J0023+0923. Setting value to 1 with 20% uncertainty.\n"
     ]
    },
    {
     "name": "stdout",
     "output_type": "stream",
     "text": [
      "Initializing the model...\n"
     ]
    },
    {
     "name": "stderr",
     "output_type": "stream",
     "text": [
      "WARNING: Could not find pulsar distance for PSR J0023+0923. Setting value to 1 with 20% uncertainty.\n"
     ]
    },
    {
     "name": "stdout",
     "output_type": "stream",
     "text": [
      "Initializing the model...\n"
     ]
    },
    {
     "name": "stderr",
     "output_type": "stream",
     "text": [
      "WARNING: Could not find pulsar distance for PSR J0023+0923. Setting value to 1 with 20% uncertainty.\n"
     ]
    },
    {
     "name": "stdout",
     "output_type": "stream",
     "text": [
      "Initializing the model...\n"
     ]
    },
    {
     "name": "stderr",
     "output_type": "stream",
     "text": [
      "WARNING: Could not find pulsar distance for PSR J0023+0923. Setting value to 1 with 20% uncertainty.\n"
     ]
    },
    {
     "name": "stdout",
     "output_type": "stream",
     "text": [
      "Initializing the model...\n"
     ]
    },
    {
     "name": "stderr",
     "output_type": "stream",
     "text": [
      "WARNING: Could not find pulsar distance for PSR J0023+0923. Setting value to 1 with 20% uncertainty.\n"
     ]
    },
    {
     "name": "stdout",
     "output_type": "stream",
     "text": [
      "Initializing the model...\n"
     ]
    },
    {
     "name": "stderr",
     "output_type": "stream",
     "text": [
      "WARNING: Could not find pulsar distance for PSR J0023+0923. Setting value to 1 with 20% uncertainty.\n"
     ]
    },
    {
     "name": "stdout",
     "output_type": "stream",
     "text": [
      "Initializing the model...\n"
     ]
    },
    {
     "name": "stderr",
     "output_type": "stream",
     "text": [
      "WARNING: Could not find pulsar distance for PSR J0023+0923. Setting value to 1 with 20% uncertainty.\n"
     ]
    },
    {
     "name": "stdout",
     "output_type": "stream",
     "text": [
      "Initializing the model...\n"
     ]
    },
    {
     "name": "stderr",
     "output_type": "stream",
     "text": [
      "WARNING: Could not find pulsar distance for PSR J0023+0923. Setting value to 1 with 20% uncertainty.\n"
     ]
    },
    {
     "name": "stdout",
     "output_type": "stream",
     "text": [
      "Initializing the model...\n"
     ]
    },
    {
     "name": "stderr",
     "output_type": "stream",
     "text": [
      "WARNING: Could not find pulsar distance for PSR J0023+0923. Setting value to 1 with 20% uncertainty.\n"
     ]
    },
    {
     "name": "stdout",
     "output_type": "stream",
     "text": [
      "Initializing the model...\n"
     ]
    },
    {
     "name": "stderr",
     "output_type": "stream",
     "text": [
      "WARNING: Could not find pulsar distance for PSR J0023+0923. Setting value to 1 with 20% uncertainty.\n"
     ]
    },
    {
     "name": "stdout",
     "output_type": "stream",
     "text": [
      "Initializing the model...\n"
     ]
    },
    {
     "name": "stderr",
     "output_type": "stream",
     "text": [
      "WARNING: Could not find pulsar distance for PSR J0023+0923. Setting value to 1 with 20% uncertainty.\n"
     ]
    },
    {
     "name": "stdout",
     "output_type": "stream",
     "text": [
      "Initializing the model...\n"
     ]
    },
    {
     "name": "stderr",
     "output_type": "stream",
     "text": [
      "WARNING: Could not find pulsar distance for PSR J0023+0923. Setting value to 1 with 20% uncertainty.\n"
     ]
    },
    {
     "name": "stdout",
     "output_type": "stream",
     "text": [
      "Initializing the model...\n"
     ]
    },
    {
     "name": "stderr",
     "output_type": "stream",
     "text": [
      "WARNING: Could not find pulsar distance for PSR J0023+0923. Setting value to 1 with 20% uncertainty.\n"
     ]
    },
    {
     "name": "stdout",
     "output_type": "stream",
     "text": [
      "Initializing the model...\n"
     ]
    },
    {
     "name": "stderr",
     "output_type": "stream",
     "text": [
      "WARNING: Could not find pulsar distance for PSR J0023+0923. Setting value to 1 with 20% uncertainty.\n"
     ]
    },
    {
     "name": "stdout",
     "output_type": "stream",
     "text": [
      "Initializing the model...\n"
     ]
    },
    {
     "name": "stderr",
     "output_type": "stream",
     "text": [
      "WARNING: Could not find pulsar distance for PSR J0023+0923. Setting value to 1 with 20% uncertainty.\n"
     ]
    },
    {
     "name": "stdout",
     "output_type": "stream",
     "text": [
      "Initializing the model...\n"
     ]
    },
    {
     "name": "stderr",
     "output_type": "stream",
     "text": [
      "WARNING: Could not find pulsar distance for PSR J0023+0923. Setting value to 1 with 20% uncertainty.\n"
     ]
    },
    {
     "name": "stdout",
     "output_type": "stream",
     "text": [
      "Initializing the model...\n"
     ]
    },
    {
     "name": "stderr",
     "output_type": "stream",
     "text": [
      "WARNING: Could not find pulsar distance for PSR J0023+0923. Setting value to 1 with 20% uncertainty.\n"
     ]
    },
    {
     "name": "stdout",
     "output_type": "stream",
     "text": [
      "Initializing the model...\n"
     ]
    },
    {
     "name": "stderr",
     "output_type": "stream",
     "text": [
      "WARNING: Could not find pulsar distance for PSR J0023+0923. Setting value to 1 with 20% uncertainty.\n"
     ]
    },
    {
     "name": "stdout",
     "output_type": "stream",
     "text": [
      "Initializing the model...\n"
     ]
    },
    {
     "name": "stderr",
     "output_type": "stream",
     "text": [
      "WARNING: Could not find pulsar distance for PSR J0023+0923. Setting value to 1 with 20% uncertainty.\n"
     ]
    },
    {
     "name": "stdout",
     "output_type": "stream",
     "text": [
      "Initializing the model...\n"
     ]
    },
    {
     "name": "stderr",
     "output_type": "stream",
     "text": [
      "WARNING: Could not find pulsar distance for PSR J0023+0923. Setting value to 1 with 20% uncertainty.\n"
     ]
    },
    {
     "name": "stdout",
     "output_type": "stream",
     "text": [
      "Initializing the model...\n"
     ]
    },
    {
     "name": "stderr",
     "output_type": "stream",
     "text": [
      "WARNING: Could not find pulsar distance for PSR J0023+0923. Setting value to 1 with 20% uncertainty.\n"
     ]
    },
    {
     "name": "stdout",
     "output_type": "stream",
     "text": [
      "Initializing the model...\n"
     ]
    },
    {
     "name": "stderr",
     "output_type": "stream",
     "text": [
      "WARNING: Could not find pulsar distance for PSR J0023+0923. Setting value to 1 with 20% uncertainty.\n"
     ]
    },
    {
     "name": "stdout",
     "output_type": "stream",
     "text": [
      "Initializing the model...\n"
     ]
    },
    {
     "name": "stderr",
     "output_type": "stream",
     "text": [
      "WARNING: Could not find pulsar distance for PSR J0023+0923. Setting value to 1 with 20% uncertainty.\n"
     ]
    },
    {
     "name": "stdout",
     "output_type": "stream",
     "text": [
      "Initializing the model...\n"
     ]
    },
    {
     "name": "stderr",
     "output_type": "stream",
     "text": [
      "WARNING: Could not find pulsar distance for PSR J0023+0923. Setting value to 1 with 20% uncertainty.\n"
     ]
    },
    {
     "name": "stdout",
     "output_type": "stream",
     "text": [
      "Initializing the model...\n"
     ]
    },
    {
     "name": "stderr",
     "output_type": "stream",
     "text": [
      "WARNING: Could not find pulsar distance for PSR J0023+0923. Setting value to 1 with 20% uncertainty.\n"
     ]
    },
    {
     "name": "stdout",
     "output_type": "stream",
     "text": [
      "Initializing the model...\n"
     ]
    },
    {
     "name": "stderr",
     "output_type": "stream",
     "text": [
      "WARNING: Could not find pulsar distance for PSR J0023+0923. Setting value to 1 with 20% uncertainty.\n"
     ]
    },
    {
     "name": "stdout",
     "output_type": "stream",
     "text": [
      "Initializing the model...\n"
     ]
    },
    {
     "name": "stderr",
     "output_type": "stream",
     "text": [
      "WARNING: Could not find pulsar distance for PSR J0023+0923. Setting value to 1 with 20% uncertainty.\n"
     ]
    },
    {
     "name": "stdout",
     "output_type": "stream",
     "text": [
      "Initializing the model...\n"
     ]
    },
    {
     "name": "stderr",
     "output_type": "stream",
     "text": [
      "WARNING: Could not find pulsar distance for PSR J0023+0923. Setting value to 1 with 20% uncertainty.\n"
     ]
    },
    {
     "name": "stdout",
     "output_type": "stream",
     "text": [
      "Initializing the model...\n"
     ]
    },
    {
     "name": "stderr",
     "output_type": "stream",
     "text": [
      "WARNING: Could not find pulsar distance for PSR J0023+0923. Setting value to 1 with 20% uncertainty.\n"
     ]
    },
    {
     "name": "stdout",
     "output_type": "stream",
     "text": [
      "Initializing the model...\n"
     ]
    },
    {
     "name": "stderr",
     "output_type": "stream",
     "text": [
      "WARNING: Could not find pulsar distance for PSR J0023+0923. Setting value to 1 with 20% uncertainty.\n"
     ]
    },
    {
     "name": "stdout",
     "output_type": "stream",
     "text": [
      "Initializing the model...\n"
     ]
    },
    {
     "name": "stderr",
     "output_type": "stream",
     "text": [
      "WARNING: Could not find pulsar distance for PSR J0023+0923. Setting value to 1 with 20% uncertainty.\n"
     ]
    },
    {
     "name": "stdout",
     "output_type": "stream",
     "text": [
      "Initializing the model...\n"
     ]
    },
    {
     "name": "stderr",
     "output_type": "stream",
     "text": [
      "WARNING: Could not find pulsar distance for PSR J0023+0923. Setting value to 1 with 20% uncertainty.\n"
     ]
    },
    {
     "name": "stdout",
     "output_type": "stream",
     "text": [
      "Initializing the model...\n"
     ]
    },
    {
     "name": "stderr",
     "output_type": "stream",
     "text": [
      "WARNING: Could not find pulsar distance for PSR J0023+0923. Setting value to 1 with 20% uncertainty.\n"
     ]
    },
    {
     "name": "stdout",
     "output_type": "stream",
     "text": [
      "Initializing the model...\n"
     ]
    },
    {
     "name": "stderr",
     "output_type": "stream",
     "text": [
      "WARNING: Could not find pulsar distance for PSR J0023+0923. Setting value to 1 with 20% uncertainty.\n"
     ]
    },
    {
     "name": "stdout",
     "output_type": "stream",
     "text": [
      "Initializing the model...\n"
     ]
    },
    {
     "name": "stderr",
     "output_type": "stream",
     "text": [
      "WARNING: Could not find pulsar distance for PSR J0023+0923. Setting value to 1 with 20% uncertainty.\n"
     ]
    },
    {
     "name": "stdout",
     "output_type": "stream",
     "text": [
      "Initializing the model...\n"
     ]
    },
    {
     "name": "stderr",
     "output_type": "stream",
     "text": [
      "WARNING: Could not find pulsar distance for PSR J0023+0923. Setting value to 1 with 20% uncertainty.\n"
     ]
    },
    {
     "name": "stdout",
     "output_type": "stream",
     "text": [
      "Initializing the model...\n"
     ]
    },
    {
     "name": "stderr",
     "output_type": "stream",
     "text": [
      "WARNING: Could not find pulsar distance for PSR J0023+0923. Setting value to 1 with 20% uncertainty.\n"
     ]
    },
    {
     "name": "stdout",
     "output_type": "stream",
     "text": [
      "Initializing the model...\n"
     ]
    },
    {
     "name": "stderr",
     "output_type": "stream",
     "text": [
      "WARNING: Could not find pulsar distance for PSR J0023+0923. Setting value to 1 with 20% uncertainty.\n"
     ]
    },
    {
     "name": "stdout",
     "output_type": "stream",
     "text": [
      "Initializing the model...\n"
     ]
    },
    {
     "name": "stderr",
     "output_type": "stream",
     "text": [
      "WARNING: Could not find pulsar distance for PSR J0023+0923. Setting value to 1 with 20% uncertainty.\n"
     ]
    },
    {
     "name": "stdout",
     "output_type": "stream",
     "text": [
      "Initializing the model...\n"
     ]
    },
    {
     "name": "stderr",
     "output_type": "stream",
     "text": [
      "WARNING: Could not find pulsar distance for PSR J0023+0923. Setting value to 1 with 20% uncertainty.\n"
     ]
    },
    {
     "name": "stdout",
     "output_type": "stream",
     "text": [
      "Initializing the model...\n"
     ]
    },
    {
     "name": "stderr",
     "output_type": "stream",
     "text": [
      "WARNING: Could not find pulsar distance for PSR J0023+0923. Setting value to 1 with 20% uncertainty.\n"
     ]
    },
    {
     "name": "stdout",
     "output_type": "stream",
     "text": [
      "Initializing the model...\n"
     ]
    },
    {
     "name": "stderr",
     "output_type": "stream",
     "text": [
      "WARNING: Could not find pulsar distance for PSR J0023+0923. Setting value to 1 with 20% uncertainty.\n"
     ]
    },
    {
     "name": "stdout",
     "output_type": "stream",
     "text": [
      "Initializing the model...\n"
     ]
    },
    {
     "name": "stderr",
     "output_type": "stream",
     "text": [
      "WARNING: Could not find pulsar distance for PSR J0023+0923. Setting value to 1 with 20% uncertainty.\n"
     ]
    },
    {
     "name": "stdout",
     "output_type": "stream",
     "text": [
      "Initializing the model...\n"
     ]
    },
    {
     "name": "stderr",
     "output_type": "stream",
     "text": [
      "WARNING: Could not find pulsar distance for PSR J0023+0923. Setting value to 1 with 20% uncertainty.\n"
     ]
    },
    {
     "name": "stdout",
     "output_type": "stream",
     "text": [
      "Initializing the model...\n"
     ]
    },
    {
     "name": "stderr",
     "output_type": "stream",
     "text": [
      "WARNING: Could not find pulsar distance for PSR J0023+0923. Setting value to 1 with 20% uncertainty.\n"
     ]
    },
    {
     "name": "stdout",
     "output_type": "stream",
     "text": [
      "Initializing the model...\n"
     ]
    },
    {
     "name": "stderr",
     "output_type": "stream",
     "text": [
      "WARNING: Could not find pulsar distance for PSR J0023+0923. Setting value to 1 with 20% uncertainty.\n"
     ]
    },
    {
     "name": "stdout",
     "output_type": "stream",
     "text": [
      "Initializing the model...\n"
     ]
    },
    {
     "name": "stderr",
     "output_type": "stream",
     "text": [
      "WARNING: Could not find pulsar distance for PSR J0023+0923. Setting value to 1 with 20% uncertainty.\n"
     ]
    },
    {
     "name": "stdout",
     "output_type": "stream",
     "text": [
      "Initializing the model...\n"
     ]
    },
    {
     "name": "stderr",
     "output_type": "stream",
     "text": [
      "WARNING: Could not find pulsar distance for PSR J0023+0923. Setting value to 1 with 20% uncertainty.\n"
     ]
    },
    {
     "name": "stdout",
     "output_type": "stream",
     "text": [
      "Initializing the model...\n"
     ]
    },
    {
     "name": "stderr",
     "output_type": "stream",
     "text": [
      "WARNING: Could not find pulsar distance for PSR J0023+0923. Setting value to 1 with 20% uncertainty.\n"
     ]
    },
    {
     "name": "stdout",
     "output_type": "stream",
     "text": [
      "Initializing the model...\n"
     ]
    },
    {
     "name": "stderr",
     "output_type": "stream",
     "text": [
      "WARNING: Could not find pulsar distance for PSR J0023+0923. Setting value to 1 with 20% uncertainty.\n"
     ]
    },
    {
     "name": "stdout",
     "output_type": "stream",
     "text": [
      "Initializing the model...\n"
     ]
    },
    {
     "name": "stderr",
     "output_type": "stream",
     "text": [
      "WARNING: Could not find pulsar distance for PSR J0023+0923. Setting value to 1 with 20% uncertainty.\n"
     ]
    },
    {
     "name": "stdout",
     "output_type": "stream",
     "text": [
      "Initializing the model...\n"
     ]
    },
    {
     "name": "stderr",
     "output_type": "stream",
     "text": [
      "WARNING: Could not find pulsar distance for PSR J0023+0923. Setting value to 1 with 20% uncertainty.\n"
     ]
    },
    {
     "name": "stdout",
     "output_type": "stream",
     "text": [
      "Initializing the model...\n"
     ]
    },
    {
     "name": "stderr",
     "output_type": "stream",
     "text": [
      "WARNING: Could not find pulsar distance for PSR J0023+0923. Setting value to 1 with 20% uncertainty.\n"
     ]
    },
    {
     "name": "stdout",
     "output_type": "stream",
     "text": [
      "Initializing the model...\n"
     ]
    },
    {
     "name": "stderr",
     "output_type": "stream",
     "text": [
      "WARNING: Could not find pulsar distance for PSR J0023+0923. Setting value to 1 with 20% uncertainty.\n"
     ]
    },
    {
     "name": "stdout",
     "output_type": "stream",
     "text": [
      "Initializing the model...\n"
     ]
    },
    {
     "name": "stderr",
     "output_type": "stream",
     "text": [
      "WARNING: Could not find pulsar distance for PSR J0023+0923. Setting value to 1 with 20% uncertainty.\n"
     ]
    },
    {
     "name": "stdout",
     "output_type": "stream",
     "text": [
      "Initializing the model...\n"
     ]
    },
    {
     "name": "stderr",
     "output_type": "stream",
     "text": [
      "WARNING: Could not find pulsar distance for PSR J0023+0923. Setting value to 1 with 20% uncertainty.\n"
     ]
    },
    {
     "name": "stdout",
     "output_type": "stream",
     "text": [
      "Initializing the model...\n"
     ]
    },
    {
     "name": "stderr",
     "output_type": "stream",
     "text": [
      "WARNING: Could not find pulsar distance for PSR J0023+0923. Setting value to 1 with 20% uncertainty.\n"
     ]
    },
    {
     "name": "stdout",
     "output_type": "stream",
     "text": [
      "Initializing the model...\n"
     ]
    },
    {
     "name": "stderr",
     "output_type": "stream",
     "text": [
      "WARNING: Could not find pulsar distance for PSR J0023+0923. Setting value to 1 with 20% uncertainty.\n"
     ]
    },
    {
     "name": "stdout",
     "output_type": "stream",
     "text": [
      "Initializing the model...\n"
     ]
    },
    {
     "name": "stderr",
     "output_type": "stream",
     "text": [
      "WARNING: Could not find pulsar distance for PSR J0023+0923. Setting value to 1 with 20% uncertainty.\n"
     ]
    },
    {
     "name": "stdout",
     "output_type": "stream",
     "text": [
      "Initializing the model...\n"
     ]
    },
    {
     "name": "stderr",
     "output_type": "stream",
     "text": [
      "WARNING: Could not find pulsar distance for PSR J0023+0923. Setting value to 1 with 20% uncertainty.\n"
     ]
    },
    {
     "name": "stdout",
     "output_type": "stream",
     "text": [
      "Initializing the model...\n"
     ]
    },
    {
     "name": "stderr",
     "output_type": "stream",
     "text": [
      "WARNING: Could not find pulsar distance for PSR J0023+0923. Setting value to 1 with 20% uncertainty.\n"
     ]
    },
    {
     "name": "stdout",
     "output_type": "stream",
     "text": [
      "Initializing the model...\n"
     ]
    },
    {
     "name": "stderr",
     "output_type": "stream",
     "text": [
      "WARNING: Could not find pulsar distance for PSR J0023+0923. Setting value to 1 with 20% uncertainty.\n"
     ]
    },
    {
     "name": "stdout",
     "output_type": "stream",
     "text": [
      "Initializing the model...\n"
     ]
    },
    {
     "name": "stderr",
     "output_type": "stream",
     "text": [
      "WARNING: Could not find pulsar distance for PSR J0023+0923. Setting value to 1 with 20% uncertainty.\n"
     ]
    },
    {
     "name": "stdout",
     "output_type": "stream",
     "text": [
      "Initializing the model...\n"
     ]
    },
    {
     "name": "stderr",
     "output_type": "stream",
     "text": [
      "WARNING: Could not find pulsar distance for PSR J0023+0923. Setting value to 1 with 20% uncertainty.\n"
     ]
    },
    {
     "name": "stdout",
     "output_type": "stream",
     "text": [
      "Initializing the model...\n"
     ]
    },
    {
     "name": "stderr",
     "output_type": "stream",
     "text": [
      "WARNING: Could not find pulsar distance for PSR J0023+0923. Setting value to 1 with 20% uncertainty.\n"
     ]
    },
    {
     "name": "stdout",
     "output_type": "stream",
     "text": [
      "Initializing the model...\n"
     ]
    },
    {
     "name": "stderr",
     "output_type": "stream",
     "text": [
      "WARNING: Could not find pulsar distance for PSR J0023+0923. Setting value to 1 with 20% uncertainty.\n"
     ]
    },
    {
     "name": "stdout",
     "output_type": "stream",
     "text": [
      "Initializing the model...\n"
     ]
    },
    {
     "name": "stderr",
     "output_type": "stream",
     "text": [
      "WARNING: Could not find pulsar distance for PSR J0023+0923. Setting value to 1 with 20% uncertainty.\n"
     ]
    },
    {
     "name": "stdout",
     "output_type": "stream",
     "text": [
      "Initializing the model...\n"
     ]
    },
    {
     "name": "stderr",
     "output_type": "stream",
     "text": [
      "WARNING: Could not find pulsar distance for PSR J0023+0923. Setting value to 1 with 20% uncertainty.\n"
     ]
    },
    {
     "name": "stdout",
     "output_type": "stream",
     "text": [
      "Initializing the model...\n"
     ]
    },
    {
     "name": "stderr",
     "output_type": "stream",
     "text": [
      "WARNING: Could not find pulsar distance for PSR J0023+0923. Setting value to 1 with 20% uncertainty.\n"
     ]
    },
    {
     "name": "stdout",
     "output_type": "stream",
     "text": [
      "Initializing the model...\n"
     ]
    },
    {
     "name": "stderr",
     "output_type": "stream",
     "text": [
      "WARNING: Could not find pulsar distance for PSR J0023+0923. Setting value to 1 with 20% uncertainty.\n"
     ]
    },
    {
     "name": "stdout",
     "output_type": "stream",
     "text": [
      "Initializing the model...\n"
     ]
    },
    {
     "name": "stderr",
     "output_type": "stream",
     "text": [
      "WARNING: Could not find pulsar distance for PSR J0023+0923. Setting value to 1 with 20% uncertainty.\n"
     ]
    },
    {
     "name": "stdout",
     "output_type": "stream",
     "text": [
      "Initializing the model...\n"
     ]
    },
    {
     "name": "stderr",
     "output_type": "stream",
     "text": [
      "WARNING: Could not find pulsar distance for PSR J0023+0923. Setting value to 1 with 20% uncertainty.\n"
     ]
    },
    {
     "name": "stdout",
     "output_type": "stream",
     "text": [
      "Initializing the model...\n"
     ]
    },
    {
     "name": "stderr",
     "output_type": "stream",
     "text": [
      "WARNING: Could not find pulsar distance for PSR J0023+0923. Setting value to 1 with 20% uncertainty.\n"
     ]
    },
    {
     "name": "stdout",
     "output_type": "stream",
     "text": [
      "Initializing the model...\n"
     ]
    },
    {
     "name": "stderr",
     "output_type": "stream",
     "text": [
      "WARNING: Could not find pulsar distance for PSR J0023+0923. Setting value to 1 with 20% uncertainty.\n"
     ]
    },
    {
     "name": "stdout",
     "output_type": "stream",
     "text": [
      "Initializing the model...\n"
     ]
    },
    {
     "name": "stderr",
     "output_type": "stream",
     "text": [
      "WARNING: Could not find pulsar distance for PSR J0023+0923. Setting value to 1 with 20% uncertainty.\n"
     ]
    },
    {
     "name": "stdout",
     "output_type": "stream",
     "text": [
      "Initializing the model...\n"
     ]
    },
    {
     "name": "stderr",
     "output_type": "stream",
     "text": [
      "WARNING: Could not find pulsar distance for PSR J0023+0923. Setting value to 1 with 20% uncertainty.\n"
     ]
    },
    {
     "name": "stdout",
     "output_type": "stream",
     "text": [
      "Initializing the model...\n"
     ]
    },
    {
     "name": "stderr",
     "output_type": "stream",
     "text": [
      "WARNING: Could not find pulsar distance for PSR J0023+0923. Setting value to 1 with 20% uncertainty.\n"
     ]
    },
    {
     "name": "stdout",
     "output_type": "stream",
     "text": [
      "Initializing the model...\n"
     ]
    },
    {
     "name": "stderr",
     "output_type": "stream",
     "text": [
      "WARNING: Could not find pulsar distance for PSR J0023+0923. Setting value to 1 with 20% uncertainty.\n"
     ]
    },
    {
     "name": "stdout",
     "output_type": "stream",
     "text": [
      "Initializing the model...\n"
     ]
    },
    {
     "name": "stderr",
     "output_type": "stream",
     "text": [
      "WARNING: Could not find pulsar distance for PSR J0023+0923. Setting value to 1 with 20% uncertainty.\n"
     ]
    },
    {
     "name": "stdout",
     "output_type": "stream",
     "text": [
      "Initializing the model...\n"
     ]
    },
    {
     "name": "stderr",
     "output_type": "stream",
     "text": [
      "WARNING: Could not find pulsar distance for PSR J0023+0923. Setting value to 1 with 20% uncertainty.\n"
     ]
    },
    {
     "name": "stdout",
     "output_type": "stream",
     "text": [
      "Initializing the model...\n"
     ]
    },
    {
     "name": "stderr",
     "output_type": "stream",
     "text": [
      "WARNING: Could not find pulsar distance for PSR J0023+0923. Setting value to 1 with 20% uncertainty.\n"
     ]
    },
    {
     "name": "stdout",
     "output_type": "stream",
     "text": [
      "Initializing the model...\n"
     ]
    },
    {
     "name": "stderr",
     "output_type": "stream",
     "text": [
      "WARNING: Could not find pulsar distance for PSR J0023+0923. Setting value to 1 with 20% uncertainty.\n"
     ]
    },
    {
     "name": "stdout",
     "output_type": "stream",
     "text": [
      "Initializing the model...\n"
     ]
    },
    {
     "name": "stderr",
     "output_type": "stream",
     "text": [
      "WARNING: Could not find pulsar distance for PSR J0023+0923. Setting value to 1 with 20% uncertainty.\n"
     ]
    },
    {
     "name": "stdout",
     "output_type": "stream",
     "text": [
      "Initializing the model...\n"
     ]
    },
    {
     "name": "stderr",
     "output_type": "stream",
     "text": [
      "WARNING: Could not find pulsar distance for PSR J0023+0923. Setting value to 1 with 20% uncertainty.\n"
     ]
    },
    {
     "name": "stdout",
     "output_type": "stream",
     "text": [
      "Initializing the model...\n"
     ]
    },
    {
     "name": "stderr",
     "output_type": "stream",
     "text": [
      "WARNING: Could not find pulsar distance for PSR J0023+0923. Setting value to 1 with 20% uncertainty.\n"
     ]
    },
    {
     "name": "stdout",
     "output_type": "stream",
     "text": [
      "Initializing the model...\n"
     ]
    },
    {
     "name": "stderr",
     "output_type": "stream",
     "text": [
      "WARNING: Could not find pulsar distance for PSR J0023+0923. Setting value to 1 with 20% uncertainty.\n"
     ]
    },
    {
     "name": "stdout",
     "output_type": "stream",
     "text": [
      "Initializing the model...\n"
     ]
    },
    {
     "name": "stderr",
     "output_type": "stream",
     "text": [
      "WARNING: Could not find pulsar distance for PSR J0023+0923. Setting value to 1 with 20% uncertainty.\n"
     ]
    },
    {
     "name": "stdout",
     "output_type": "stream",
     "text": [
      "Initializing the model...\n"
     ]
    },
    {
     "name": "stderr",
     "output_type": "stream",
     "text": [
      "WARNING: Could not find pulsar distance for PSR J0023+0923. Setting value to 1 with 20% uncertainty.\n"
     ]
    },
    {
     "name": "stdout",
     "output_type": "stream",
     "text": [
      "Initializing the model...\n"
     ]
    },
    {
     "name": "stderr",
     "output_type": "stream",
     "text": [
      "WARNING: Could not find pulsar distance for PSR J0023+0923. Setting value to 1 with 20% uncertainty.\n"
     ]
    },
    {
     "name": "stdout",
     "output_type": "stream",
     "text": [
      "Initializing the model...\n"
     ]
    },
    {
     "name": "stderr",
     "output_type": "stream",
     "text": [
      "WARNING: Could not find pulsar distance for PSR J0023+0923. Setting value to 1 with 20% uncertainty.\n"
     ]
    },
    {
     "name": "stdout",
     "output_type": "stream",
     "text": [
      "Initializing the model...\n"
     ]
    },
    {
     "name": "stderr",
     "output_type": "stream",
     "text": [
      "WARNING: Could not find pulsar distance for PSR J0023+0923. Setting value to 1 with 20% uncertainty.\n"
     ]
    },
    {
     "name": "stdout",
     "output_type": "stream",
     "text": [
      "Initializing the model...\n"
     ]
    },
    {
     "name": "stderr",
     "output_type": "stream",
     "text": [
      "WARNING: Could not find pulsar distance for PSR J0023+0923. Setting value to 1 with 20% uncertainty.\n"
     ]
    },
    {
     "name": "stdout",
     "output_type": "stream",
     "text": [
      "Initializing the model...\n"
     ]
    },
    {
     "name": "stderr",
     "output_type": "stream",
     "text": [
      "WARNING: Could not find pulsar distance for PSR J0023+0923. Setting value to 1 with 20% uncertainty.\n"
     ]
    },
    {
     "name": "stdout",
     "output_type": "stream",
     "text": [
      "Initializing the model...\n"
     ]
    },
    {
     "name": "stderr",
     "output_type": "stream",
     "text": [
      "WARNING: Could not find pulsar distance for PSR J0023+0923. Setting value to 1 with 20% uncertainty.\n"
     ]
    },
    {
     "name": "stdout",
     "output_type": "stream",
     "text": [
      "Initializing the model...\n"
     ]
    },
    {
     "name": "stderr",
     "output_type": "stream",
     "text": [
      "WARNING: Could not find pulsar distance for PSR J0023+0923. Setting value to 1 with 20% uncertainty.\n"
     ]
    },
    {
     "name": "stdout",
     "output_type": "stream",
     "text": [
      "Initializing the model...\n"
     ]
    },
    {
     "name": "stderr",
     "output_type": "stream",
     "text": [
      "WARNING: Could not find pulsar distance for PSR J0023+0923. Setting value to 1 with 20% uncertainty.\n"
     ]
    },
    {
     "name": "stdout",
     "output_type": "stream",
     "text": [
      "Initializing the model...\n"
     ]
    },
    {
     "name": "stderr",
     "output_type": "stream",
     "text": [
      "WARNING: Could not find pulsar distance for PSR J0023+0923. Setting value to 1 with 20% uncertainty.\n"
     ]
    },
    {
     "name": "stdout",
     "output_type": "stream",
     "text": [
      "Initializing the model...\n"
     ]
    },
    {
     "name": "stderr",
     "output_type": "stream",
     "text": [
      "WARNING: Could not find pulsar distance for PSR J0023+0923. Setting value to 1 with 20% uncertainty.\n"
     ]
    },
    {
     "name": "stdout",
     "output_type": "stream",
     "text": [
      "Initializing the model...\n"
     ]
    },
    {
     "name": "stderr",
     "output_type": "stream",
     "text": [
      "WARNING: Could not find pulsar distance for PSR J0023+0923. Setting value to 1 with 20% uncertainty.\n"
     ]
    },
    {
     "name": "stdout",
     "output_type": "stream",
     "text": [
      "Initializing the model...\n"
     ]
    },
    {
     "name": "stderr",
     "output_type": "stream",
     "text": [
      "WARNING: Could not find pulsar distance for PSR J0023+0923. Setting value to 1 with 20% uncertainty.\n"
     ]
    },
    {
     "name": "stdout",
     "output_type": "stream",
     "text": [
      "Initializing the model...\n"
     ]
    },
    {
     "name": "stderr",
     "output_type": "stream",
     "text": [
      "WARNING: Could not find pulsar distance for PSR J0023+0923. Setting value to 1 with 20% uncertainty.\n"
     ]
    },
    {
     "name": "stdout",
     "output_type": "stream",
     "text": [
      "Initializing the model...\n"
     ]
    },
    {
     "name": "stderr",
     "output_type": "stream",
     "text": [
      "WARNING: Could not find pulsar distance for PSR J0023+0923. Setting value to 1 with 20% uncertainty.\n"
     ]
    },
    {
     "name": "stdout",
     "output_type": "stream",
     "text": [
      "Initializing the model...\n"
     ]
    },
    {
     "name": "stderr",
     "output_type": "stream",
     "text": [
      "WARNING: Could not find pulsar distance for PSR J0023+0923. Setting value to 1 with 20% uncertainty.\n"
     ]
    },
    {
     "name": "stdout",
     "output_type": "stream",
     "text": [
      "Initializing the model...\n"
     ]
    },
    {
     "name": "stderr",
     "output_type": "stream",
     "text": [
      "WARNING: Could not find pulsar distance for PSR J0023+0923. Setting value to 1 with 20% uncertainty.\n"
     ]
    },
    {
     "name": "stdout",
     "output_type": "stream",
     "text": [
      "Initializing the model...\n"
     ]
    },
    {
     "name": "stderr",
     "output_type": "stream",
     "text": [
      "WARNING: Could not find pulsar distance for PSR J0023+0923. Setting value to 1 with 20% uncertainty.\n"
     ]
    },
    {
     "name": "stdout",
     "output_type": "stream",
     "text": [
      "Initializing the model...\n"
     ]
    },
    {
     "name": "stderr",
     "output_type": "stream",
     "text": [
      "WARNING: Could not find pulsar distance for PSR J0023+0923. Setting value to 1 with 20% uncertainty.\n"
     ]
    },
    {
     "name": "stdout",
     "output_type": "stream",
     "text": [
      "Initializing the model...\n"
     ]
    },
    {
     "name": "stderr",
     "output_type": "stream",
     "text": [
      "WARNING: Could not find pulsar distance for PSR J0023+0923. Setting value to 1 with 20% uncertainty.\n"
     ]
    },
    {
     "name": "stdout",
     "output_type": "stream",
     "text": [
      "Initializing the model...\n"
     ]
    },
    {
     "name": "stderr",
     "output_type": "stream",
     "text": [
      "WARNING: Could not find pulsar distance for PSR J0023+0923. Setting value to 1 with 20% uncertainty.\n"
     ]
    },
    {
     "name": "stdout",
     "output_type": "stream",
     "text": [
      "Initializing the model...\n"
     ]
    },
    {
     "name": "stderr",
     "output_type": "stream",
     "text": [
      "WARNING: Could not find pulsar distance for PSR J0023+0923. Setting value to 1 with 20% uncertainty.\n"
     ]
    },
    {
     "name": "stdout",
     "output_type": "stream",
     "text": [
      "Initializing the model...\n"
     ]
    },
    {
     "name": "stderr",
     "output_type": "stream",
     "text": [
      "WARNING: Could not find pulsar distance for PSR J0023+0923. Setting value to 1 with 20% uncertainty.\n"
     ]
    },
    {
     "name": "stdout",
     "output_type": "stream",
     "text": [
      "Initializing the model...\n"
     ]
    },
    {
     "name": "stderr",
     "output_type": "stream",
     "text": [
      "WARNING: Could not find pulsar distance for PSR J0023+0923. Setting value to 1 with 20% uncertainty.\n"
     ]
    },
    {
     "name": "stdout",
     "output_type": "stream",
     "text": [
      "Initializing the model...\n"
     ]
    },
    {
     "name": "stderr",
     "output_type": "stream",
     "text": [
      "WARNING: Could not find pulsar distance for PSR J0023+0923. Setting value to 1 with 20% uncertainty.\n"
     ]
    },
    {
     "name": "stdout",
     "output_type": "stream",
     "text": [
      "Initializing the model...\n"
     ]
    },
    {
     "name": "stderr",
     "output_type": "stream",
     "text": [
      "WARNING: Could not find pulsar distance for PSR J0023+0923. Setting value to 1 with 20% uncertainty.\n"
     ]
    },
    {
     "name": "stdout",
     "output_type": "stream",
     "text": [
      "Initializing the model...\n"
     ]
    },
    {
     "name": "stderr",
     "output_type": "stream",
     "text": [
      "WARNING: Could not find pulsar distance for PSR J0023+0923. Setting value to 1 with 20% uncertainty.\n"
     ]
    },
    {
     "name": "stdout",
     "output_type": "stream",
     "text": [
      "Initializing the model...\n"
     ]
    },
    {
     "name": "stderr",
     "output_type": "stream",
     "text": [
      "WARNING: Could not find pulsar distance for PSR J0023+0923. Setting value to 1 with 20% uncertainty.\n"
     ]
    },
    {
     "name": "stdout",
     "output_type": "stream",
     "text": [
      "Initializing the model...\n"
     ]
    },
    {
     "name": "stderr",
     "output_type": "stream",
     "text": [
      "WARNING: Could not find pulsar distance for PSR J0023+0923. Setting value to 1 with 20% uncertainty.\n"
     ]
    },
    {
     "name": "stdout",
     "output_type": "stream",
     "text": [
      "Initializing the model...\n"
     ]
    },
    {
     "name": "stderr",
     "output_type": "stream",
     "text": [
      "WARNING: Could not find pulsar distance for PSR J0023+0923. Setting value to 1 with 20% uncertainty.\n"
     ]
    },
    {
     "name": "stdout",
     "output_type": "stream",
     "text": [
      "Initializing the model...\n"
     ]
    },
    {
     "name": "stderr",
     "output_type": "stream",
     "text": [
      "WARNING: Could not find pulsar distance for PSR J0023+0923. Setting value to 1 with 20% uncertainty.\n"
     ]
    },
    {
     "name": "stdout",
     "output_type": "stream",
     "text": [
      "Initializing the model...\n"
     ]
    },
    {
     "name": "stderr",
     "output_type": "stream",
     "text": [
      "WARNING: Could not find pulsar distance for PSR J0023+0923. Setting value to 1 with 20% uncertainty.\n"
     ]
    },
    {
     "name": "stdout",
     "output_type": "stream",
     "text": [
      "Initializing the model...\n"
     ]
    },
    {
     "name": "stderr",
     "output_type": "stream",
     "text": [
      "WARNING: Could not find pulsar distance for PSR J0023+0923. Setting value to 1 with 20% uncertainty.\n"
     ]
    },
    {
     "name": "stdout",
     "output_type": "stream",
     "text": [
      "Initializing the model...\n"
     ]
    },
    {
     "name": "stderr",
     "output_type": "stream",
     "text": [
      "WARNING: Could not find pulsar distance for PSR J0023+0923. Setting value to 1 with 20% uncertainty.\n"
     ]
    },
    {
     "name": "stdout",
     "output_type": "stream",
     "text": [
      "Initializing the model...\n"
     ]
    },
    {
     "name": "stderr",
     "output_type": "stream",
     "text": [
      "WARNING: Could not find pulsar distance for PSR J0023+0923. Setting value to 1 with 20% uncertainty.\n"
     ]
    },
    {
     "name": "stdout",
     "output_type": "stream",
     "text": [
      "Initializing the model...\n"
     ]
    },
    {
     "name": "stderr",
     "output_type": "stream",
     "text": [
      "WARNING: Could not find pulsar distance for PSR J0023+0923. Setting value to 1 with 20% uncertainty.\n"
     ]
    },
    {
     "name": "stdout",
     "output_type": "stream",
     "text": [
      "Initializing the model...\n"
     ]
    },
    {
     "name": "stderr",
     "output_type": "stream",
     "text": [
      "WARNING: Could not find pulsar distance for PSR J0023+0923. Setting value to 1 with 20% uncertainty.\n"
     ]
    },
    {
     "name": "stdout",
     "output_type": "stream",
     "text": [
      "Initializing the model...\n"
     ]
    },
    {
     "name": "stderr",
     "output_type": "stream",
     "text": [
      "WARNING: Could not find pulsar distance for PSR J0023+0923. Setting value to 1 with 20% uncertainty.\n"
     ]
    },
    {
     "name": "stdout",
     "output_type": "stream",
     "text": [
      "Initializing the model...\n"
     ]
    },
    {
     "name": "stderr",
     "output_type": "stream",
     "text": [
      "WARNING: Could not find pulsar distance for PSR J0023+0923. Setting value to 1 with 20% uncertainty.\n"
     ]
    },
    {
     "name": "stdout",
     "output_type": "stream",
     "text": [
      "Initializing the model...\n"
     ]
    },
    {
     "name": "stderr",
     "output_type": "stream",
     "text": [
      "WARNING: Could not find pulsar distance for PSR J0023+0923. Setting value to 1 with 20% uncertainty.\n"
     ]
    },
    {
     "name": "stdout",
     "output_type": "stream",
     "text": [
      "Initializing the model...\n"
     ]
    },
    {
     "name": "stderr",
     "output_type": "stream",
     "text": [
      "WARNING: Could not find pulsar distance for PSR J0023+0923. Setting value to 1 with 20% uncertainty.\n"
     ]
    },
    {
     "name": "stdout",
     "output_type": "stream",
     "text": [
      "Initializing the model...\n"
     ]
    },
    {
     "name": "stderr",
     "output_type": "stream",
     "text": [
      "WARNING: Could not find pulsar distance for PSR J0023+0923. Setting value to 1 with 20% uncertainty.\n"
     ]
    },
    {
     "name": "stdout",
     "output_type": "stream",
     "text": [
      "Initializing the model...\n"
     ]
    },
    {
     "name": "stderr",
     "output_type": "stream",
     "text": [
      "WARNING: Could not find pulsar distance for PSR J0023+0923. Setting value to 1 with 20% uncertainty.\n"
     ]
    },
    {
     "name": "stdout",
     "output_type": "stream",
     "text": [
      "Initializing the model...\n"
     ]
    },
    {
     "name": "stderr",
     "output_type": "stream",
     "text": [
      "WARNING: Could not find pulsar distance for PSR J0023+0923. Setting value to 1 with 20% uncertainty.\n"
     ]
    },
    {
     "name": "stdout",
     "output_type": "stream",
     "text": [
      "Initializing the model...\n"
     ]
    },
    {
     "name": "stderr",
     "output_type": "stream",
     "text": [
      "WARNING: Could not find pulsar distance for PSR J0023+0923. Setting value to 1 with 20% uncertainty.\n"
     ]
    },
    {
     "name": "stdout",
     "output_type": "stream",
     "text": [
      "Initializing the model...\n"
     ]
    },
    {
     "name": "stderr",
     "output_type": "stream",
     "text": [
      "WARNING: Could not find pulsar distance for PSR J0023+0923. Setting value to 1 with 20% uncertainty.\n"
     ]
    },
    {
     "name": "stdout",
     "output_type": "stream",
     "text": [
      "Initializing the model...\n"
     ]
    },
    {
     "name": "stderr",
     "output_type": "stream",
     "text": [
      "WARNING: Could not find pulsar distance for PSR J0023+0923. Setting value to 1 with 20% uncertainty.\n"
     ]
    },
    {
     "name": "stdout",
     "output_type": "stream",
     "text": [
      "Initializing the model...\n"
     ]
    },
    {
     "name": "stderr",
     "output_type": "stream",
     "text": [
      "WARNING: Could not find pulsar distance for PSR J0023+0923. Setting value to 1 with 20% uncertainty.\n"
     ]
    },
    {
     "name": "stdout",
     "output_type": "stream",
     "text": [
      "Initializing the model...\n"
     ]
    },
    {
     "name": "stderr",
     "output_type": "stream",
     "text": [
      "WARNING: Could not find pulsar distance for PSR J0023+0923. Setting value to 1 with 20% uncertainty.\n"
     ]
    },
    {
     "name": "stdout",
     "output_type": "stream",
     "text": [
      "Initializing the model...\n"
     ]
    },
    {
     "name": "stderr",
     "output_type": "stream",
     "text": [
      "WARNING: Could not find pulsar distance for PSR J0023+0923. Setting value to 1 with 20% uncertainty.\n"
     ]
    },
    {
     "name": "stdout",
     "output_type": "stream",
     "text": [
      "Initializing the model...\n"
     ]
    },
    {
     "name": "stderr",
     "output_type": "stream",
     "text": [
      "WARNING: Could not find pulsar distance for PSR J0023+0923. Setting value to 1 with 20% uncertainty.\n"
     ]
    },
    {
     "name": "stdout",
     "output_type": "stream",
     "text": [
      "Initializing the model...\n"
     ]
    },
    {
     "name": "stderr",
     "output_type": "stream",
     "text": [
      "WARNING: Could not find pulsar distance for PSR J0023+0923. Setting value to 1 with 20% uncertainty.\n"
     ]
    },
    {
     "name": "stdout",
     "output_type": "stream",
     "text": [
      "Initializing the model...\n"
     ]
    },
    {
     "name": "stderr",
     "output_type": "stream",
     "text": [
      "WARNING: Could not find pulsar distance for PSR J0023+0923. Setting value to 1 with 20% uncertainty.\n"
     ]
    },
    {
     "name": "stdout",
     "output_type": "stream",
     "text": [
      "Initializing the model...\n"
     ]
    },
    {
     "name": "stderr",
     "output_type": "stream",
     "text": [
      "WARNING: Could not find pulsar distance for PSR J0023+0923. Setting value to 1 with 20% uncertainty.\n"
     ]
    },
    {
     "name": "stdout",
     "output_type": "stream",
     "text": [
      "Initializing the model...\n"
     ]
    },
    {
     "name": "stderr",
     "output_type": "stream",
     "text": [
      "WARNING: Could not find pulsar distance for PSR J0023+0923. Setting value to 1 with 20% uncertainty.\n"
     ]
    },
    {
     "name": "stdout",
     "output_type": "stream",
     "text": [
      "Initializing the model...\n"
     ]
    },
    {
     "name": "stderr",
     "output_type": "stream",
     "text": [
      "WARNING: Could not find pulsar distance for PSR J0023+0923. Setting value to 1 with 20% uncertainty.\n"
     ]
    },
    {
     "name": "stdout",
     "output_type": "stream",
     "text": [
      "Initializing the model...\n"
     ]
    },
    {
     "name": "stderr",
     "output_type": "stream",
     "text": [
      "WARNING: Could not find pulsar distance for PSR J0023+0923. Setting value to 1 with 20% uncertainty.\n"
     ]
    },
    {
     "name": "stdout",
     "output_type": "stream",
     "text": [
      "Initializing the model...\n"
     ]
    },
    {
     "name": "stderr",
     "output_type": "stream",
     "text": [
      "WARNING: Could not find pulsar distance for PSR J0023+0923. Setting value to 1 with 20% uncertainty.\n"
     ]
    },
    {
     "name": "stdout",
     "output_type": "stream",
     "text": [
      "Initializing the model...\n"
     ]
    },
    {
     "name": "stderr",
     "output_type": "stream",
     "text": [
      "WARNING: Could not find pulsar distance for PSR J0023+0923. Setting value to 1 with 20% uncertainty.\n"
     ]
    },
    {
     "name": "stdout",
     "output_type": "stream",
     "text": [
      "Initializing the model...\n"
     ]
    },
    {
     "name": "stderr",
     "output_type": "stream",
     "text": [
      "WARNING: Could not find pulsar distance for PSR J0023+0923. Setting value to 1 with 20% uncertainty.\n"
     ]
    },
    {
     "name": "stdout",
     "output_type": "stream",
     "text": [
      "Initializing the model...\n"
     ]
    },
    {
     "name": "stderr",
     "output_type": "stream",
     "text": [
      "WARNING: Could not find pulsar distance for PSR J0023+0923. Setting value to 1 with 20% uncertainty.\n"
     ]
    },
    {
     "name": "stdout",
     "output_type": "stream",
     "text": [
      "Initializing the model...\n"
     ]
    },
    {
     "name": "stderr",
     "output_type": "stream",
     "text": [
      "WARNING: Could not find pulsar distance for PSR J0023+0923. Setting value to 1 with 20% uncertainty.\n"
     ]
    },
    {
     "name": "stdout",
     "output_type": "stream",
     "text": [
      "Initializing the model...\n"
     ]
    },
    {
     "name": "stderr",
     "output_type": "stream",
     "text": [
      "WARNING: Could not find pulsar distance for PSR J0023+0923. Setting value to 1 with 20% uncertainty.\n"
     ]
    },
    {
     "name": "stdout",
     "output_type": "stream",
     "text": [
      "Initializing the model...\n"
     ]
    },
    {
     "name": "stderr",
     "output_type": "stream",
     "text": [
      "WARNING: Could not find pulsar distance for PSR J0023+0923. Setting value to 1 with 20% uncertainty.\n"
     ]
    },
    {
     "name": "stdout",
     "output_type": "stream",
     "text": [
      "Initializing the model...\n"
     ]
    },
    {
     "name": "stderr",
     "output_type": "stream",
     "text": [
      "WARNING: Could not find pulsar distance for PSR J0023+0923. Setting value to 1 with 20% uncertainty.\n"
     ]
    },
    {
     "name": "stdout",
     "output_type": "stream",
     "text": [
      "Initializing the model...\n"
     ]
    },
    {
     "name": "stderr",
     "output_type": "stream",
     "text": [
      "WARNING: Could not find pulsar distance for PSR J0023+0923. Setting value to 1 with 20% uncertainty.\n"
     ]
    },
    {
     "name": "stdout",
     "output_type": "stream",
     "text": [
      "Initializing the model...\n"
     ]
    },
    {
     "name": "stderr",
     "output_type": "stream",
     "text": [
      "WARNING: Could not find pulsar distance for PSR J0023+0923. Setting value to 1 with 20% uncertainty.\n"
     ]
    },
    {
     "name": "stdout",
     "output_type": "stream",
     "text": [
      "Initializing the model...\n"
     ]
    },
    {
     "name": "stderr",
     "output_type": "stream",
     "text": [
      "WARNING: Could not find pulsar distance for PSR J0023+0923. Setting value to 1 with 20% uncertainty.\n"
     ]
    },
    {
     "name": "stdout",
     "output_type": "stream",
     "text": [
      "Initializing the model...\n"
     ]
    },
    {
     "name": "stderr",
     "output_type": "stream",
     "text": [
      "WARNING: Could not find pulsar distance for PSR J0023+0923. Setting value to 1 with 20% uncertainty.\n"
     ]
    },
    {
     "name": "stdout",
     "output_type": "stream",
     "text": [
      "Initializing the model...\n"
     ]
    },
    {
     "name": "stderr",
     "output_type": "stream",
     "text": [
      "WARNING: Could not find pulsar distance for PSR J0023+0923. Setting value to 1 with 20% uncertainty.\n"
     ]
    },
    {
     "name": "stdout",
     "output_type": "stream",
     "text": [
      "Initializing the model...\n"
     ]
    },
    {
     "name": "stderr",
     "output_type": "stream",
     "text": [
      "WARNING: Could not find pulsar distance for PSR J0023+0923. Setting value to 1 with 20% uncertainty.\n"
     ]
    },
    {
     "name": "stdout",
     "output_type": "stream",
     "text": [
      "Initializing the model...\n"
     ]
    },
    {
     "name": "stderr",
     "output_type": "stream",
     "text": [
      "WARNING: Could not find pulsar distance for PSR J0023+0923. Setting value to 1 with 20% uncertainty.\n"
     ]
    },
    {
     "name": "stdout",
     "output_type": "stream",
     "text": [
      "Initializing the model...\n"
     ]
    },
    {
     "name": "stderr",
     "output_type": "stream",
     "text": [
      "WARNING: Could not find pulsar distance for PSR J0023+0923. Setting value to 1 with 20% uncertainty.\n"
     ]
    },
    {
     "name": "stdout",
     "output_type": "stream",
     "text": [
      "Initializing the model...\n"
     ]
    },
    {
     "name": "stderr",
     "output_type": "stream",
     "text": [
      "WARNING: Could not find pulsar distance for PSR J0023+0923. Setting value to 1 with 20% uncertainty.\n"
     ]
    },
    {
     "name": "stdout",
     "output_type": "stream",
     "text": [
      "Initializing the model...\n"
     ]
    },
    {
     "name": "stderr",
     "output_type": "stream",
     "text": [
      "WARNING: Could not find pulsar distance for PSR J0023+0923. Setting value to 1 with 20% uncertainty.\n"
     ]
    },
    {
     "name": "stdout",
     "output_type": "stream",
     "text": [
      "Initializing the model...\n"
     ]
    },
    {
     "name": "stderr",
     "output_type": "stream",
     "text": [
      "WARNING: Could not find pulsar distance for PSR J0023+0923. Setting value to 1 with 20% uncertainty.\n"
     ]
    },
    {
     "name": "stdout",
     "output_type": "stream",
     "text": [
      "Initializing the model...\n"
     ]
    },
    {
     "name": "stderr",
     "output_type": "stream",
     "text": [
      "WARNING: Could not find pulsar distance for PSR J0023+0923. Setting value to 1 with 20% uncertainty.\n"
     ]
    },
    {
     "name": "stdout",
     "output_type": "stream",
     "text": [
      "Initializing the model...\n"
     ]
    },
    {
     "name": "stderr",
     "output_type": "stream",
     "text": [
      "WARNING: Could not find pulsar distance for PSR J0023+0923. Setting value to 1 with 20% uncertainty.\n"
     ]
    },
    {
     "name": "stdout",
     "output_type": "stream",
     "text": [
      "Initializing the model...\n"
     ]
    },
    {
     "name": "stderr",
     "output_type": "stream",
     "text": [
      "WARNING: Could not find pulsar distance for PSR J0023+0923. Setting value to 1 with 20% uncertainty.\n"
     ]
    },
    {
     "name": "stdout",
     "output_type": "stream",
     "text": [
      "Initializing the model...\n"
     ]
    },
    {
     "name": "stderr",
     "output_type": "stream",
     "text": [
      "WARNING: Could not find pulsar distance for PSR J0023+0923. Setting value to 1 with 20% uncertainty.\n"
     ]
    },
    {
     "name": "stdout",
     "output_type": "stream",
     "text": [
      "Initializing the model...\n"
     ]
    },
    {
     "name": "stderr",
     "output_type": "stream",
     "text": [
      "WARNING: Could not find pulsar distance for PSR J0023+0923. Setting value to 1 with 20% uncertainty.\n"
     ]
    },
    {
     "name": "stdout",
     "output_type": "stream",
     "text": [
      "Initializing the model...\n"
     ]
    },
    {
     "name": "stderr",
     "output_type": "stream",
     "text": [
      "WARNING: Could not find pulsar distance for PSR J0023+0923. Setting value to 1 with 20% uncertainty.\n"
     ]
    },
    {
     "name": "stdout",
     "output_type": "stream",
     "text": [
      "Initializing the model...\n"
     ]
    },
    {
     "name": "stderr",
     "output_type": "stream",
     "text": [
      "WARNING: Could not find pulsar distance for PSR J0023+0923. Setting value to 1 with 20% uncertainty.\n"
     ]
    },
    {
     "name": "stdout",
     "output_type": "stream",
     "text": [
      "Initializing the model...\n"
     ]
    },
    {
     "name": "stderr",
     "output_type": "stream",
     "text": [
      "WARNING: Could not find pulsar distance for PSR J0023+0923. Setting value to 1 with 20% uncertainty.\n"
     ]
    },
    {
     "name": "stdout",
     "output_type": "stream",
     "text": [
      "Initializing the model...\n"
     ]
    },
    {
     "name": "stderr",
     "output_type": "stream",
     "text": [
      "WARNING: Could not find pulsar distance for PSR J0023+0923. Setting value to 1 with 20% uncertainty.\n"
     ]
    },
    {
     "name": "stdout",
     "output_type": "stream",
     "text": [
      "Initializing the model...\n"
     ]
    },
    {
     "name": "stderr",
     "output_type": "stream",
     "text": [
      "WARNING: Could not find pulsar distance for PSR J0023+0923. Setting value to 1 with 20% uncertainty.\n"
     ]
    },
    {
     "name": "stdout",
     "output_type": "stream",
     "text": [
      "Initializing the model...\n"
     ]
    },
    {
     "name": "stderr",
     "output_type": "stream",
     "text": [
      "WARNING: Could not find pulsar distance for PSR J0023+0923. Setting value to 1 with 20% uncertainty.\n"
     ]
    },
    {
     "name": "stdout",
     "output_type": "stream",
     "text": [
      "Initializing the model...\n"
     ]
    },
    {
     "name": "stderr",
     "output_type": "stream",
     "text": [
      "WARNING: Could not find pulsar distance for PSR J0023+0923. Setting value to 1 with 20% uncertainty.\n"
     ]
    },
    {
     "name": "stdout",
     "output_type": "stream",
     "text": [
      "Initializing the model...\n"
     ]
    },
    {
     "name": "stderr",
     "output_type": "stream",
     "text": [
      "WARNING: Could not find pulsar distance for PSR J0023+0923. Setting value to 1 with 20% uncertainty.\n"
     ]
    },
    {
     "name": "stdout",
     "output_type": "stream",
     "text": [
      "Initializing the model...\n"
     ]
    },
    {
     "name": "stderr",
     "output_type": "stream",
     "text": [
      "WARNING: Could not find pulsar distance for PSR J0023+0923. Setting value to 1 with 20% uncertainty.\n"
     ]
    },
    {
     "name": "stdout",
     "output_type": "stream",
     "text": [
      "Initializing the model...\n"
     ]
    },
    {
     "name": "stderr",
     "output_type": "stream",
     "text": [
      "WARNING: Could not find pulsar distance for PSR J0023+0923. Setting value to 1 with 20% uncertainty.\n"
     ]
    },
    {
     "name": "stdout",
     "output_type": "stream",
     "text": [
      "Initializing the model...\n"
     ]
    },
    {
     "name": "stderr",
     "output_type": "stream",
     "text": [
      "WARNING: Could not find pulsar distance for PSR J0023+0923. Setting value to 1 with 20% uncertainty.\n"
     ]
    },
    {
     "name": "stdout",
     "output_type": "stream",
     "text": [
      "Initializing the model...\n"
     ]
    },
    {
     "name": "stderr",
     "output_type": "stream",
     "text": [
      "WARNING: Could not find pulsar distance for PSR J0023+0923. Setting value to 1 with 20% uncertainty.\n"
     ]
    },
    {
     "name": "stdout",
     "output_type": "stream",
     "text": [
      "Initializing the model...\n"
     ]
    },
    {
     "name": "stderr",
     "output_type": "stream",
     "text": [
      "WARNING: Could not find pulsar distance for PSR J0023+0923. Setting value to 1 with 20% uncertainty.\n"
     ]
    },
    {
     "name": "stdout",
     "output_type": "stream",
     "text": [
      "Initializing the model...\n"
     ]
    },
    {
     "name": "stderr",
     "output_type": "stream",
     "text": [
      "WARNING: Could not find pulsar distance for PSR J0023+0923. Setting value to 1 with 20% uncertainty.\n"
     ]
    },
    {
     "name": "stdout",
     "output_type": "stream",
     "text": [
      "Initializing the model...\n"
     ]
    },
    {
     "name": "stderr",
     "output_type": "stream",
     "text": [
      "WARNING: Could not find pulsar distance for PSR J0023+0923. Setting value to 1 with 20% uncertainty.\n"
     ]
    },
    {
     "name": "stdout",
     "output_type": "stream",
     "text": [
      "Initializing the model...\n"
     ]
    },
    {
     "name": "stderr",
     "output_type": "stream",
     "text": [
      "WARNING: Could not find pulsar distance for PSR J0023+0923. Setting value to 1 with 20% uncertainty.\n"
     ]
    },
    {
     "name": "stdout",
     "output_type": "stream",
     "text": [
      "Initializing the model...\n"
     ]
    },
    {
     "name": "stderr",
     "output_type": "stream",
     "text": [
      "WARNING: Could not find pulsar distance for PSR J0023+0923. Setting value to 1 with 20% uncertainty.\n"
     ]
    },
    {
     "name": "stdout",
     "output_type": "stream",
     "text": [
      "Initializing the model...\n"
     ]
    },
    {
     "name": "stderr",
     "output_type": "stream",
     "text": [
      "WARNING: Could not find pulsar distance for PSR J0023+0923. Setting value to 1 with 20% uncertainty.\n"
     ]
    },
    {
     "name": "stdout",
     "output_type": "stream",
     "text": [
      "Initializing the model...\n"
     ]
    },
    {
     "name": "stderr",
     "output_type": "stream",
     "text": [
      "WARNING: Could not find pulsar distance for PSR J0023+0923. Setting value to 1 with 20% uncertainty.\n"
     ]
    },
    {
     "name": "stdout",
     "output_type": "stream",
     "text": [
      "Initializing the model...\n"
     ]
    },
    {
     "name": "stderr",
     "output_type": "stream",
     "text": [
      "WARNING: Could not find pulsar distance for PSR J0023+0923. Setting value to 1 with 20% uncertainty.\n"
     ]
    },
    {
     "name": "stdout",
     "output_type": "stream",
     "text": [
      "Initializing the model...\n"
     ]
    },
    {
     "name": "stderr",
     "output_type": "stream",
     "text": [
      "WARNING: Could not find pulsar distance for PSR J0023+0923. Setting value to 1 with 20% uncertainty.\n"
     ]
    },
    {
     "name": "stdout",
     "output_type": "stream",
     "text": [
      "Initializing the model...\n"
     ]
    },
    {
     "name": "stderr",
     "output_type": "stream",
     "text": [
      "WARNING: Could not find pulsar distance for PSR J0023+0923. Setting value to 1 with 20% uncertainty.\n"
     ]
    },
    {
     "name": "stdout",
     "output_type": "stream",
     "text": [
      "Initializing the model...\n"
     ]
    },
    {
     "name": "stderr",
     "output_type": "stream",
     "text": [
      "WARNING: Could not find pulsar distance for PSR J0023+0923. Setting value to 1 with 20% uncertainty.\n"
     ]
    },
    {
     "name": "stdout",
     "output_type": "stream",
     "text": [
      "Initializing the model...\n"
     ]
    },
    {
     "name": "stderr",
     "output_type": "stream",
     "text": [
      "WARNING: Could not find pulsar distance for PSR J0023+0923. Setting value to 1 with 20% uncertainty.\n"
     ]
    },
    {
     "name": "stdout",
     "output_type": "stream",
     "text": [
      "Initializing the model...\n"
     ]
    },
    {
     "name": "stderr",
     "output_type": "stream",
     "text": [
      "WARNING: Could not find pulsar distance for PSR J0023+0923. Setting value to 1 with 20% uncertainty.\n"
     ]
    },
    {
     "name": "stdout",
     "output_type": "stream",
     "text": [
      "Initializing the model...\n"
     ]
    },
    {
     "name": "stderr",
     "output_type": "stream",
     "text": [
      "WARNING: Could not find pulsar distance for PSR J0023+0923. Setting value to 1 with 20% uncertainty.\n"
     ]
    },
    {
     "name": "stdout",
     "output_type": "stream",
     "text": [
      "Initializing the model...\n"
     ]
    },
    {
     "name": "stderr",
     "output_type": "stream",
     "text": [
      "WARNING: Could not find pulsar distance for PSR J0023+0923. Setting value to 1 with 20% uncertainty.\n"
     ]
    },
    {
     "name": "stdout",
     "output_type": "stream",
     "text": [
      "Initializing the model...\n"
     ]
    },
    {
     "name": "stderr",
     "output_type": "stream",
     "text": [
      "WARNING: Could not find pulsar distance for PSR J0023+0923. Setting value to 1 with 20% uncertainty.\n"
     ]
    },
    {
     "name": "stdout",
     "output_type": "stream",
     "text": [
      "Initializing the model...\n"
     ]
    },
    {
     "name": "stderr",
     "output_type": "stream",
     "text": [
      "WARNING: Could not find pulsar distance for PSR J0023+0923. Setting value to 1 with 20% uncertainty.\n"
     ]
    },
    {
     "name": "stdout",
     "output_type": "stream",
     "text": [
      "Initializing the model...\n"
     ]
    },
    {
     "name": "stderr",
     "output_type": "stream",
     "text": [
      "WARNING: Could not find pulsar distance for PSR J0023+0923. Setting value to 1 with 20% uncertainty.\n"
     ]
    },
    {
     "name": "stdout",
     "output_type": "stream",
     "text": [
      "Initializing the model...\n"
     ]
    },
    {
     "name": "stderr",
     "output_type": "stream",
     "text": [
      "WARNING: Could not find pulsar distance for PSR J0023+0923. Setting value to 1 with 20% uncertainty.\n"
     ]
    },
    {
     "name": "stdout",
     "output_type": "stream",
     "text": [
      "Initializing the model...\n"
     ]
    },
    {
     "name": "stderr",
     "output_type": "stream",
     "text": [
      "WARNING: Could not find pulsar distance for PSR J0023+0923. Setting value to 1 with 20% uncertainty.\n"
     ]
    },
    {
     "name": "stdout",
     "output_type": "stream",
     "text": [
      "Initializing the model...\n"
     ]
    },
    {
     "name": "stderr",
     "output_type": "stream",
     "text": [
      "WARNING: Could not find pulsar distance for PSR J0023+0923. Setting value to 1 with 20% uncertainty.\n"
     ]
    },
    {
     "name": "stdout",
     "output_type": "stream",
     "text": [
      "Initializing the model...\n"
     ]
    },
    {
     "name": "stderr",
     "output_type": "stream",
     "text": [
      "WARNING: Could not find pulsar distance for PSR J0023+0923. Setting value to 1 with 20% uncertainty.\n"
     ]
    },
    {
     "name": "stdout",
     "output_type": "stream",
     "text": [
      "Initializing the model...\n"
     ]
    },
    {
     "name": "stderr",
     "output_type": "stream",
     "text": [
      "WARNING: Could not find pulsar distance for PSR J0023+0923. Setting value to 1 with 20% uncertainty.\n"
     ]
    },
    {
     "name": "stdout",
     "output_type": "stream",
     "text": [
      "Initializing the model...\n"
     ]
    },
    {
     "name": "stderr",
     "output_type": "stream",
     "text": [
      "WARNING: Could not find pulsar distance for PSR J0023+0923. Setting value to 1 with 20% uncertainty.\n"
     ]
    },
    {
     "name": "stdout",
     "output_type": "stream",
     "text": [
      "Initializing the model...\n"
     ]
    },
    {
     "name": "stderr",
     "output_type": "stream",
     "text": [
      "WARNING: Could not find pulsar distance for PSR J0023+0923. Setting value to 1 with 20% uncertainty.\n"
     ]
    },
    {
     "name": "stdout",
     "output_type": "stream",
     "text": [
      "Initializing the model...\n"
     ]
    },
    {
     "name": "stderr",
     "output_type": "stream",
     "text": [
      "WARNING: Could not find pulsar distance for PSR J0023+0923. Setting value to 1 with 20% uncertainty.\n"
     ]
    },
    {
     "name": "stdout",
     "output_type": "stream",
     "text": [
      "Initializing the model...\n"
     ]
    },
    {
     "name": "stderr",
     "output_type": "stream",
     "text": [
      "WARNING: Could not find pulsar distance for PSR J0023+0923. Setting value to 1 with 20% uncertainty.\n"
     ]
    },
    {
     "name": "stdout",
     "output_type": "stream",
     "text": [
      "Initializing the model...\n"
     ]
    },
    {
     "name": "stderr",
     "output_type": "stream",
     "text": [
      "WARNING: Could not find pulsar distance for PSR J0023+0923. Setting value to 1 with 20% uncertainty.\n"
     ]
    },
    {
     "name": "stdout",
     "output_type": "stream",
     "text": [
      "Initializing the model...\n"
     ]
    },
    {
     "name": "stderr",
     "output_type": "stream",
     "text": [
      "WARNING: Could not find pulsar distance for PSR J0023+0923. Setting value to 1 with 20% uncertainty.\n"
     ]
    },
    {
     "name": "stdout",
     "output_type": "stream",
     "text": [
      "Initializing the model...\n"
     ]
    },
    {
     "name": "stderr",
     "output_type": "stream",
     "text": [
      "WARNING: Could not find pulsar distance for PSR J0023+0923. Setting value to 1 with 20% uncertainty.\n"
     ]
    },
    {
     "name": "stdout",
     "output_type": "stream",
     "text": [
      "Initializing the model...\n"
     ]
    },
    {
     "name": "stderr",
     "output_type": "stream",
     "text": [
      "WARNING: Could not find pulsar distance for PSR J0023+0923. Setting value to 1 with 20% uncertainty.\n"
     ]
    },
    {
     "name": "stdout",
     "output_type": "stream",
     "text": [
      "Initializing the model...\n"
     ]
    },
    {
     "name": "stderr",
     "output_type": "stream",
     "text": [
      "WARNING: Could not find pulsar distance for PSR J0023+0923. Setting value to 1 with 20% uncertainty.\n"
     ]
    },
    {
     "name": "stdout",
     "output_type": "stream",
     "text": [
      "Initializing the model...\n"
     ]
    },
    {
     "name": "stderr",
     "output_type": "stream",
     "text": [
      "WARNING: Could not find pulsar distance for PSR J0023+0923. Setting value to 1 with 20% uncertainty.\n"
     ]
    },
    {
     "name": "stdout",
     "output_type": "stream",
     "text": [
      "Initializing the model...\n"
     ]
    },
    {
     "name": "stderr",
     "output_type": "stream",
     "text": [
      "WARNING: Could not find pulsar distance for PSR J0023+0923. Setting value to 1 with 20% uncertainty.\n"
     ]
    },
    {
     "name": "stdout",
     "output_type": "stream",
     "text": [
      "Initializing the model...\n"
     ]
    },
    {
     "name": "stderr",
     "output_type": "stream",
     "text": [
      "WARNING: Could not find pulsar distance for PSR J0023+0923. Setting value to 1 with 20% uncertainty.\n"
     ]
    },
    {
     "name": "stdout",
     "output_type": "stream",
     "text": [
      "Initializing the model...\n"
     ]
    },
    {
     "name": "stderr",
     "output_type": "stream",
     "text": [
      "WARNING: Could not find pulsar distance for PSR J0023+0923. Setting value to 1 with 20% uncertainty.\n"
     ]
    },
    {
     "name": "stdout",
     "output_type": "stream",
     "text": [
      "Initializing the model...\n"
     ]
    },
    {
     "name": "stderr",
     "output_type": "stream",
     "text": [
      "WARNING: Could not find pulsar distance for PSR J0023+0923. Setting value to 1 with 20% uncertainty.\n"
     ]
    },
    {
     "name": "stdout",
     "output_type": "stream",
     "text": [
      "Initializing the model...\n"
     ]
    },
    {
     "name": "stderr",
     "output_type": "stream",
     "text": [
      "WARNING: Could not find pulsar distance for PSR J0023+0923. Setting value to 1 with 20% uncertainty.\n"
     ]
    },
    {
     "name": "stdout",
     "output_type": "stream",
     "text": [
      "Initializing the model...\n"
     ]
    },
    {
     "name": "stderr",
     "output_type": "stream",
     "text": [
      "WARNING: Could not find pulsar distance for PSR J0023+0923. Setting value to 1 with 20% uncertainty.\n"
     ]
    },
    {
     "name": "stdout",
     "output_type": "stream",
     "text": [
      "Initializing the model...\n"
     ]
    },
    {
     "name": "stderr",
     "output_type": "stream",
     "text": [
      "WARNING: Could not find pulsar distance for PSR J0023+0923. Setting value to 1 with 20% uncertainty.\n"
     ]
    },
    {
     "name": "stdout",
     "output_type": "stream",
     "text": [
      "Initializing the model...\n"
     ]
    },
    {
     "name": "stderr",
     "output_type": "stream",
     "text": [
      "WARNING: Could not find pulsar distance for PSR J0023+0923. Setting value to 1 with 20% uncertainty.\n"
     ]
    },
    {
     "name": "stdout",
     "output_type": "stream",
     "text": [
      "Initializing the model...\n"
     ]
    },
    {
     "name": "stderr",
     "output_type": "stream",
     "text": [
      "WARNING: Could not find pulsar distance for PSR J0023+0923. Setting value to 1 with 20% uncertainty.\n"
     ]
    },
    {
     "name": "stdout",
     "output_type": "stream",
     "text": [
      "Initializing the model...\n"
     ]
    },
    {
     "name": "stderr",
     "output_type": "stream",
     "text": [
      "WARNING: Could not find pulsar distance for PSR J0023+0923. Setting value to 1 with 20% uncertainty.\n"
     ]
    },
    {
     "name": "stdout",
     "output_type": "stream",
     "text": [
      "Initializing the model...\n"
     ]
    },
    {
     "name": "stderr",
     "output_type": "stream",
     "text": [
      "WARNING: Could not find pulsar distance for PSR J0023+0923. Setting value to 1 with 20% uncertainty.\n"
     ]
    },
    {
     "name": "stdout",
     "output_type": "stream",
     "text": [
      "Initializing the model...\n"
     ]
    },
    {
     "name": "stderr",
     "output_type": "stream",
     "text": [
      "WARNING: Could not find pulsar distance for PSR J0023+0923. Setting value to 1 with 20% uncertainty.\n"
     ]
    },
    {
     "name": "stdout",
     "output_type": "stream",
     "text": [
      "Initializing the model...\n"
     ]
    },
    {
     "name": "stderr",
     "output_type": "stream",
     "text": [
      "WARNING: Could not find pulsar distance for PSR J0023+0923. Setting value to 1 with 20% uncertainty.\n"
     ]
    },
    {
     "name": "stdout",
     "output_type": "stream",
     "text": [
      "Initializing the model...\n"
     ]
    },
    {
     "name": "stderr",
     "output_type": "stream",
     "text": [
      "WARNING: Could not find pulsar distance for PSR J0023+0923. Setting value to 1 with 20% uncertainty.\n"
     ]
    },
    {
     "name": "stdout",
     "output_type": "stream",
     "text": [
      "Initializing the model...\n"
     ]
    },
    {
     "name": "stderr",
     "output_type": "stream",
     "text": [
      "WARNING: Could not find pulsar distance for PSR J0023+0923. Setting value to 1 with 20% uncertainty.\n"
     ]
    },
    {
     "name": "stdout",
     "output_type": "stream",
     "text": [
      "Initializing the model...\n"
     ]
    },
    {
     "name": "stderr",
     "output_type": "stream",
     "text": [
      "WARNING: Could not find pulsar distance for PSR J0023+0923. Setting value to 1 with 20% uncertainty.\n"
     ]
    },
    {
     "name": "stdout",
     "output_type": "stream",
     "text": [
      "Initializing the model...\n"
     ]
    },
    {
     "name": "stderr",
     "output_type": "stream",
     "text": [
      "WARNING: Could not find pulsar distance for PSR J0023+0923. Setting value to 1 with 20% uncertainty.\n"
     ]
    },
    {
     "name": "stdout",
     "output_type": "stream",
     "text": [
      "Initializing the model...\n"
     ]
    },
    {
     "name": "stderr",
     "output_type": "stream",
     "text": [
      "WARNING: Could not find pulsar distance for PSR J0023+0923. Setting value to 1 with 20% uncertainty.\n"
     ]
    },
    {
     "name": "stdout",
     "output_type": "stream",
     "text": [
      "Initializing the model...\n"
     ]
    },
    {
     "name": "stderr",
     "output_type": "stream",
     "text": [
      "WARNING: Could not find pulsar distance for PSR J0023+0923. Setting value to 1 with 20% uncertainty.\n"
     ]
    },
    {
     "name": "stdout",
     "output_type": "stream",
     "text": [
      "Initializing the model...\n"
     ]
    },
    {
     "name": "stderr",
     "output_type": "stream",
     "text": [
      "WARNING: Could not find pulsar distance for PSR J0023+0923. Setting value to 1 with 20% uncertainty.\n"
     ]
    },
    {
     "name": "stdout",
     "output_type": "stream",
     "text": [
      "Initializing the model...\n"
     ]
    },
    {
     "name": "stderr",
     "output_type": "stream",
     "text": [
      "WARNING: Could not find pulsar distance for PSR J0023+0923. Setting value to 1 with 20% uncertainty.\n"
     ]
    },
    {
     "name": "stdout",
     "output_type": "stream",
     "text": [
      "Initializing the model...\n"
     ]
    },
    {
     "name": "stderr",
     "output_type": "stream",
     "text": [
      "WARNING: Could not find pulsar distance for PSR J0023+0923. Setting value to 1 with 20% uncertainty.\n"
     ]
    },
    {
     "name": "stdout",
     "output_type": "stream",
     "text": [
      "Initializing the model...\n"
     ]
    },
    {
     "name": "stderr",
     "output_type": "stream",
     "text": [
      "WARNING: Could not find pulsar distance for PSR J0023+0923. Setting value to 1 with 20% uncertainty.\n"
     ]
    },
    {
     "name": "stdout",
     "output_type": "stream",
     "text": [
      "Initializing the model...\n"
     ]
    },
    {
     "name": "stderr",
     "output_type": "stream",
     "text": [
      "WARNING: Could not find pulsar distance for PSR J0023+0923. Setting value to 1 with 20% uncertainty.\n"
     ]
    },
    {
     "name": "stdout",
     "output_type": "stream",
     "text": [
      "Initializing the model...\n"
     ]
    },
    {
     "name": "stderr",
     "output_type": "stream",
     "text": [
      "WARNING: Could not find pulsar distance for PSR J0023+0923. Setting value to 1 with 20% uncertainty.\n"
     ]
    },
    {
     "name": "stdout",
     "output_type": "stream",
     "text": [
      "Initializing the model...\n"
     ]
    },
    {
     "name": "stderr",
     "output_type": "stream",
     "text": [
      "WARNING: Could not find pulsar distance for PSR J0023+0923. Setting value to 1 with 20% uncertainty.\n"
     ]
    },
    {
     "name": "stdout",
     "output_type": "stream",
     "text": [
      "Initializing the model...\n"
     ]
    },
    {
     "name": "stderr",
     "output_type": "stream",
     "text": [
      "WARNING: Could not find pulsar distance for PSR J0023+0923. Setting value to 1 with 20% uncertainty.\n"
     ]
    },
    {
     "name": "stdout",
     "output_type": "stream",
     "text": [
      "Initializing the model...\n"
     ]
    },
    {
     "name": "stderr",
     "output_type": "stream",
     "text": [
      "WARNING: Could not find pulsar distance for PSR J0023+0923. Setting value to 1 with 20% uncertainty.\n"
     ]
    },
    {
     "name": "stdout",
     "output_type": "stream",
     "text": [
      "Initializing the model...\n"
     ]
    },
    {
     "name": "stderr",
     "output_type": "stream",
     "text": [
      "WARNING: Could not find pulsar distance for PSR J0023+0923. Setting value to 1 with 20% uncertainty.\n"
     ]
    },
    {
     "name": "stdout",
     "output_type": "stream",
     "text": [
      "Initializing the model...\n"
     ]
    },
    {
     "name": "stderr",
     "output_type": "stream",
     "text": [
      "WARNING: Could not find pulsar distance for PSR J0023+0923. Setting value to 1 with 20% uncertainty.\n"
     ]
    },
    {
     "name": "stdout",
     "output_type": "stream",
     "text": [
      "Initializing the model...\n"
     ]
    },
    {
     "name": "stderr",
     "output_type": "stream",
     "text": [
      "WARNING: Could not find pulsar distance for PSR J0023+0923. Setting value to 1 with 20% uncertainty.\n"
     ]
    },
    {
     "name": "stdout",
     "output_type": "stream",
     "text": [
      "Initializing the model...\n"
     ]
    },
    {
     "name": "stderr",
     "output_type": "stream",
     "text": [
      "WARNING: Could not find pulsar distance for PSR J0023+0923. Setting value to 1 with 20% uncertainty.\n"
     ]
    },
    {
     "name": "stdout",
     "output_type": "stream",
     "text": [
      "Initializing the model...\n"
     ]
    },
    {
     "name": "stderr",
     "output_type": "stream",
     "text": [
      "WARNING: Could not find pulsar distance for PSR J0023+0923. Setting value to 1 with 20% uncertainty.\n"
     ]
    },
    {
     "name": "stdout",
     "output_type": "stream",
     "text": [
      "Initializing the model...\n"
     ]
    },
    {
     "name": "stderr",
     "output_type": "stream",
     "text": [
      "WARNING: Could not find pulsar distance for PSR J0023+0923. Setting value to 1 with 20% uncertainty.\n"
     ]
    },
    {
     "name": "stdout",
     "output_type": "stream",
     "text": [
      "Initializing the model...\n"
     ]
    },
    {
     "name": "stderr",
     "output_type": "stream",
     "text": [
      "WARNING: Could not find pulsar distance for PSR J0023+0923. Setting value to 1 with 20% uncertainty.\n"
     ]
    },
    {
     "name": "stdout",
     "output_type": "stream",
     "text": [
      "Initializing the model...\n"
     ]
    },
    {
     "name": "stderr",
     "output_type": "stream",
     "text": [
      "WARNING: Could not find pulsar distance for PSR J0023+0923. Setting value to 1 with 20% uncertainty.\n"
     ]
    },
    {
     "name": "stdout",
     "output_type": "stream",
     "text": [
      "Initializing the model...\n"
     ]
    },
    {
     "name": "stderr",
     "output_type": "stream",
     "text": [
      "WARNING: Could not find pulsar distance for PSR J0023+0923. Setting value to 1 with 20% uncertainty.\n"
     ]
    },
    {
     "name": "stdout",
     "output_type": "stream",
     "text": [
      "Initializing the model...\n"
     ]
    },
    {
     "name": "stderr",
     "output_type": "stream",
     "text": [
      "WARNING: Could not find pulsar distance for PSR J0023+0923. Setting value to 1 with 20% uncertainty.\n"
     ]
    },
    {
     "name": "stdout",
     "output_type": "stream",
     "text": [
      "Initializing the model...\n"
     ]
    },
    {
     "name": "stderr",
     "output_type": "stream",
     "text": [
      "WARNING: Could not find pulsar distance for PSR J0023+0923. Setting value to 1 with 20% uncertainty.\n"
     ]
    },
    {
     "name": "stdout",
     "output_type": "stream",
     "text": [
      "Initializing the model...\n"
     ]
    },
    {
     "name": "stderr",
     "output_type": "stream",
     "text": [
      "WARNING: Could not find pulsar distance for PSR J0023+0923. Setting value to 1 with 20% uncertainty.\n"
     ]
    },
    {
     "name": "stdout",
     "output_type": "stream",
     "text": [
      "Initializing the model...\n"
     ]
    },
    {
     "name": "stderr",
     "output_type": "stream",
     "text": [
      "WARNING: Could not find pulsar distance for PSR J0023+0923. Setting value to 1 with 20% uncertainty.\n"
     ]
    },
    {
     "name": "stdout",
     "output_type": "stream",
     "text": [
      "Initializing the model...\n"
     ]
    },
    {
     "name": "stderr",
     "output_type": "stream",
     "text": [
      "WARNING: Could not find pulsar distance for PSR J0023+0923. Setting value to 1 with 20% uncertainty.\n"
     ]
    },
    {
     "name": "stdout",
     "output_type": "stream",
     "text": [
      "Initializing the model...\n"
     ]
    },
    {
     "name": "stderr",
     "output_type": "stream",
     "text": [
      "WARNING: Could not find pulsar distance for PSR J0023+0923. Setting value to 1 with 20% uncertainty.\n"
     ]
    },
    {
     "name": "stdout",
     "output_type": "stream",
     "text": [
      "Initializing the model...\n"
     ]
    },
    {
     "name": "stderr",
     "output_type": "stream",
     "text": [
      "WARNING: Could not find pulsar distance for PSR J0023+0923. Setting value to 1 with 20% uncertainty.\n"
     ]
    },
    {
     "name": "stdout",
     "output_type": "stream",
     "text": [
      "Initializing the model...\n"
     ]
    },
    {
     "name": "stderr",
     "output_type": "stream",
     "text": [
      "WARNING: Could not find pulsar distance for PSR J0023+0923. Setting value to 1 with 20% uncertainty.\n"
     ]
    },
    {
     "name": "stdout",
     "output_type": "stream",
     "text": [
      "Initializing the model...\n"
     ]
    },
    {
     "name": "stderr",
     "output_type": "stream",
     "text": [
      "WARNING: Could not find pulsar distance for PSR J0023+0923. Setting value to 1 with 20% uncertainty.\n"
     ]
    },
    {
     "name": "stdout",
     "output_type": "stream",
     "text": [
      "Initializing the model...\n"
     ]
    },
    {
     "name": "stderr",
     "output_type": "stream",
     "text": [
      "WARNING: Could not find pulsar distance for PSR J0023+0923. Setting value to 1 with 20% uncertainty.\n"
     ]
    },
    {
     "name": "stdout",
     "output_type": "stream",
     "text": [
      "Initializing the model...\n"
     ]
    },
    {
     "name": "stderr",
     "output_type": "stream",
     "text": [
      "WARNING: Could not find pulsar distance for PSR J0023+0923. Setting value to 1 with 20% uncertainty.\n"
     ]
    },
    {
     "name": "stdout",
     "output_type": "stream",
     "text": [
      "Initializing the model...\n"
     ]
    },
    {
     "name": "stderr",
     "output_type": "stream",
     "text": [
      "WARNING: Could not find pulsar distance for PSR J0023+0923. Setting value to 1 with 20% uncertainty.\n"
     ]
    },
    {
     "name": "stdout",
     "output_type": "stream",
     "text": [
      "Initializing the model...\n"
     ]
    },
    {
     "name": "stderr",
     "output_type": "stream",
     "text": [
      "WARNING: Could not find pulsar distance for PSR J0023+0923. Setting value to 1 with 20% uncertainty.\n"
     ]
    },
    {
     "name": "stdout",
     "output_type": "stream",
     "text": [
      "Initializing the model...\n"
     ]
    },
    {
     "name": "stderr",
     "output_type": "stream",
     "text": [
      "WARNING: Could not find pulsar distance for PSR J0023+0923. Setting value to 1 with 20% uncertainty.\n"
     ]
    },
    {
     "name": "stdout",
     "output_type": "stream",
     "text": [
      "Initializing the model...\n"
     ]
    },
    {
     "name": "stderr",
     "output_type": "stream",
     "text": [
      "WARNING: Could not find pulsar distance for PSR J0023+0923. Setting value to 1 with 20% uncertainty.\n"
     ]
    },
    {
     "name": "stdout",
     "output_type": "stream",
     "text": [
      "Initializing the model...\n"
     ]
    },
    {
     "name": "stderr",
     "output_type": "stream",
     "text": [
      "WARNING: Could not find pulsar distance for PSR J0023+0923. Setting value to 1 with 20% uncertainty.\n"
     ]
    },
    {
     "name": "stdout",
     "output_type": "stream",
     "text": [
      "Initializing the model...\n"
     ]
    },
    {
     "name": "stderr",
     "output_type": "stream",
     "text": [
      "WARNING: Could not find pulsar distance for PSR J0023+0923. Setting value to 1 with 20% uncertainty.\n"
     ]
    },
    {
     "name": "stdout",
     "output_type": "stream",
     "text": [
      "Initializing the model...\n"
     ]
    },
    {
     "name": "stderr",
     "output_type": "stream",
     "text": [
      "WARNING: Could not find pulsar distance for PSR J0023+0923. Setting value to 1 with 20% uncertainty.\n"
     ]
    },
    {
     "name": "stdout",
     "output_type": "stream",
     "text": [
      "Initializing the model...\n"
     ]
    },
    {
     "name": "stderr",
     "output_type": "stream",
     "text": [
      "WARNING: Could not find pulsar distance for PSR J0023+0923. Setting value to 1 with 20% uncertainty.\n"
     ]
    },
    {
     "name": "stdout",
     "output_type": "stream",
     "text": [
      "Initializing the model...\n"
     ]
    },
    {
     "name": "stderr",
     "output_type": "stream",
     "text": [
      "WARNING: Could not find pulsar distance for PSR J0023+0923. Setting value to 1 with 20% uncertainty.\n"
     ]
    },
    {
     "name": "stdout",
     "output_type": "stream",
     "text": [
      "Initializing the model...\n"
     ]
    },
    {
     "name": "stderr",
     "output_type": "stream",
     "text": [
      "WARNING: Could not find pulsar distance for PSR J0023+0923. Setting value to 1 with 20% uncertainty.\n"
     ]
    },
    {
     "name": "stdout",
     "output_type": "stream",
     "text": [
      "Initializing the model...\n"
     ]
    },
    {
     "name": "stderr",
     "output_type": "stream",
     "text": [
      "WARNING: Could not find pulsar distance for PSR J0023+0923. Setting value to 1 with 20% uncertainty.\n"
     ]
    },
    {
     "name": "stdout",
     "output_type": "stream",
     "text": [
      "Initializing the model...\n"
     ]
    },
    {
     "name": "stderr",
     "output_type": "stream",
     "text": [
      "WARNING: Could not find pulsar distance for PSR J0023+0923. Setting value to 1 with 20% uncertainty.\n"
     ]
    },
    {
     "name": "stdout",
     "output_type": "stream",
     "text": [
      "Initializing the model...\n"
     ]
    },
    {
     "name": "stderr",
     "output_type": "stream",
     "text": [
      "WARNING: Could not find pulsar distance for PSR J0023+0923. Setting value to 1 with 20% uncertainty.\n"
     ]
    },
    {
     "name": "stdout",
     "output_type": "stream",
     "text": [
      "Initializing the model...\n"
     ]
    },
    {
     "name": "stderr",
     "output_type": "stream",
     "text": [
      "WARNING: Could not find pulsar distance for PSR J0023+0923. Setting value to 1 with 20% uncertainty.\n"
     ]
    },
    {
     "name": "stdout",
     "output_type": "stream",
     "text": [
      "Initializing the model...\n"
     ]
    },
    {
     "name": "stderr",
     "output_type": "stream",
     "text": [
      "WARNING: Could not find pulsar distance for PSR J0023+0923. Setting value to 1 with 20% uncertainty.\n"
     ]
    },
    {
     "name": "stdout",
     "output_type": "stream",
     "text": [
      "Initializing the model...\n"
     ]
    },
    {
     "name": "stderr",
     "output_type": "stream",
     "text": [
      "WARNING: Could not find pulsar distance for PSR J0023+0923. Setting value to 1 with 20% uncertainty.\n"
     ]
    },
    {
     "name": "stdout",
     "output_type": "stream",
     "text": [
      "Initializing the model...\n"
     ]
    },
    {
     "name": "stderr",
     "output_type": "stream",
     "text": [
      "WARNING: Could not find pulsar distance for PSR J0023+0923. Setting value to 1 with 20% uncertainty.\n"
     ]
    },
    {
     "name": "stdout",
     "output_type": "stream",
     "text": [
      "Initializing the model...\n"
     ]
    },
    {
     "name": "stderr",
     "output_type": "stream",
     "text": [
      "WARNING: Could not find pulsar distance for PSR J0023+0923. Setting value to 1 with 20% uncertainty.\n"
     ]
    },
    {
     "name": "stdout",
     "output_type": "stream",
     "text": [
      "Initializing the model...\n"
     ]
    },
    {
     "name": "stderr",
     "output_type": "stream",
     "text": [
      "WARNING: Could not find pulsar distance for PSR J0023+0923. Setting value to 1 with 20% uncertainty.\n"
     ]
    },
    {
     "name": "stdout",
     "output_type": "stream",
     "text": [
      "Initializing the model...\n"
     ]
    },
    {
     "name": "stderr",
     "output_type": "stream",
     "text": [
      "WARNING: Could not find pulsar distance for PSR J0023+0923. Setting value to 1 with 20% uncertainty.\n"
     ]
    },
    {
     "name": "stdout",
     "output_type": "stream",
     "text": [
      "Initializing the model...\n"
     ]
    },
    {
     "name": "stderr",
     "output_type": "stream",
     "text": [
      "WARNING: Could not find pulsar distance for PSR J0023+0923. Setting value to 1 with 20% uncertainty.\n"
     ]
    },
    {
     "name": "stdout",
     "output_type": "stream",
     "text": [
      "Initializing the model...\n"
     ]
    },
    {
     "name": "stderr",
     "output_type": "stream",
     "text": [
      "WARNING: Could not find pulsar distance for PSR J0023+0923. Setting value to 1 with 20% uncertainty.\n"
     ]
    },
    {
     "name": "stdout",
     "output_type": "stream",
     "text": [
      "Initializing the model...\n"
     ]
    },
    {
     "name": "stderr",
     "output_type": "stream",
     "text": [
      "WARNING: Could not find pulsar distance for PSR J0023+0923. Setting value to 1 with 20% uncertainty.\n"
     ]
    },
    {
     "name": "stdout",
     "output_type": "stream",
     "text": [
      "Initializing the model...\n"
     ]
    },
    {
     "name": "stderr",
     "output_type": "stream",
     "text": [
      "WARNING: Could not find pulsar distance for PSR J0023+0923. Setting value to 1 with 20% uncertainty.\n"
     ]
    },
    {
     "name": "stdout",
     "output_type": "stream",
     "text": [
      "Initializing the model...\n"
     ]
    },
    {
     "name": "stderr",
     "output_type": "stream",
     "text": [
      "WARNING: Could not find pulsar distance for PSR J0023+0923. Setting value to 1 with 20% uncertainty.\n"
     ]
    },
    {
     "name": "stdout",
     "output_type": "stream",
     "text": [
      "Initializing the model...\n"
     ]
    },
    {
     "name": "stderr",
     "output_type": "stream",
     "text": [
      "WARNING: Could not find pulsar distance for PSR J0023+0923. Setting value to 1 with 20% uncertainty.\n"
     ]
    },
    {
     "name": "stdout",
     "output_type": "stream",
     "text": [
      "Initializing the model...\n"
     ]
    },
    {
     "name": "stderr",
     "output_type": "stream",
     "text": [
      "WARNING: Could not find pulsar distance for PSR J0023+0923. Setting value to 1 with 20% uncertainty.\n"
     ]
    },
    {
     "name": "stdout",
     "output_type": "stream",
     "text": [
      "Initializing the model...\n"
     ]
    },
    {
     "name": "stderr",
     "output_type": "stream",
     "text": [
      "WARNING: Could not find pulsar distance for PSR J0023+0923. Setting value to 1 with 20% uncertainty.\n"
     ]
    },
    {
     "name": "stdout",
     "output_type": "stream",
     "text": [
      "Initializing the model...\n"
     ]
    },
    {
     "name": "stderr",
     "output_type": "stream",
     "text": [
      "WARNING: Could not find pulsar distance for PSR J0023+0923. Setting value to 1 with 20% uncertainty.\n"
     ]
    },
    {
     "name": "stdout",
     "output_type": "stream",
     "text": [
      "Initializing the model...\n"
     ]
    },
    {
     "name": "stderr",
     "output_type": "stream",
     "text": [
      "WARNING: Could not find pulsar distance for PSR J0023+0923. Setting value to 1 with 20% uncertainty.\n"
     ]
    },
    {
     "name": "stdout",
     "output_type": "stream",
     "text": [
      "Initializing the model...\n"
     ]
    },
    {
     "name": "stderr",
     "output_type": "stream",
     "text": [
      "WARNING: Could not find pulsar distance for PSR J0023+0923. Setting value to 1 with 20% uncertainty.\n"
     ]
    },
    {
     "name": "stdout",
     "output_type": "stream",
     "text": [
      "Initializing the model...\n"
     ]
    },
    {
     "name": "stderr",
     "output_type": "stream",
     "text": [
      "WARNING: Could not find pulsar distance for PSR J0023+0923. Setting value to 1 with 20% uncertainty.\n"
     ]
    },
    {
     "name": "stdout",
     "output_type": "stream",
     "text": [
      "Initializing the model...\n"
     ]
    },
    {
     "name": "stderr",
     "output_type": "stream",
     "text": [
      "WARNING: Could not find pulsar distance for PSR J0023+0923. Setting value to 1 with 20% uncertainty.\n"
     ]
    },
    {
     "name": "stdout",
     "output_type": "stream",
     "text": [
      "Initializing the model...\n"
     ]
    },
    {
     "name": "stderr",
     "output_type": "stream",
     "text": [
      "WARNING: Could not find pulsar distance for PSR J0023+0923. Setting value to 1 with 20% uncertainty.\n"
     ]
    },
    {
     "name": "stdout",
     "output_type": "stream",
     "text": [
      "Initializing the model...\n"
     ]
    },
    {
     "name": "stderr",
     "output_type": "stream",
     "text": [
      "WARNING: Could not find pulsar distance for PSR J0023+0923. Setting value to 1 with 20% uncertainty.\n"
     ]
    },
    {
     "name": "stdout",
     "output_type": "stream",
     "text": [
      "Initializing the model...\n"
     ]
    },
    {
     "name": "stderr",
     "output_type": "stream",
     "text": [
      "WARNING: Could not find pulsar distance for PSR J0023+0923. Setting value to 1 with 20% uncertainty.\n"
     ]
    },
    {
     "name": "stdout",
     "output_type": "stream",
     "text": [
      "Initializing the model...\n"
     ]
    },
    {
     "name": "stderr",
     "output_type": "stream",
     "text": [
      "WARNING: Could not find pulsar distance for PSR J0023+0923. Setting value to 1 with 20% uncertainty.\n"
     ]
    },
    {
     "name": "stdout",
     "output_type": "stream",
     "text": [
      "Initializing the model...\n"
     ]
    },
    {
     "name": "stderr",
     "output_type": "stream",
     "text": [
      "WARNING: Could not find pulsar distance for PSR J0023+0923. Setting value to 1 with 20% uncertainty.\n"
     ]
    },
    {
     "name": "stdout",
     "output_type": "stream",
     "text": [
      "Initializing the model...\n"
     ]
    },
    {
     "name": "stderr",
     "output_type": "stream",
     "text": [
      "WARNING: Could not find pulsar distance for PSR J0023+0923. Setting value to 1 with 20% uncertainty.\n"
     ]
    },
    {
     "name": "stdout",
     "output_type": "stream",
     "text": [
      "Initializing the model...\n"
     ]
    },
    {
     "name": "stderr",
     "output_type": "stream",
     "text": [
      "WARNING: Could not find pulsar distance for PSR J0023+0923. Setting value to 1 with 20% uncertainty.\n"
     ]
    },
    {
     "name": "stdout",
     "output_type": "stream",
     "text": [
      "Initializing the model...\n"
     ]
    },
    {
     "name": "stderr",
     "output_type": "stream",
     "text": [
      "WARNING: Could not find pulsar distance for PSR J0023+0923. Setting value to 1 with 20% uncertainty.\n"
     ]
    },
    {
     "name": "stdout",
     "output_type": "stream",
     "text": [
      "Initializing the model...\n"
     ]
    },
    {
     "name": "stderr",
     "output_type": "stream",
     "text": [
      "WARNING: Could not find pulsar distance for PSR J0023+0923. Setting value to 1 with 20% uncertainty.\n"
     ]
    },
    {
     "name": "stdout",
     "output_type": "stream",
     "text": [
      "Initializing the model...\n"
     ]
    },
    {
     "name": "stderr",
     "output_type": "stream",
     "text": [
      "WARNING: Could not find pulsar distance for PSR J0023+0923. Setting value to 1 with 20% uncertainty.\n"
     ]
    },
    {
     "name": "stdout",
     "output_type": "stream",
     "text": [
      "Initializing the model...\n"
     ]
    },
    {
     "name": "stderr",
     "output_type": "stream",
     "text": [
      "WARNING: Could not find pulsar distance for PSR J0023+0923. Setting value to 1 with 20% uncertainty.\n"
     ]
    },
    {
     "name": "stdout",
     "output_type": "stream",
     "text": [
      "Initializing the model...\n"
     ]
    },
    {
     "name": "stderr",
     "output_type": "stream",
     "text": [
      "WARNING: Could not find pulsar distance for PSR J0023+0923. Setting value to 1 with 20% uncertainty.\n"
     ]
    },
    {
     "name": "stdout",
     "output_type": "stream",
     "text": [
      "Initializing the model...\n"
     ]
    },
    {
     "name": "stderr",
     "output_type": "stream",
     "text": [
      "WARNING: Could not find pulsar distance for PSR J0023+0923. Setting value to 1 with 20% uncertainty.\n"
     ]
    },
    {
     "name": "stdout",
     "output_type": "stream",
     "text": [
      "Initializing the model...\n"
     ]
    },
    {
     "name": "stderr",
     "output_type": "stream",
     "text": [
      "WARNING: Could not find pulsar distance for PSR J0023+0923. Setting value to 1 with 20% uncertainty.\n"
     ]
    },
    {
     "name": "stdout",
     "output_type": "stream",
     "text": [
      "Initializing the model...\n"
     ]
    },
    {
     "name": "stderr",
     "output_type": "stream",
     "text": [
      "WARNING: Could not find pulsar distance for PSR J0023+0923. Setting value to 1 with 20% uncertainty.\n"
     ]
    },
    {
     "name": "stdout",
     "output_type": "stream",
     "text": [
      "Initializing the model...\n"
     ]
    },
    {
     "name": "stderr",
     "output_type": "stream",
     "text": [
      "WARNING: Could not find pulsar distance for PSR J0023+0923. Setting value to 1 with 20% uncertainty.\n"
     ]
    },
    {
     "name": "stdout",
     "output_type": "stream",
     "text": [
      "Initializing the model...\n"
     ]
    },
    {
     "name": "stderr",
     "output_type": "stream",
     "text": [
      "WARNING: Could not find pulsar distance for PSR J0023+0923. Setting value to 1 with 20% uncertainty.\n"
     ]
    },
    {
     "name": "stdout",
     "output_type": "stream",
     "text": [
      "Initializing the model...\n"
     ]
    },
    {
     "name": "stderr",
     "output_type": "stream",
     "text": [
      "WARNING: Could not find pulsar distance for PSR J0023+0923. Setting value to 1 with 20% uncertainty.\n"
     ]
    },
    {
     "name": "stdout",
     "output_type": "stream",
     "text": [
      "Initializing the model...\n"
     ]
    },
    {
     "name": "stderr",
     "output_type": "stream",
     "text": [
      "WARNING: Could not find pulsar distance for PSR J0023+0923. Setting value to 1 with 20% uncertainty.\n"
     ]
    },
    {
     "name": "stdout",
     "output_type": "stream",
     "text": [
      "Initializing the model...\n"
     ]
    },
    {
     "name": "stderr",
     "output_type": "stream",
     "text": [
      "WARNING: Could not find pulsar distance for PSR J0023+0923. Setting value to 1 with 20% uncertainty.\n"
     ]
    },
    {
     "name": "stdout",
     "output_type": "stream",
     "text": [
      "Initializing the model...\n"
     ]
    },
    {
     "name": "stderr",
     "output_type": "stream",
     "text": [
      "WARNING: Could not find pulsar distance for PSR J0023+0923. Setting value to 1 with 20% uncertainty.\n"
     ]
    },
    {
     "name": "stdout",
     "output_type": "stream",
     "text": [
      "Initializing the model...\n"
     ]
    },
    {
     "name": "stderr",
     "output_type": "stream",
     "text": [
      "WARNING: Could not find pulsar distance for PSR J0023+0923. Setting value to 1 with 20% uncertainty.\n"
     ]
    },
    {
     "name": "stdout",
     "output_type": "stream",
     "text": [
      "Initializing the model...\n"
     ]
    },
    {
     "name": "stderr",
     "output_type": "stream",
     "text": [
      "WARNING: Could not find pulsar distance for PSR J0023+0923. Setting value to 1 with 20% uncertainty.\n"
     ]
    },
    {
     "name": "stdout",
     "output_type": "stream",
     "text": [
      "Initializing the model...\n"
     ]
    },
    {
     "name": "stderr",
     "output_type": "stream",
     "text": [
      "WARNING: Could not find pulsar distance for PSR J0023+0923. Setting value to 1 with 20% uncertainty.\n"
     ]
    },
    {
     "name": "stdout",
     "output_type": "stream",
     "text": [
      "Initializing the model...\n"
     ]
    },
    {
     "name": "stderr",
     "output_type": "stream",
     "text": [
      "WARNING: Could not find pulsar distance for PSR J0023+0923. Setting value to 1 with 20% uncertainty.\n"
     ]
    },
    {
     "name": "stdout",
     "output_type": "stream",
     "text": [
      "Initializing the model...\n"
     ]
    },
    {
     "name": "stderr",
     "output_type": "stream",
     "text": [
      "WARNING: Could not find pulsar distance for PSR J0023+0923. Setting value to 1 with 20% uncertainty.\n"
     ]
    },
    {
     "name": "stdout",
     "output_type": "stream",
     "text": [
      "Initializing the model...\n"
     ]
    },
    {
     "name": "stderr",
     "output_type": "stream",
     "text": [
      "WARNING: Could not find pulsar distance for PSR J0023+0923. Setting value to 1 with 20% uncertainty.\n"
     ]
    },
    {
     "name": "stdout",
     "output_type": "stream",
     "text": [
      "Initializing the model...\n"
     ]
    },
    {
     "name": "stderr",
     "output_type": "stream",
     "text": [
      "WARNING: Could not find pulsar distance for PSR J0023+0923. Setting value to 1 with 20% uncertainty.\n"
     ]
    },
    {
     "name": "stdout",
     "output_type": "stream",
     "text": [
      "Initializing the model...\n"
     ]
    },
    {
     "name": "stderr",
     "output_type": "stream",
     "text": [
      "WARNING: Could not find pulsar distance for PSR J0023+0923. Setting value to 1 with 20% uncertainty.\n"
     ]
    },
    {
     "name": "stdout",
     "output_type": "stream",
     "text": [
      "Initializing the model...\n"
     ]
    },
    {
     "name": "stderr",
     "output_type": "stream",
     "text": [
      "WARNING: Could not find pulsar distance for PSR J0023+0923. Setting value to 1 with 20% uncertainty.\n"
     ]
    },
    {
     "name": "stdout",
     "output_type": "stream",
     "text": [
      "Initializing the model...\n"
     ]
    },
    {
     "name": "stderr",
     "output_type": "stream",
     "text": [
      "WARNING: Could not find pulsar distance for PSR J0023+0923. Setting value to 1 with 20% uncertainty.\n"
     ]
    },
    {
     "name": "stdout",
     "output_type": "stream",
     "text": [
      "Initializing the model...\n"
     ]
    }
   ],
   "source": [
    "from enterprise.pulsar import Pulsar\n",
    "\n",
    "\n",
    "partim_dir = '/home/nima/nanograv/bwm_fpfe/sandbox/'\n",
    "\n",
    "burst_epoch = (53000 + 365.25*6) * 24*3600\n",
    "for realization in range(201, 800):\n",
    "    realization_psrs = []\n",
    "    for psrname in psrnames:\n",
    "        parfile = partim_dir + '/WN_4psr_sims_LT_{}/{}_fake.par'.format(realization, psrname)\n",
    "        timfile = partim_dir + '/WN_4psr_sims_LT_{}/{}_fake.tim'.format(realization, psrname)\n",
    "        \n",
    "        realization_psrs.append(Pulsar(parfile,timfile))\n",
    "    realization_FpStat = FpStat(realization_psrs,noisedict=fake_noisedict)\n",
    "    fps.append(realization_FpStat.compute_Fp_bwm(t0 = burst_epoch))\n",
    "    "
   ]
  },
  {
   "cell_type": "code",
   "execution_count": 19,
   "id": "2d544fc6",
   "metadata": {},
   "outputs": [],
   "source": [
    "from scipy.special import gamma\n",
    "from scipy.optimize import curve_fit\n",
    "import scipy.stats as stats\n",
    "def chisq(x, k = 2):\n",
    "    prefactor = 1/(2**(k/2) * gamma(k/2))\n",
    "    postfactor = x**(k/2 - 1) * np.exp(-x/2)\n",
    "    \n",
    "    return prefactor*postfactor\n",
    "\n",
    "def nc_chisq_wrapper(x, dof, nc):\n",
    "    return stats.ncx2.pdf(x, dof, nc, loc=0, scale=1)"
   ]
  },
  {
   "cell_type": "code",
   "execution_count": 43,
   "id": "27d28b05",
   "metadata": {},
   "outputs": [
    {
     "name": "stdout",
     "output_type": "stream",
     "text": [
      "2.4861273715013894\n",
      "4.972254743002779\n"
     ]
    }
   ],
   "source": [
    "twofps = [2* f for f in fps]\n",
    "print(fps[0])\n",
    "print(twofps[0])"
   ]
  },
  {
   "cell_type": "code",
   "execution_count": 44,
   "id": "a126840a",
   "metadata": {},
   "outputs": [
    {
     "data": {
      "image/png": "[encoded data removed]",
      "text/plain": [
       "<Figure size 432x288 with 1 Axes>"
      ]
     },
     "metadata": {
      "needs_background": "light"
     },
     "output_type": "display_data"
    }
   ],
   "source": [
    "n, bins, patches = plt.hist(twofps, bins=40, histtype='step', density=True)\n",
    "plt.title(\"Fps for 4-PSR Data Set\")\n",
    "plt.xlabel(\"Fp\")\n",
    "plt.ylabel(\"pdf\")\n",
    "midpts = [(bins[i] + bins[i+1])/2 for i in range(len(bins)-1)]\n",
    "counts = n"
   ]
  },
  {
   "cell_type": "code",
   "execution_count": 45,
   "id": "41a530b4",
   "metadata": {},
   "outputs": [],
   "source": [
    "popt, pcov = curve_fit(nc_chisq_wrapper,midpts, counts)"
   ]
  },
  {
   "cell_type": "code",
   "execution_count": 46,
   "id": "a0002375",
   "metadata": {},
   "outputs": [
    {
     "data": {
      "text/plain": [
       "Text(0, 0.5, 'pdf')"
      ]
     },
     "execution_count": 46,
     "metadata": {},
     "output_type": "execute_result"
    },
    {
     "data": {
      "image/png": "[encoded data removed]",
      "text/plain": [
       "<Figure size 432x288 with 1 Axes>"
      ]
     },
     "metadata": {
      "needs_background": "light"
     },
     "output_type": "display_data"
    }
   ],
   "source": [
    "n, bins, patches = plt.hist(twofps, bins=40, histtype='step', density=True, label='Simulation Results')\n",
    "fitted = []\n",
    "for pt in midpts:\n",
    "    fitted.append(nc_chisq_wrapper(pt, dof=popt[0], nc=popt[1]))\n",
    "plt.plot(midpts, fitted, ls='--', color='tab:red', label='Chi-Sq Fit (k = {:.02f}, nc = {:.02f})'.format(popt[0], popt[1]))\n",
    "plt.title(\"Fps for 4-PSR Data Set\")\n",
    "plt.legend()\n",
    "plt.xlabel(\"Fp\")\n",
    "plt.ylabel(\"pdf\")"
   ]
  },
  {
   "cell_type": "code",
   "execution_count": null,
   "id": "0d069242",
   "metadata": {},
   "outputs": [],
   "source": []
  },
  {
   "cell_type": "code",
   "execution_count": null,
   "id": "ec2e8fe7",
   "metadata": {},
   "outputs": [],
   "source": []
  }
 ],
 "metadata": {
  "kernelspec": {
   "display_name": "Python 3 (ipykernel)",
   "language": "python",
   "name": "python3"
  },
  "language_info": {
   "codemirror_mode": {
    "name": "ipython",
    "version": 3
   },
   "file_extension": ".py",
   "mimetype": "text/x-python",
   "name": "python",
   "nbconvert_exporter": "python",
   "pygments_lexer": "ipython3",
   "version": "3.8.12"
  }
 },
 "nbformat": 4,
 "nbformat_minor": 5
}
